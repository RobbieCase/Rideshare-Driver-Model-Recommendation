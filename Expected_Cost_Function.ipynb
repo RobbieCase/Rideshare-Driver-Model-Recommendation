{
  "cells": [
    {
      "cell_type": "markdown",
      "metadata": {
        "id": "view-in-github",
        "colab_type": "text"
      },
      "source": [
        "<a href=\"https://colab.research.google.com/github/zwellman99/Rideshare-Driver-Model-Recommendation/blob/main/Expected_Cost_Function.ipynb\" target=\"_parent\"><img src=\"https://colab.research.google.com/assets/colab-badge.svg\" alt=\"Open In Colab\"/></a>"
      ]
    },
    {
      "cell_type": "markdown",
      "metadata": {
        "id": "HurnRDEcE5-m"
      },
      "source": [
        "\n",
        "Uber and Lyft Dataset Boston, MA | Kaggle (57 columns, 60k rows)\n",
        "https://www.kaggle.com/datasets/brllrb/uber-and-lyft-dataset-boston-ma\n",
        "\n",
        "Uber Fares Dataset | Kaggle (9 columns, 200k rows)\n",
        "https://www.kaggle.com/datasets/yasserh/uber-fares-dataset\n"
      ]
    },
    {
      "cell_type": "code",
      "execution_count": 2,
      "metadata": {
        "id": "73CnCmCrFQ0B",
        "colab": {
          "base_uri": "https://localhost:8080/"
        },
        "outputId": "834076c4-ace7-4f31-9c5c-a50c62a035aa"
      },
      "outputs": [
        {
          "output_type": "stream",
          "name": "stdout",
          "text": [
            "Looking in indexes: https://pypi.org/simple, https://us-python.pkg.dev/colab-wheels/public/simple/\n",
            "Requirement already satisfied: opendatasets in /usr/local/lib/python3.9/dist-packages (0.1.22)\n",
            "Requirement already satisfied: kaggle in /usr/local/lib/python3.9/dist-packages (from opendatasets) (1.5.13)\n",
            "Requirement already satisfied: tqdm in /usr/local/lib/python3.9/dist-packages (from opendatasets) (4.65.0)\n",
            "Requirement already satisfied: click in /usr/local/lib/python3.9/dist-packages (from opendatasets) (8.1.3)\n",
            "Requirement already satisfied: requests in /usr/local/lib/python3.9/dist-packages (from kaggle->opendatasets) (2.27.1)\n",
            "Requirement already satisfied: six>=1.10 in /usr/local/lib/python3.9/dist-packages (from kaggle->opendatasets) (1.15.0)\n",
            "Requirement already satisfied: certifi in /usr/local/lib/python3.9/dist-packages (from kaggle->opendatasets) (2022.12.7)\n",
            "Requirement already satisfied: python-dateutil in /usr/local/lib/python3.9/dist-packages (from kaggle->opendatasets) (2.8.2)\n",
            "Requirement already satisfied: urllib3 in /usr/local/lib/python3.9/dist-packages (from kaggle->opendatasets) (1.26.15)\n",
            "Requirement already satisfied: python-slugify in /usr/local/lib/python3.9/dist-packages (from kaggle->opendatasets) (8.0.1)\n",
            "Requirement already satisfied: text-unidecode>=1.3 in /usr/local/lib/python3.9/dist-packages (from python-slugify->kaggle->opendatasets) (1.3)\n",
            "Requirement already satisfied: idna<4,>=2.5 in /usr/local/lib/python3.9/dist-packages (from requests->kaggle->opendatasets) (3.4)\n",
            "Requirement already satisfied: charset-normalizer~=2.0.0 in /usr/local/lib/python3.9/dist-packages (from requests->kaggle->opendatasets) (2.0.12)\n",
            "Looking in indexes: https://pypi.org/simple, https://us-python.pkg.dev/colab-wheels/public/simple/\n",
            "Requirement already satisfied: pandas in /usr/local/lib/python3.9/dist-packages (1.4.4)\n",
            "Requirement already satisfied: pytz>=2020.1 in /usr/local/lib/python3.9/dist-packages (from pandas) (2022.7.1)\n",
            "Requirement already satisfied: numpy>=1.18.5 in /usr/local/lib/python3.9/dist-packages (from pandas) (1.22.4)\n",
            "Requirement already satisfied: python-dateutil>=2.8.1 in /usr/local/lib/python3.9/dist-packages (from pandas) (2.8.2)\n",
            "Requirement already satisfied: six>=1.5 in /usr/local/lib/python3.9/dist-packages (from python-dateutil>=2.8.1->pandas) (1.15.0)\n",
            "Mounted at /content/drive\n"
          ]
        }
      ],
      "source": [
        "!pip install -q kaggle\n",
        "!pip install opendatasets\n",
        "!pip install pandas\n",
        "import opendatasets as od\n",
        "import pandas as pd\n",
        "import numpy as np\n",
        "import os\n",
        "from google.colab import drive\n",
        "\n",
        "drive.mount('/content/drive')"
      ]
    },
    {
      "cell_type": "code",
      "source": [
        "from kaggle.api.kaggle_api_extended import KaggleApi"
      ],
      "metadata": {
        "id": "BbZUfkhc81me"
      },
      "execution_count": 3,
      "outputs": []
    },
    {
      "cell_type": "code",
      "source": [
        "od.download(\"https://www.kaggle.com/datasets/brllrb/uber-and-lyft-dataset-boston-ma\")\n",
        "os.chdir('/content/uber-and-lyft-dataset-boston-ma')\n",
        "uber_df = pd.read_csv(\"rideshare_kaggle.csv\")"
      ],
      "metadata": {
        "colab": {
          "base_uri": "https://localhost:8080/"
        },
        "id": "NfcT4aCZbZUy",
        "outputId": "6ce09513-9999-4777-9616-85caa32ec93b"
      },
      "execution_count": 4,
      "outputs": [
        {
          "output_type": "stream",
          "name": "stdout",
          "text": [
            "Please provide your Kaggle credentials to download this dataset. Learn more: http://bit.ly/kaggle-creds\n",
            "Your Kaggle username: blakeandersonw\n",
            "Your Kaggle Key: ··········\n",
            "Downloading uber-and-lyft-dataset-boston-ma.zip to ./uber-and-lyft-dataset-boston-ma\n"
          ]
        },
        {
          "output_type": "stream",
          "name": "stderr",
          "text": [
            "100%|██████████| 44.5M/44.5M [00:00<00:00, 60.0MB/s]\n"
          ]
        },
        {
          "output_type": "stream",
          "name": "stdout",
          "text": [
            "\n"
          ]
        }
      ]
    },
    {
      "cell_type": "code",
      "source": [
        "od.download(\"https://www.kaggle.com/datasets/yasserh/uber-fares-dataset\")\n",
        "os.chdir('/content/uber-and-lyft-dataset-boston-ma/uber-fares-dataset')\n",
        "df = pd.read_csv(\"uber.csv\")"
      ],
      "metadata": {
        "colab": {
          "base_uri": "https://localhost:8080/"
        },
        "id": "2p2QqG6SchbC",
        "outputId": "6c709012-3a38-4179-df48-6e2cf3977ee3"
      },
      "execution_count": 5,
      "outputs": [
        {
          "output_type": "stream",
          "name": "stdout",
          "text": [
            "Please provide your Kaggle credentials to download this dataset. Learn more: http://bit.ly/kaggle-creds\n",
            "Your Kaggle username: blakeandersonw\n",
            "Your Kaggle Key: ··········\n",
            "Downloading uber-fares-dataset.zip to ./uber-fares-dataset\n"
          ]
        },
        {
          "output_type": "stream",
          "name": "stderr",
          "text": [
            "100%|██████████| 7.04M/7.04M [00:00<00:00, 86.2MB/s]"
          ]
        },
        {
          "output_type": "stream",
          "name": "stdout",
          "text": [
            "\n"
          ]
        },
        {
          "output_type": "stream",
          "name": "stderr",
          "text": [
            "\n"
          ]
        }
      ]
    },
    {
      "cell_type": "code",
      "source": [
        "od.download(\"https://www.kaggle.com/datasets/mruanova/us-gasoline-and-diesel-retail-prices-19952021\")\n",
        "os.chdir('/content/uber-and-lyft-dataset-boston-ma/uber-fares-dataset/us-gasoline-and-diesel-retail-prices-19952021/')\n",
        "gas_price_df = pd.read_csv(\"PET_PRI_GND_DCUS_NUS_W.csv\")"
      ],
      "metadata": {
        "id": "vUtNO5tXddzQ",
        "colab": {
          "base_uri": "https://localhost:8080/"
        },
        "outputId": "d3147306-8757-4fc1-b594-19a0020aacf8"
      },
      "execution_count": 6,
      "outputs": [
        {
          "output_type": "stream",
          "name": "stdout",
          "text": [
            "Please provide your Kaggle credentials to download this dataset. Learn more: http://bit.ly/kaggle-creds\n",
            "Your Kaggle username: blakeandersonw\n",
            "Your Kaggle Key: ··········\n",
            "Downloading us-gasoline-and-diesel-retail-prices-19952021.zip to ./us-gasoline-and-diesel-retail-prices-19952021\n"
          ]
        },
        {
          "output_type": "stream",
          "name": "stderr",
          "text": [
            "100%|██████████| 38.2k/38.2k [00:00<00:00, 17.3MB/s]"
          ]
        },
        {
          "output_type": "stream",
          "name": "stdout",
          "text": [
            "\n"
          ]
        },
        {
          "output_type": "stream",
          "name": "stderr",
          "text": [
            "\n"
          ]
        }
      ]
    },
    {
      "cell_type": "code",
      "source": [
        "od.download(\"https://www.kaggle.com/datasets/adityadesai13/used-car-dataset-ford-and-mercedes?select=hyundi.csv\")\n",
        "os.chdir('/content/uber-and-lyft-dataset-boston-ma/uber-fares-dataset/us-gasoline-and-diesel-retail-prices-19952021/used-car-dataset-ford-and-mercedes')"
      ],
      "metadata": {
        "colab": {
          "base_uri": "https://localhost:8080/"
        },
        "id": "EV9a-Fs1dun5",
        "outputId": "e3f2d401-661b-4e53-ad48-b52941b2bbd0"
      },
      "execution_count": 7,
      "outputs": [
        {
          "output_type": "stream",
          "name": "stdout",
          "text": [
            "Please provide your Kaggle credentials to download this dataset. Learn more: http://bit.ly/kaggle-creds\n",
            "Your Kaggle username: blakeandersonw\n",
            "Your Kaggle Key: ··········\n",
            "Downloading used-car-dataset-ford-and-mercedes.zip to ./used-car-dataset-ford-and-mercedes\n"
          ]
        },
        {
          "output_type": "stream",
          "name": "stderr",
          "text": [
            "100%|██████████| 1.10M/1.10M [00:00<00:00, 94.3MB/s]"
          ]
        },
        {
          "output_type": "stream",
          "name": "stdout",
          "text": [
            "\n"
          ]
        },
        {
          "output_type": "stream",
          "name": "stderr",
          "text": [
            "\n"
          ]
        }
      ]
    },
    {
      "cell_type": "markdown",
      "metadata": {
        "id": "K3zc7i6HHPd8"
      },
      "source": [
        "{\"username\":\"blakeandersonw\",\"key\":\"5c7b7542c5ad7af0d6015b98bfa868b4\"}\n",
        "\n"
      ]
    },
    {
      "cell_type": "code",
      "source": [
        "# create an instance of the Kaggle API client\n",
        "api = KaggleApi()\n",
        "api.authenticate()"
      ],
      "metadata": {
        "id": "qDGRMjE23wM5"
      },
      "execution_count": 8,
      "outputs": []
    },
    {
      "cell_type": "code",
      "source": [
        "# specify the download directory\n",
        "output_dir = '/content/downloads'"
      ],
      "metadata": {
        "id": "cpByOAeK3zhI"
      },
      "execution_count": 9,
      "outputs": []
    },
    {
      "cell_type": "code",
      "source": [
        "# download the datasets to the specified directory\n",
        "api.dataset_download_files(dataset='yasserh/uber-fares-dataset', path=output_dir, unzip=True)\n",
        "api.dataset_download_files(dataset='brllrb/uber-and-lyft-dataset-boston-ma', path=output_dir, unzip=True)\n",
        "api.dataset_download_files(dataset='mruanova/us-gasoline-and-diesel-retail-prices-19952021', path=output_dir, unzip=True)\n",
        "api.dataset_download_files(dataset='adityadesai13/used-car-dataset-ford-and-mercedes', path=output_dir, force=True, unzip=True, quiet=False)\n"
      ],
      "metadata": {
        "colab": {
          "base_uri": "https://localhost:8080/"
        },
        "id": "nUntGMwD3dJZ",
        "outputId": "f54c8ce5-474a-402b-99a9-3e5fdb877134"
      },
      "execution_count": 10,
      "outputs": [
        {
          "output_type": "stream",
          "name": "stdout",
          "text": [
            "Downloading used-car-dataset-ford-and-mercedes.zip to /content/downloads\n"
          ]
        },
        {
          "output_type": "stream",
          "name": "stderr",
          "text": [
            "100%|██████████| 1.10M/1.10M [00:00<00:00, 103MB/s]"
          ]
        },
        {
          "output_type": "stream",
          "name": "stdout",
          "text": [
            "\n"
          ]
        },
        {
          "output_type": "stream",
          "name": "stderr",
          "text": [
            "\n"
          ]
        }
      ]
    },
    {
      "cell_type": "markdown",
      "metadata": {
        "id": "2-1XDFIz4kFp"
      },
      "source": [
        "### **MPG vs. Car Make & Model**\n",
        "\n",
        "---\n",
        "\n",
        "This data will be used when we make use of our cost function in order to accurately predict how much it will cost each driver to drive for Rideshare companies."
      ]
    },
    {
      "cell_type": "code",
      "source": [
        "os.chdir('/content/downloads')"
      ],
      "metadata": {
        "id": "gnEYN9oa6j6h"
      },
      "execution_count": 190,
      "outputs": []
    },
    {
      "cell_type": "code",
      "source": [
        "# Download the different car companies' data\n",
        "# Clean the data\n",
        "# Delete any unused columns\n",
        "\n",
        "from IPython.core.formatters import format_display_data\n",
        "import pandas as pd\n",
        "import numpy as np\n",
        "\n",
        "audi_data1 = pd.read_csv(\"audi.csv\")\n",
        "bmw_data1 = pd.read_csv(\"bmw.csv\")\n",
        "ford_data1 = pd.read_csv(\"ford.csv\")\n",
        "hyundai_data1 = pd.read_csv(\"hyundi.csv\")\n",
        "merc_data1 = pd.read_csv(\"merc.csv\")\n",
        "skkoda_data1 = pd.read_csv(\"skoda.csv\")\n",
        "toyota_data1 = pd.read_csv(\"toyota.csv\")\n",
        "vauxhall_data1 = pd.read_csv(\"vauxhall.csv\")\n",
        "vw_data1 = pd.read_csv(\"vw.csv\")"
      ],
      "metadata": {
        "id": "rfUlfn1D68DD"
      },
      "execution_count": 191,
      "outputs": []
    },
    {
      "cell_type": "code",
      "source": [
        "# delete extra columns\n",
        "audi_data = audi_data1.drop(columns=['transmission', 'tax', 'engineSize'])\n",
        "bmw_data = bmw_data1.drop(columns=['transmission', 'tax', 'engineSize'])\n",
        "ford_data = ford_data1.drop(columns=['transmission', 'tax', 'engineSize'])\n",
        "hyundai_data = hyundai_data1.drop(columns=['transmission', 'tax(£)', 'engineSize'])\n",
        "merc_data = merc_data1.drop(columns=['transmission', 'tax', 'engineSize'])\n",
        "skkoda_data = skkoda_data1.drop(columns=['transmission', 'tax', 'engineSize'])\n",
        "toyota_data = toyota_data1.drop(columns=['transmission', 'tax', 'engineSize'])\n",
        "vauxhall_data = vauxhall_data1.drop(columns=['transmission', 'tax', 'engineSize'])\n",
        "vw_data = vw_data1.drop(columns=['transmission', 'tax', 'engineSize'])\n",
        "\n",
        "# removing white space from all the columns\n",
        "audi_data['model'] = audi_data['model'].str.strip()\n",
        "bmw_data['model'] = bmw_data['model'].str.strip()\n",
        "ford_data['model'] = ford_data['model'].str.strip()\n",
        "hyundai_data['model'] = hyundai_data['model'].str.strip()\n",
        "merc_data['model'] = merc_data['model'].str.strip()\n",
        "skkoda_data['model'] = skkoda_data['model'].str.strip()\n",
        "toyota_data['model'] = toyota_data['model'].str.strip()\n",
        "vauxhall_data['model'] = vauxhall_data['model'].str.strip()\n",
        "vw_data['model'] = vw_data['model'].str.strip()\n",
        "\n",
        "# changing Petrol to Regular\n",
        "audi_data.loc[audi_data['fuelType'] == 'Petrol', 'fuelType'] = 'Regular'\n",
        "bmw_data.loc[bmw_data['fuelType'] == 'Petrol', 'fuelType'] = 'Regular'\n",
        "ford_data.loc[ford_data['fuelType'] == 'Petrol', 'fuelType'] = 'Regular'\n",
        "hyundai_data.loc[hyundai_data['fuelType'] == 'Petrol', 'fuelType'] = 'Regular'\n",
        "merc_data.loc[merc_data['fuelType'] == 'Petrol', 'fuelType'] = 'Regular'\n",
        "skkoda_data.loc[skkoda_data['fuelType'] == 'Petrol', 'fuelType'] = 'Regular'\n",
        "toyota_data.loc[toyota_data['fuelType'] == 'Petrol', 'fuelType'] = 'Regular'\n",
        "vauxhall_data.loc[vauxhall_data['fuelType'] == 'Petrol', 'fuelType'] = 'Regular'\n",
        "vw_data.loc[vw_data['fuelType'] == 'Petrol', 'fuelType'] = 'Regular'\n",
        "\n",
        "# adding the company to all the dataframes\n",
        "audi_data['carType'] = \"Audi\"\n",
        "bmw_data['carType'] = \"BMW\"\n",
        "ford_data['carType'] = \"Ford\"\n",
        "hyundai_data['carType'] = \"Hyundai\"\n",
        "merc_data['carType'] = \"Mercedes\"\n",
        "skkoda_data['carType'] = \"Skkoda\"\n",
        "toyota_data['carType'] = \"Toyota\"\n",
        "vauxhall_data['carType'] = \"Vauxhall\"\n",
        "vw_data['carType'] = \"Volkswagen\"\n",
        "\n",
        "# reorder columns\n",
        "audi_data = audi_data[['carType', 'model', 'year', 'mpg', 'fuelType', 'price', 'mileage']]\n",
        "bmw_data = bmw_data[['carType', 'model', 'year', 'mpg', 'fuelType', 'price', 'mileage']]\n",
        "ford_data = ford_data[['carType', 'model', 'year', 'mpg', 'fuelType', 'price', 'mileage']]\n",
        "hyundai_data = hyundai_data[['carType', 'model', 'year', 'mpg', 'fuelType', 'price', 'mileage']]\n",
        "merc_data = merc_data[['carType', 'model', 'year', 'mpg', 'fuelType', 'price', 'mileage']]\n",
        "skkoda_data = skkoda_data[['carType', 'model', 'year', 'mpg', 'fuelType', 'price', 'mileage']]\n",
        "toyota_data = toyota_data[['carType', 'model', 'year', 'mpg', 'fuelType', 'price', 'mileage']]\n",
        "vauxhall_data = vauxhall_data[['carType', 'model', 'year', 'mpg', 'fuelType', 'price', 'mileage']]\n",
        "vw_data = vw_data[['carType', 'model', 'year', 'mpg', 'fuelType', 'price', 'mileage']]\n",
        "\n",
        "# check for any NaN inputs\n",
        "#audi_data.isnull().any()\n",
        "bmw_data.isnull().any()\n",
        "ford_data.isnull().any()\n",
        "hyundai_data.isnull().any()\n",
        "merc_data.isnull().any()\n",
        "skkoda_data.isnull().any()\n",
        "toyota_data.isnull().any()\n",
        "vauxhall_data.isnull().any()\n",
        "vw_data.isnull().any()"
      ],
      "metadata": {
        "id": "pndp1ztl49v6",
        "colab": {
          "base_uri": "https://localhost:8080/"
        },
        "outputId": "e565c47f-f196-4ad0-a44f-2b71edf9420b"
      },
      "execution_count": 192,
      "outputs": [
        {
          "output_type": "execute_result",
          "data": {
            "text/plain": [
              "carType     False\n",
              "model       False\n",
              "year        False\n",
              "mpg         False\n",
              "fuelType    False\n",
              "price       False\n",
              "mileage     False\n",
              "dtype: bool"
            ]
          },
          "metadata": {},
          "execution_count": 192
        }
      ]
    },
    {
      "cell_type": "code",
      "source": [
        "# Merge the different data tables into one complete table\n",
        "# Get the average MPG by car make, model, and year\n",
        "\n",
        "merge_items = [\"carType\", \"model\", \"year\", \"mpg\", \"fuelType\", 'price', 'mileage']\n",
        "\n",
        "# merge all the dataframes\n",
        "cars_outer = audi_data.merge(bmw_data, on=merge_items, how=\"outer\").merge(\n",
        "    ford_data, on=merge_items, how=\"outer\").merge(hyundai_data, on=merge_items, how=\"outer\").merge(\n",
        "        merc_data, on=merge_items, how=\"outer\").merge(skkoda_data, on=merge_items, how=\"outer\").merge(\n",
        "            toyota_data, on=merge_items, how=\"outer\").merge(vauxhall_data, on=merge_items, how=\"outer\").merge(\n",
        "                vw_data, on=merge_items, how=\"outer\")\n",
        "\n",
        "# random sample from merged dataframe\n",
        "cars_outer = cars_outer.sample(n=200)\n",
        "\n",
        "cars_outer\n",
        "\n",
        "# Groupby car make, model, and year to get the average MPG\n",
        "# Plot to see distribution of mpg amongst random car makes and models\n",
        "# cars_outer.groupby(['carType', 'model', 'year'])[['mpg']].mean().plot.hist(bins=25)"
      ],
      "metadata": {
        "id": "i_h7mFwM5G7s"
      },
      "execution_count": null,
      "outputs": []
    },
    {
      "cell_type": "code",
      "source": [
        "def calculate_total_expected_cost():\n",
        "    while True:\n",
        "      # getting car type\n",
        "      carType = input(\"Enter the car type (Audi/BMW/Ford/Mercedes/Hyundai/Skkoda/Toyota/Vauxhall/Volkswagen) or enter other if not in the list: \")\n",
        "      \n",
        "      if carType.lower() == 'other':\n",
        "          year = float(input(\"Enter the car's year (Format: 2023): \"))\n",
        "          mileage = float(input(\"Enter the car's mileage (Format: 1000): \"))\n",
        "          miles = float(input(\"Enter the estimated miles of the trip (Format: 1000): \"))\n",
        "          mpg = float(input(\"Enter the car's mpg (Format: 55.0): \"))\n",
        "          fuel_type = input(\"Enter the car's fuel type: \")\n",
        "          break\n",
        "      \n",
        "      # getting car model\n",
        "      models = list(cars_outer.loc[cars_outer['carType'] == carType, 'model'].unique())\n",
        "\n",
        "      if len(models) == 0:\n",
        "          print(\"No cars of the selected model found in the dataset.\")\n",
        "          return\n",
        "      print(\"Please select from the list of available models for selected car type or choose other: \", models)\n",
        "      \n",
        "      while True:\n",
        "        model = input(\"Enter the car's model: \")\n",
        "\n",
        "        if model.lower() == 'other':\n",
        "          year = float(input(\"Enter the car's year (Format: 2023):\"))\n",
        "          mileage = float(input(\"Enter the car's mileage (Format: 1000): \"))\n",
        "          miles = float(input(\"Enter the estimated miles of the trip (Format: 1000):\"))\n",
        "          mpg = float(input(\"Enter the car's mpg (Format: 55.0):\"))\n",
        "          fuel_type = input(\"Enter the car's fuel type: \")\n",
        "          break\n",
        "        elif model in models:\n",
        "          break\n",
        "        else:\n",
        "          print(\"Invalid model. Please select from the list of available models for selected car type or choose other: \", models)\n",
        "\n",
        "      if model.lower() == 'other':\n",
        "        break\n",
        "      \n",
        "      # getting years\n",
        "      years = list(cars_outer.loc[(cars_outer['carType'] == carType) & (cars_outer['model'] == model), 'year'].unique())\n",
        "\n",
        "      if len(years) == 0:\n",
        "          print(\"No cars of the selected make and model found in the dataset.\")\n",
        "          return\n",
        "      print(\"Please select from the available years for selected car type and model or choose other: \", years)\n",
        "      \n",
        "      while True:\n",
        "\n",
        "        year = input(\"Enter the car's year (Format: 2023): \")\n",
        "        \n",
        "        if year.lower() == \"other\":\n",
        "          year = 2020\n",
        "          mileage = float(input(\"Enter the car's mileage (Format: 1000): \"))\n",
        "          miles = float(input(\"Enter the estimated miles of the trip (Format: 1000): \"))\n",
        "          mpg = float(input(\"Enter the car's mpg (Format: 55.0): \"))\n",
        "          fuel_type = input(\"Enter the car's fuel type: \")\n",
        "          break\n",
        "        \n",
        "        if year.isdigit() and float(year) not in years:\n",
        "          year = float(year)\n",
        "          mileage = float(input(\"Enter the car's mileage (Format: 1000): \"))\n",
        "          miles = float(input(\"Enter the estimated miles of the trip (Format: 1000): \"))\n",
        "          mpg = float(input(\"Enter the car's mpg (Format: 55.0): \"))\n",
        "          fuel_type = input(\"Enter the car's fuel type: \")\n",
        "          break\n",
        "\n",
        "        if year.isdigit() and float(year) in years:\n",
        "          year = float(year)\n",
        "          break\n",
        "        else:\n",
        "          print(\"Invalid input. Please enter the car's year (Format: 2023): \", years)\n",
        "\n",
        "      year_string = str(year)\n",
        "      if year_string.lower() == 'other':\n",
        "        break\n",
        "      \n",
        "      if year not in years:\n",
        "        break\n",
        "\n",
        "      # getting mileage\n",
        "      mileage_list = list(cars_outer.loc[(cars_outer['carType'] == carType) & (cars_outer['model'] == model) & (cars_outer['year'] == year), 'mileage'].unique())\n",
        "\n",
        "      # Check the variable name used in the condition\n",
        "      if len(mileage_list) == 0:\n",
        "        print(\"Invalid response, please enter input or unknown.\")\n",
        "        return\n",
        "\n",
        "      print(\"Please select from the available estimated mileage for selected car type or other: \", mileage_list)\n",
        "\n",
        "      while True:\n",
        "        mileage = input(\"Enter the car's mileage: \")\n",
        "\n",
        "        if mileage.lower() == \"unknown\" or mileage == 0:\n",
        "            mileage = cars_outer.loc[(cars_outer['model'] == model) & (cars_outer['year'] == year) & (cars_outer['carType'] == carType), 'mileage'].median()\n",
        "            break\n",
        "        elif mileage.lower() == \"other\":\n",
        "            mileage = float(input(\"Enter the car's mileage (Format: 1000): \"))\n",
        "            miles = float(input(\"Enter the estimated miles of the trip (Format: 1000): \"))\n",
        "            mpg = float(input(\"Enter the car's mpg (Format: 55.0): \"))\n",
        "            fuel_type = input(\"Enter the car's fuel type: \")\n",
        "            break\n",
        "        elif mileage.isdigit() and float(mileage) not in mileage_list:\n",
        "            mileage = float(input(\"Enter the car's mileage (Format: 1000): \"))\n",
        "            miles = float(input(\"Enter the estimated miles of the trip (Format: 1000): \"))\n",
        "            mpg = float(input(\"Enter the car's mpg (Format: 55.0): \"))\n",
        "            fuel_type = input(\"Enter the car's fuel type: \")\n",
        "            break\n",
        "        elif mileage.isdigit() and float(mileage) in mileage_list:\n",
        "            mileage = float(mileage)\n",
        "            break\n",
        "        else:\n",
        "            print(\"Invalid response. Please enter input unknown. Please select from the available estimated mileage for selected car type or other: \", mileage_list)\n",
        "\n",
        "      mileage_string = str(mileage)\n",
        "      if mileage_string.lower() == 'other':\n",
        "        break\n",
        "\n",
        "      if mileage not in mileage_list:\n",
        "        break\n",
        "\n",
        "      # getting miles of the trip\n",
        "      while True:\n",
        "        miles = input(\"Enter the estimated miles of the trip or choose other: \")\n",
        "        \n",
        "        if miles.lower() == \"unknown\" or miles == 0:\n",
        "            # add loc from other dataset\n",
        "            # miles = cars_outer.loc[(cars_outer['model'] == model) & (cars_outer['year'] == year) & (cars_outer['carType'] == carType), 'mileage'].median()\n",
        "            print(\"fix this\")\n",
        "            break\n",
        "        elif miles.lower() == \"other\":\n",
        "            miles = float(input(\"Enter the estimated miles of the trip (Format: 1000): \"))\n",
        "            mpg = float(input(\"Enter the car's mpg (Format: 55.0): \"))\n",
        "            fuel_type = input(\"Enter the car's fuel type: \")\n",
        "            break\n",
        "        elif miles.isdigit():\n",
        "            miles = float(miles)\n",
        "            break\n",
        "        else:\n",
        "            print(\"Invalid response. Please enter estimated miles for trip or choose other: \")\n",
        "        \n",
        "      miles_string = str(miles)\n",
        "      if miles_string.lower() == 'other':\n",
        "        break\n",
        "      \n",
        "      # getting mpg\n",
        "      mpg_list = list(cars_outer.loc[(cars_outer['model'] == model) & (cars_outer['year'] == year) & (cars_outer['carType'] == carType), 'mpg'].unique())\n",
        "\n",
        "      if len(mpg_list) == 0:\n",
        "        print(\"Invalid response, please enter a valid input or unknown if not known.\")\n",
        "        return\n",
        "\n",
        "      print(\"Please select from the available estimated mpg for selected car type or choose other: \", mpg_list)\n",
        "\n",
        "      while True:\n",
        "        mpg = input(\"Enter the car's mpg: \")\n",
        "\n",
        "        if mpg.lower() == \"other\":\n",
        "            mpg = float(input(\"Enter the car's mpg (Format: 55.0): \"))\n",
        "            fuel_type = input(\"Enter the car's fuel type: \")\n",
        "            break\n",
        "        elif mpg.lower() == \"unknown\" or mpg == 0:\n",
        "            mpg = cars_outer.loc[(cars_outer['model'] == model) & (cars_outer['year'] == year) & (cars_outer['carType'] == carType), 'mpg'].median() \n",
        "            break\n",
        "        elif mpg.replace('.', '', 1).isdigit() and float(mpg) not in mpg_list:\n",
        "            mpg = float(input(\"Enter the car's mpg (Format: 55.0): \"))\n",
        "            fuel_type = input(\"Enter the car's fuel type: \")\n",
        "            break\n",
        "        elif mpg.replace('.', '', 1).isdigit() and float(mpg) in mpg_list:\n",
        "            mpg = float(mpg)\n",
        "            break\n",
        "        else:\n",
        "            print(\"Invalid response. Please select from the available estimated mpg for selected car type or choose other: \", mpg_list)\n",
        "      \n",
        "      mpg_string = str(mpg)\n",
        "      if mpg_string.lower() == 'other':\n",
        "        break\n",
        "\n",
        "      if mpg not in mpg_list:\n",
        "        break\n",
        "      \n",
        "      # getting fuel type\n",
        "      fuel_types = list(cars_outer.loc[(cars_outer['model'] == model) & (cars_outer['year'] == year) & (cars_outer['carType'] == carType), 'fuelType'].unique())\n",
        "\n",
        "      if len(fuel_types) == 0:\n",
        "          print(\"Invalid response. Please enter a valid fuel type or unknown if not known.\")\n",
        "          return\n",
        "\n",
        "      print(\"Please select from the available fuel types, enter your own fuel type or choose other: \", fuel_types)\n",
        "      \n",
        "      while True:\n",
        "        fuel_type = input(\"Enter the car's fuel type: \")\n",
        "\n",
        "        if fuel_type.lower() == 'other':\n",
        "          fuel_type = input(\"Enter the car's fuel type: \")\n",
        "          break\n",
        "        elif fuel_type.lower() == 'unknown':\n",
        "          fuel_type = cars_outer.loc[(cars_outer['model'] == model) & (cars_outer['year'] == year) & (cars_outer['carType'] == carType), 'fuelType'].mode()\n",
        "          break\n",
        "        elif fuel_type.lower() == 'diesel' or 'regular' or 'hybrid':\n",
        "          fuel_type\n",
        "          break\n",
        "        else:\n",
        "          print(\"Invalid response. Please select from the available fuel types, enter your own fuel type or choose other: \", fuel_types)\n",
        "\n",
        "      break\n",
        "\n",
        "    # calculate fuel cost\n",
        "    gallons_of_fuel = miles / mpg\n",
        "    fuel_cost_per_gallon = {'Regular': 2.8, 'Diesel': 3.1, 'Hybrid': 2.5}[fuel_type]\n",
        "    fuel_cost = gallons_of_fuel * fuel_cost_per_gallon\n",
        "    \n",
        "    # calculate depreciation cost\n",
        "    age = 2023 - year\n",
        "    \n",
        "    if age < 5 and mileage < 55000:\n",
        "        depreciation_cost = miles * 0.08\n",
        "    elif age > 5 and mileage < 55000:\n",
        "        depreciation_cost = miles * 0.1\n",
        "    elif age < 5 and mileage > 55000:\n",
        "        depreciation_cost = miles * 0.1\n",
        "    else:\n",
        "        depreciation_cost = miles * 0.12\n",
        "    \n",
        "    # calculate maintenance cost\n",
        "    maintenance_cost = 0.09 * miles\n",
        "\n",
        "    total_cost = fuel_cost + depreciation_cost + maintenance_cost\n",
        "    \n",
        "    rounded_cost = round(total_cost, 2)\n",
        "\n",
        "    return (rounded_cost)"
      ],
      "metadata": {
        "id": "WcBL_rDuRucU"
      },
      "execution_count": 332,
      "outputs": []
    },
    {
      "cell_type": "markdown",
      "source": [
        "depreciation work cited --> https://www.ramseysolutions.com/saving/car-depreciation#:~:text=After%20one%20year%2C%20your%20car,around%2060%25%20of%20its%20value.\n",
        "\n",
        "maintenance work cited --> https://www.thebalancemoney.com/average-car-maintenance-cost-4775765#:~:text=According%20to%20a%20study%20by,%2C%20tire%20rotation%2C%20and%20more."
      ],
      "metadata": {
        "id": "WxeAbzMxfpzu"
      }
    },
    {
      "cell_type": "code",
      "source": [
        "calculate_total_expected_cost()"
      ],
      "metadata": {
        "colab": {
          "base_uri": "https://localhost:8080/"
        },
        "id": "RbCVbSpu53ji",
        "outputId": "98a2f443-fec0-45ab-d763-c0e5f5fc4fc7"
      },
      "execution_count": 337,
      "outputs": [
        {
          "name": "stdout",
          "output_type": "stream",
          "text": [
            "Enter the car type (Audi/BMW/Ford/Mercedes/Hyundai/Skkoda/Toyota/Vauxhall/Volkswagen) or enter other if not in the list: Audi\n",
            "Please select from the list of available models for selected car type or choose other:  ['A3', 'Q2', 'Q3', 'A6', 'A1', 'A5', 'A4', 'TT']\n",
            "Enter the car's model: TT\n",
            "Please select from the available years for selected car type and model or choose other:  [2017]\n",
            "Enter the car's year (Format: 2023): 2017\n",
            "Please select from the available estimated mileage for selected car type or other:  [22299]\n",
            "Enter the car's mileage: 22299\n",
            "Enter the estimated miles of the trip or choose other: 20\n",
            "Please select from the available estimated mpg for selected car type or choose other:  [47.1]\n",
            "Enter the car's mpg: 47.1\n",
            "Please select from the available fuel types, enter your own fuel type or choose other:  ['Regular']\n",
            "Enter the car's fuel type: other\n",
            "Enter the car's fuel type: Diesel\n"
          ]
        },
        {
          "output_type": "execute_result",
          "data": {
            "text/plain": [
              "5.12"
            ]
          },
          "metadata": {},
          "execution_count": 337
        }
      ]
    },
    {
      "cell_type": "markdown",
      "source": [
        "#\n",
        " Not Needed"
      ],
      "metadata": {
        "id": "QiuROHofu-4k"
      }
    },
    {
      "cell_type": "markdown",
      "source": [
        "Gas prices --> https://www.eia.gov/petroleum/gasdiesel/"
      ],
      "metadata": {
        "id": "g8SIeSo87wUn"
      }
    },
    {
      "cell_type": "code",
      "execution_count": 124,
      "metadata": {
        "id": "oYRNFQNIHr-C",
        "colab": {
          "base_uri": "https://localhost:8080/",
          "height": 423
        },
        "outputId": "578657fc-d103-4b77-cef0-762e6a394f87"
      },
      "outputs": [
        {
          "output_type": "execute_result",
          "data": {
            "text/plain": [
              "        Unnamed: 0                            key  fare_amount  \\\n",
              "0         24238194    2015-05-07 19:52:06.0000003          7.5   \n",
              "1         27835199    2009-07-17 20:04:56.0000002          7.7   \n",
              "2         44984355   2009-08-24 21:45:00.00000061         12.9   \n",
              "3         25894730    2009-06-26 08:22:21.0000001          5.3   \n",
              "4         17610152  2014-08-28 17:47:00.000000188         16.0   \n",
              "...            ...                            ...          ...   \n",
              "199995    42598914   2012-10-28 10:49:00.00000053          3.0   \n",
              "199996    16382965    2014-03-14 01:09:00.0000008          7.5   \n",
              "199997    27804658   2009-06-29 00:42:00.00000078         30.9   \n",
              "199998    20259894    2015-05-20 14:56:25.0000004         14.5   \n",
              "199999    11951496   2010-05-15 04:08:00.00000076         14.1   \n",
              "\n",
              "                pickup_datetime  pickup_longitude  pickup_latitude  \\\n",
              "0       2015-05-07 19:52:06 UTC        -73.999817        40.738354   \n",
              "1       2009-07-17 20:04:56 UTC        -73.994355        40.728225   \n",
              "2       2009-08-24 21:45:00 UTC        -74.005043        40.740770   \n",
              "3       2009-06-26 08:22:21 UTC        -73.976124        40.790844   \n",
              "4       2014-08-28 17:47:00 UTC        -73.925023        40.744085   \n",
              "...                         ...               ...              ...   \n",
              "199995  2012-10-28 10:49:00 UTC        -73.987042        40.739367   \n",
              "199996  2014-03-14 01:09:00 UTC        -73.984722        40.736837   \n",
              "199997  2009-06-29 00:42:00 UTC        -73.986017        40.756487   \n",
              "199998  2015-05-20 14:56:25 UTC        -73.997124        40.725452   \n",
              "199999  2010-05-15 04:08:00 UTC        -73.984395        40.720077   \n",
              "\n",
              "        dropoff_longitude  dropoff_latitude  passenger_count  \n",
              "0              -73.999512         40.723217                1  \n",
              "1              -73.994710         40.750325                1  \n",
              "2              -73.962565         40.772647                1  \n",
              "3              -73.965316         40.803349                3  \n",
              "4              -73.973082         40.761247                5  \n",
              "...                   ...               ...              ...  \n",
              "199995         -73.986525         40.740297                1  \n",
              "199996         -74.006672         40.739620                1  \n",
              "199997         -73.858957         40.692588                2  \n",
              "199998         -73.983215         40.695415                1  \n",
              "199999         -73.985508         40.768793                1  \n",
              "\n",
              "[200000 rows x 9 columns]"
            ],
            "text/html": [
              "\n",
              "  <div id=\"df-0eaa01a5-2f05-41aa-a3c0-57f86d7b099f\">\n",
              "    <div class=\"colab-df-container\">\n",
              "      <div>\n",
              "<style scoped>\n",
              "    .dataframe tbody tr th:only-of-type {\n",
              "        vertical-align: middle;\n",
              "    }\n",
              "\n",
              "    .dataframe tbody tr th {\n",
              "        vertical-align: top;\n",
              "    }\n",
              "\n",
              "    .dataframe thead th {\n",
              "        text-align: right;\n",
              "    }\n",
              "</style>\n",
              "<table border=\"1\" class=\"dataframe\">\n",
              "  <thead>\n",
              "    <tr style=\"text-align: right;\">\n",
              "      <th></th>\n",
              "      <th>Unnamed: 0</th>\n",
              "      <th>key</th>\n",
              "      <th>fare_amount</th>\n",
              "      <th>pickup_datetime</th>\n",
              "      <th>pickup_longitude</th>\n",
              "      <th>pickup_latitude</th>\n",
              "      <th>dropoff_longitude</th>\n",
              "      <th>dropoff_latitude</th>\n",
              "      <th>passenger_count</th>\n",
              "    </tr>\n",
              "  </thead>\n",
              "  <tbody>\n",
              "    <tr>\n",
              "      <th>0</th>\n",
              "      <td>24238194</td>\n",
              "      <td>2015-05-07 19:52:06.0000003</td>\n",
              "      <td>7.5</td>\n",
              "      <td>2015-05-07 19:52:06 UTC</td>\n",
              "      <td>-73.999817</td>\n",
              "      <td>40.738354</td>\n",
              "      <td>-73.999512</td>\n",
              "      <td>40.723217</td>\n",
              "      <td>1</td>\n",
              "    </tr>\n",
              "    <tr>\n",
              "      <th>1</th>\n",
              "      <td>27835199</td>\n",
              "      <td>2009-07-17 20:04:56.0000002</td>\n",
              "      <td>7.7</td>\n",
              "      <td>2009-07-17 20:04:56 UTC</td>\n",
              "      <td>-73.994355</td>\n",
              "      <td>40.728225</td>\n",
              "      <td>-73.994710</td>\n",
              "      <td>40.750325</td>\n",
              "      <td>1</td>\n",
              "    </tr>\n",
              "    <tr>\n",
              "      <th>2</th>\n",
              "      <td>44984355</td>\n",
              "      <td>2009-08-24 21:45:00.00000061</td>\n",
              "      <td>12.9</td>\n",
              "      <td>2009-08-24 21:45:00 UTC</td>\n",
              "      <td>-74.005043</td>\n",
              "      <td>40.740770</td>\n",
              "      <td>-73.962565</td>\n",
              "      <td>40.772647</td>\n",
              "      <td>1</td>\n",
              "    </tr>\n",
              "    <tr>\n",
              "      <th>3</th>\n",
              "      <td>25894730</td>\n",
              "      <td>2009-06-26 08:22:21.0000001</td>\n",
              "      <td>5.3</td>\n",
              "      <td>2009-06-26 08:22:21 UTC</td>\n",
              "      <td>-73.976124</td>\n",
              "      <td>40.790844</td>\n",
              "      <td>-73.965316</td>\n",
              "      <td>40.803349</td>\n",
              "      <td>3</td>\n",
              "    </tr>\n",
              "    <tr>\n",
              "      <th>4</th>\n",
              "      <td>17610152</td>\n",
              "      <td>2014-08-28 17:47:00.000000188</td>\n",
              "      <td>16.0</td>\n",
              "      <td>2014-08-28 17:47:00 UTC</td>\n",
              "      <td>-73.925023</td>\n",
              "      <td>40.744085</td>\n",
              "      <td>-73.973082</td>\n",
              "      <td>40.761247</td>\n",
              "      <td>5</td>\n",
              "    </tr>\n",
              "    <tr>\n",
              "      <th>...</th>\n",
              "      <td>...</td>\n",
              "      <td>...</td>\n",
              "      <td>...</td>\n",
              "      <td>...</td>\n",
              "      <td>...</td>\n",
              "      <td>...</td>\n",
              "      <td>...</td>\n",
              "      <td>...</td>\n",
              "      <td>...</td>\n",
              "    </tr>\n",
              "    <tr>\n",
              "      <th>199995</th>\n",
              "      <td>42598914</td>\n",
              "      <td>2012-10-28 10:49:00.00000053</td>\n",
              "      <td>3.0</td>\n",
              "      <td>2012-10-28 10:49:00 UTC</td>\n",
              "      <td>-73.987042</td>\n",
              "      <td>40.739367</td>\n",
              "      <td>-73.986525</td>\n",
              "      <td>40.740297</td>\n",
              "      <td>1</td>\n",
              "    </tr>\n",
              "    <tr>\n",
              "      <th>199996</th>\n",
              "      <td>16382965</td>\n",
              "      <td>2014-03-14 01:09:00.0000008</td>\n",
              "      <td>7.5</td>\n",
              "      <td>2014-03-14 01:09:00 UTC</td>\n",
              "      <td>-73.984722</td>\n",
              "      <td>40.736837</td>\n",
              "      <td>-74.006672</td>\n",
              "      <td>40.739620</td>\n",
              "      <td>1</td>\n",
              "    </tr>\n",
              "    <tr>\n",
              "      <th>199997</th>\n",
              "      <td>27804658</td>\n",
              "      <td>2009-06-29 00:42:00.00000078</td>\n",
              "      <td>30.9</td>\n",
              "      <td>2009-06-29 00:42:00 UTC</td>\n",
              "      <td>-73.986017</td>\n",
              "      <td>40.756487</td>\n",
              "      <td>-73.858957</td>\n",
              "      <td>40.692588</td>\n",
              "      <td>2</td>\n",
              "    </tr>\n",
              "    <tr>\n",
              "      <th>199998</th>\n",
              "      <td>20259894</td>\n",
              "      <td>2015-05-20 14:56:25.0000004</td>\n",
              "      <td>14.5</td>\n",
              "      <td>2015-05-20 14:56:25 UTC</td>\n",
              "      <td>-73.997124</td>\n",
              "      <td>40.725452</td>\n",
              "      <td>-73.983215</td>\n",
              "      <td>40.695415</td>\n",
              "      <td>1</td>\n",
              "    </tr>\n",
              "    <tr>\n",
              "      <th>199999</th>\n",
              "      <td>11951496</td>\n",
              "      <td>2010-05-15 04:08:00.00000076</td>\n",
              "      <td>14.1</td>\n",
              "      <td>2010-05-15 04:08:00 UTC</td>\n",
              "      <td>-73.984395</td>\n",
              "      <td>40.720077</td>\n",
              "      <td>-73.985508</td>\n",
              "      <td>40.768793</td>\n",
              "      <td>1</td>\n",
              "    </tr>\n",
              "  </tbody>\n",
              "</table>\n",
              "<p>200000 rows × 9 columns</p>\n",
              "</div>\n",
              "      <button class=\"colab-df-convert\" onclick=\"convertToInteractive('df-0eaa01a5-2f05-41aa-a3c0-57f86d7b099f')\"\n",
              "              title=\"Convert this dataframe to an interactive table.\"\n",
              "              style=\"display:none;\">\n",
              "        \n",
              "  <svg xmlns=\"http://www.w3.org/2000/svg\" height=\"24px\"viewBox=\"0 0 24 24\"\n",
              "       width=\"24px\">\n",
              "    <path d=\"M0 0h24v24H0V0z\" fill=\"none\"/>\n",
              "    <path d=\"M18.56 5.44l.94 2.06.94-2.06 2.06-.94-2.06-.94-.94-2.06-.94 2.06-2.06.94zm-11 1L8.5 8.5l.94-2.06 2.06-.94-2.06-.94L8.5 2.5l-.94 2.06-2.06.94zm10 10l.94 2.06.94-2.06 2.06-.94-2.06-.94-.94-2.06-.94 2.06-2.06.94z\"/><path d=\"M17.41 7.96l-1.37-1.37c-.4-.4-.92-.59-1.43-.59-.52 0-1.04.2-1.43.59L10.3 9.45l-7.72 7.72c-.78.78-.78 2.05 0 2.83L4 21.41c.39.39.9.59 1.41.59.51 0 1.02-.2 1.41-.59l7.78-7.78 2.81-2.81c.8-.78.8-2.07 0-2.86zM5.41 20L4 18.59l7.72-7.72 1.47 1.35L5.41 20z\"/>\n",
              "  </svg>\n",
              "      </button>\n",
              "      \n",
              "  <style>\n",
              "    .colab-df-container {\n",
              "      display:flex;\n",
              "      flex-wrap:wrap;\n",
              "      gap: 12px;\n",
              "    }\n",
              "\n",
              "    .colab-df-convert {\n",
              "      background-color: #E8F0FE;\n",
              "      border: none;\n",
              "      border-radius: 50%;\n",
              "      cursor: pointer;\n",
              "      display: none;\n",
              "      fill: #1967D2;\n",
              "      height: 32px;\n",
              "      padding: 0 0 0 0;\n",
              "      width: 32px;\n",
              "    }\n",
              "\n",
              "    .colab-df-convert:hover {\n",
              "      background-color: #E2EBFA;\n",
              "      box-shadow: 0px 1px 2px rgba(60, 64, 67, 0.3), 0px 1px 3px 1px rgba(60, 64, 67, 0.15);\n",
              "      fill: #174EA6;\n",
              "    }\n",
              "\n",
              "    [theme=dark] .colab-df-convert {\n",
              "      background-color: #3B4455;\n",
              "      fill: #D2E3FC;\n",
              "    }\n",
              "\n",
              "    [theme=dark] .colab-df-convert:hover {\n",
              "      background-color: #434B5C;\n",
              "      box-shadow: 0px 1px 3px 1px rgba(0, 0, 0, 0.15);\n",
              "      filter: drop-shadow(0px 1px 2px rgba(0, 0, 0, 0.3));\n",
              "      fill: #FFFFFF;\n",
              "    }\n",
              "  </style>\n",
              "\n",
              "      <script>\n",
              "        const buttonEl =\n",
              "          document.querySelector('#df-0eaa01a5-2f05-41aa-a3c0-57f86d7b099f button.colab-df-convert');\n",
              "        buttonEl.style.display =\n",
              "          google.colab.kernel.accessAllowed ? 'block' : 'none';\n",
              "\n",
              "        async function convertToInteractive(key) {\n",
              "          const element = document.querySelector('#df-0eaa01a5-2f05-41aa-a3c0-57f86d7b099f');\n",
              "          const dataTable =\n",
              "            await google.colab.kernel.invokeFunction('convertToInteractive',\n",
              "                                                     [key], {});\n",
              "          if (!dataTable) return;\n",
              "\n",
              "          const docLinkHtml = 'Like what you see? Visit the ' +\n",
              "            '<a target=\"_blank\" href=https://colab.research.google.com/notebooks/data_table.ipynb>data table notebook</a>'\n",
              "            + ' to learn more about interactive tables.';\n",
              "          element.innerHTML = '';\n",
              "          dataTable['output_type'] = 'display_data';\n",
              "          await google.colab.output.renderOutput(dataTable, element);\n",
              "          const docLink = document.createElement('div');\n",
              "          docLink.innerHTML = docLinkHtml;\n",
              "          element.appendChild(docLink);\n",
              "        }\n",
              "      </script>\n",
              "    </div>\n",
              "  </div>\n",
              "  "
            ]
          },
          "metadata": {},
          "execution_count": 124
        }
      ],
      "source": [
        "# data set of uber data\n",
        "os.chdir('/content/downloads')\n",
        "data = pd.read_csv(\"uber.csv\")\n",
        "data"
      ]
    },
    {
      "cell_type": "markdown",
      "source": [
        "Downloading dataset above, consists of 200000 uber rides, with important variables pickup/dropoff longitude/latitude, price, and datetime.\n",
        "\n",
        "We likely will not use this dataset until later on."
      ],
      "metadata": {
        "id": "pRjSN64rqitS"
      }
    },
    {
      "cell_type": "code",
      "execution_count": null,
      "metadata": {
        "id": "etmJm2H3H6UE"
      },
      "outputs": [],
      "source": [
        "import seaborn as sns\n",
        "import matplotlib.pyplot as plt"
      ]
    },
    {
      "cell_type": "markdown",
      "metadata": {
        "id": "WmKJoE3VaX1G"
      },
      "source": [
        "### **LEARNING ABOUT THE DATASETS**\n",
        "\n"
      ]
    },
    {
      "cell_type": "code",
      "execution_count": null,
      "metadata": {
        "id": "N3fquB9zInEH"
      },
      "outputs": [],
      "source": [
        "# data set of uber and lyft data\n",
        "os.chdir('/content/downloads')\n",
        "rs_data = pd.read_csv(\"rideshare_kaggle.csv\")\n",
        "rs_data"
      ]
    },
    {
      "cell_type": "markdown",
      "source": [
        "Downloading ridehsare data from Boston, MA during November 26, 2018 until December 18, 2018.  Comprehensive dataset with price, distance, pickup/dropoff, weather, etc."
      ],
      "metadata": {
        "id": "xHjA8KvNq0Pt"
      }
    },
    {
      "cell_type": "code",
      "execution_count": null,
      "metadata": {
        "id": "lF3bTnZ4ahM9"
      },
      "outputs": [],
      "source": [
        "rs_data.dtypes"
      ]
    },
    {
      "cell_type": "markdown",
      "source": [
        "Checking variable types of dataset."
      ],
      "metadata": {
        "id": "-EF-vFtTr3sO"
      }
    },
    {
      "cell_type": "code",
      "execution_count": null,
      "metadata": {
        "id": "8iupVoSCcJUG"
      },
      "outputs": [],
      "source": [
        "import matplotlib.pyplot as plt\n",
        "import numpy as np\n",
        "\n",
        "# summary statistics on Lyft and Uber \n",
        "lyft_prices = rs_data.loc[rs_data[\"cab_type\"] == \"Lyft\"]['price']\n",
        "uber_prices = rs_data.loc[rs_data[\"cab_type\"] == \"Uber\"]['price']\n",
        "\n",
        "print('Lyft summary statistics\\n', lyft_prices.describe(),'\\n')\n",
        "print('Uber summary statistics\\n', uber_prices.describe())\n"
      ]
    },
    {
      "cell_type": "markdown",
      "source": [
        "Summary statistics of Uber vs Lyft prices - not super relevant, just interesting."
      ],
      "metadata": {
        "id": "QShOgEADr9IO"
      }
    },
    {
      "cell_type": "code",
      "execution_count": null,
      "metadata": {
        "id": "rfEnT002yBi-"
      },
      "outputs": [],
      "source": [
        "def ride_cost(distance, mpg):\n",
        "  gasoline_cost = (distance / (mpg/2))*3\n",
        "  maintenance_cost = .10*distance\n",
        "  depreciable_cost = .10*distance\n",
        "  total_cost = gasoline_cost + maintenance_cost + depreciable_cost\n",
        "  return(total_cost)\n",
        "\n",
        "ridecost = []\n",
        "\n",
        "for i in rs_data['distance']:\n",
        "  ridecost.append(ride_cost(i, 20))\n",
        "\n",
        "rs_data['ridecost'] = ridecost\n",
        "rs_data['profit'] = rs_data['price'] - rs_data['ridecost']\n",
        "pricesdata = rs_data[['price','ridecost','profit']]\n",
        "pricesdata"
      ]
    },
    {
      "cell_type": "markdown",
      "source": [
        "Barebones cost function implemented into a table containing price, ridecost, and expected profit.  Major improvements coming to this function in the future."
      ],
      "metadata": {
        "id": "HAzGfab_sbuG"
      }
    }
  ],
  "metadata": {
    "colab": {
      "provenance": [],
      "include_colab_link": true
    },
    "kernelspec": {
      "display_name": "Python 3",
      "name": "python3"
    },
    "language_info": {
      "name": "python"
    }
  },
  "nbformat": 4,
  "nbformat_minor": 0
}