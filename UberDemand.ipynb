{
  "nbformat": 4,
  "nbformat_minor": 0,
  "metadata": {
    "colab": {
      "provenance": [],
      "include_colab_link": true
    },
    "kernelspec": {
      "name": "python3",
      "display_name": "Python 3"
    },
    "language_info": {
      "name": "python"
    }
  },
  "cells": [
    {
      "cell_type": "markdown",
      "metadata": {
        "id": "view-in-github",
        "colab_type": "text"
      },
      "source": [
        "<a href=\"https://colab.research.google.com/github/zwellman99/Rideshare-Driver-Model-Recommendation/blob/main/UberDemand.ipynb\" target=\"_parent\"><img src=\"https://colab.research.google.com/assets/colab-badge.svg\" alt=\"Open In Colab\"/></a>"
      ]
    },
    {
      "cell_type": "code",
      "execution_count": null,
      "metadata": {
        "id": "g3S7RZuK368K"
      },
      "outputs": [],
      "source": []
    },
    {
      "cell_type": "markdown",
      "metadata": {
        "id": "Ju4mttrj4aVd"
      },
      "source": [
        "### Importing data"
      ]
    },
    {
      "cell_type": "code",
      "execution_count": null,
      "metadata": {
        "colab": {
          "base_uri": "https://localhost:8080/"
        },
        "id": "_72NdSjmdldt",
        "outputId": "82e5c19a-f079-4cfa-a28b-042cc7a1fb27"
      },
      "outputs": [
        {
          "output_type": "stream",
          "name": "stdout",
          "text": [
            "Looking in indexes: https://pypi.org/simple, https://us-python.pkg.dev/colab-wheels/public/simple/\n",
            "Collecting simple-colors\n",
            "  Downloading simple_colors-0.1.5-py3-none-any.whl (2.8 kB)\n",
            "Installing collected packages: simple-colors\n",
            "Successfully installed simple-colors-0.1.5\n"
          ]
        }
      ],
      "source": [
        "!pip install simple-colors"
      ]
    },
    {
      "cell_type": "code",
      "execution_count": null,
      "metadata": {
        "colab": {
          "base_uri": "https://localhost:8080/"
        },
        "id": "AH-roOF9-Hg1",
        "outputId": "3b79fd43-5a87-4690-9876-bb5448030f5a"
      },
      "outputs": [
        {
          "output_type": "stream",
          "name": "stdout",
          "text": [
            "Looking in indexes: https://pypi.org/simple, https://us-python.pkg.dev/colab-wheels/public/simple/\n",
            "Collecting opendatasets\n",
            "  Downloading opendatasets-0.1.22-py3-none-any.whl (15 kB)\n",
            "Requirement already satisfied: tqdm in /usr/local/lib/python3.8/dist-packages (from opendatasets) (4.64.1)\n",
            "Requirement already satisfied: kaggle in /usr/local/lib/python3.8/dist-packages (from opendatasets) (1.5.12)\n",
            "Requirement already satisfied: click in /usr/local/lib/python3.8/dist-packages (from opendatasets) (7.1.2)\n",
            "Requirement already satisfied: certifi in /usr/local/lib/python3.8/dist-packages (from kaggle->opendatasets) (2022.12.7)\n",
            "Requirement already satisfied: six>=1.10 in /usr/local/lib/python3.8/dist-packages (from kaggle->opendatasets) (1.15.0)\n",
            "Requirement already satisfied: requests in /usr/local/lib/python3.8/dist-packages (from kaggle->opendatasets) (2.25.1)\n",
            "Requirement already satisfied: python-dateutil in /usr/local/lib/python3.8/dist-packages (from kaggle->opendatasets) (2.8.2)\n",
            "Requirement already satisfied: urllib3 in /usr/local/lib/python3.8/dist-packages (from kaggle->opendatasets) (1.24.3)\n",
            "Requirement already satisfied: python-slugify in /usr/local/lib/python3.8/dist-packages (from kaggle->opendatasets) (8.0.0)\n",
            "Requirement already satisfied: text-unidecode>=1.3 in /usr/local/lib/python3.8/dist-packages (from python-slugify->kaggle->opendatasets) (1.3)\n",
            "Requirement already satisfied: idna<3,>=2.5 in /usr/local/lib/python3.8/dist-packages (from requests->kaggle->opendatasets) (2.10)\n",
            "Requirement already satisfied: chardet<5,>=3.0.2 in /usr/local/lib/python3.8/dist-packages (from requests->kaggle->opendatasets) (4.0.0)\n",
            "Installing collected packages: opendatasets\n",
            "Successfully installed opendatasets-0.1.22\n"
          ]
        }
      ],
      "source": [
        "!pip install opendatasets"
      ]
    },
    {
      "cell_type": "code",
      "execution_count": null,
      "metadata": {
        "id": "0QZNDDSc9nmE",
        "colab": {
          "base_uri": "https://localhost:8080/"
        },
        "outputId": "a29b1a52-c2bd-4eb6-a5da-af9125863cab"
      },
      "outputs": [
        {
          "output_type": "stream",
          "name": "stdout",
          "text": [
            "Mounted at /content/drive\n"
          ]
        }
      ],
      "source": [
        "from google.colab import drive\n",
        "drive.mount('/content/drive')"
      ]
    },
    {
      "cell_type": "code",
      "execution_count": null,
      "metadata": {
        "id": "spWe8wX-dM1O"
      },
      "outputs": [],
      "source": [
        "import opendatasets as od\n",
        "import pandas as pd\n",
        "import os\n",
        "import matplotlib.pyplot as plt\n",
        "import numpy as np\n",
        "import seaborn as sns\n",
        "import pandas as pd\n",
        "from datetime import datetime\n",
        "from sklearn import preprocessing\n",
        "from datetime import datetime\n",
        "from sklearn.feature_selection import SelectKBest\n",
        "from sklearn.feature_selection import chi2\n",
        "from sklearn.model_selection import train_test_split\n",
        "from sklearn.metrics import accuracy_score\n",
        "from sklearn.linear_model import LinearRegression\n",
        "from sklearn.linear_model import LogisticRegression\n",
        "from sklearn.tree import DecisionTreeRegressor\n",
        "from sklearn.ensemble import RandomForestRegressor\n",
        "from sklearn.ensemble import GradientBoostingRegressor\n",
        "from sklearn.ensemble import AdaBoostRegressor\n",
        "from sklearn.ensemble import BaggingRegressor\n",
        "from sklearn.neighbors import KNeighborsRegressor\n",
        "from sklearn.feature_selection import RFE\n",
        "from simple_colors import *"
      ]
    },
    {
      "cell_type": "code",
      "execution_count": null,
      "metadata": {
        "id": "Y6bSqv2prFZT",
        "colab": {
          "base_uri": "https://localhost:8080/"
        },
        "outputId": "aead3361-4356-4eb4-ea6e-b7088bcaf97e"
      },
      "outputs": [
        {
          "output_type": "stream",
          "name": "stdout",
          "text": [
            "Please provide your Kaggle credentials to download this dataset. Learn more: http://bit.ly/kaggle-creds\n",
            "Your Kaggle username: blakeandersonw\n",
            "Your Kaggle Key: ··········\n",
            "Downloading uber-and-lyft-dataset-boston-ma.zip to ./uber-and-lyft-dataset-boston-ma\n"
          ]
        },
        {
          "output_type": "stream",
          "name": "stderr",
          "text": [
            "100%|██████████| 44.5M/44.5M [00:00<00:00, 54.6MB/s]\n"
          ]
        },
        {
          "output_type": "stream",
          "name": "stdout",
          "text": [
            "\n"
          ]
        }
      ],
      "source": [
        "od.download(\"https://www.kaggle.com/datasets/brllrb/uber-and-lyft-dataset-boston-ma\")\n",
        "os.chdir('/content/uber-and-lyft-dataset-boston-ma')\n",
        "df = pd.read_csv(\"rideshare_kaggle.csv\")"
      ]
    },
    {
      "cell_type": "code",
      "source": [
        "od.download(\"https://www.kaggle.com/datasets/yasserh/uber-fares-dataset\")\n",
        "os.chdir('/content/uber-and-lyft-dataset-boston-ma/uber-fares-dataset')\n",
        "df = pd.read_csv(\"uber.csv\")"
      ],
      "metadata": {
        "colab": {
          "base_uri": "https://localhost:8080/"
        },
        "id": "tj4c5Clq6avO",
        "outputId": "e554a537-a2f5-4ac5-8470-e79f238df157"
      },
      "execution_count": null,
      "outputs": [
        {
          "output_type": "stream",
          "name": "stdout",
          "text": [
            "Please provide your Kaggle credentials to download this dataset. Learn more: http://bit.ly/kaggle-creds\n",
            "Your Kaggle username: blakeandersonw\n",
            "Your Kaggle Key: ··········\n",
            "Downloading uber-fares-dataset.zip to ./uber-fares-dataset\n"
          ]
        },
        {
          "output_type": "stream",
          "name": "stderr",
          "text": [
            "100%|██████████| 7.04M/7.04M [00:00<00:00, 57.1MB/s]"
          ]
        },
        {
          "output_type": "stream",
          "name": "stdout",
          "text": [
            "\n"
          ]
        },
        {
          "output_type": "stream",
          "name": "stderr",
          "text": [
            "\n"
          ]
        }
      ]
    },
    {
      "cell_type": "markdown",
      "metadata": {
        "id": "0MixQnUlzkDw"
      },
      "source": [
        "**username:** blakeandersonw\n",
        "\n",
        "**key:** 5c7b7542c5ad7af0d6015b98bfa868b4"
      ]
    },
    {
      "cell_type": "code",
      "source": [],
      "metadata": {
        "id": "icM2KMQ-n2GH"
      },
      "execution_count": null,
      "outputs": []
    },
    {
      "cell_type": "code",
      "source": [
        "df['pickup_datetime'] = pd.to_datetime(df['pickup_datetime'])\n",
        "# Group the data by day of the week and hour of the day, and count the number of rides\n",
        "weekly_demand = df.groupby([df['pickup_datetime'].dt.dayofweek, df['pickup_datetime'].dt.hour]).size().unstack()\n",
        "\n",
        "# Reshape the weekly demand data into a one-dimensional array\n",
        "weekly_demand_reshaped = weekly_demand.values.reshape(-1)\n",
        "\n",
        "# Plot the average hourly demand for each day of the week as a bar graph\n",
        "fig, ax = plt.subplots()\n",
        "ax.bar(x=range(168), height=weekly_demand_reshaped, width=1)\n",
        "ax.set_xticks([12 + i*24 for i in range(7)])\n",
        "ax.set_xticklabels(['Sun', 'Mon', 'Tue', 'Wed', 'Thu', 'Fri', 'Sat'])\n",
        "plt.show()"
      ],
      "metadata": {
        "colab": {
          "base_uri": "https://localhost:8080/",
          "height": 265
        },
        "id": "DA2K3nyW4J02",
        "outputId": "4d66f7aa-073d-4503-a216-cbeeb28f2b67"
      },
      "execution_count": null,
      "outputs": [
        {
          "output_type": "display_data",
          "data": {
            "text/plain": [
              "<Figure size 432x288 with 1 Axes>"
            ],
            "image/png": "[encoded data removed]"
          },
          "metadata": {
            "needs_background": "light"
          }
        }
      ]
    },
    {
      "cell_type": "code",
      "source": [
        "fig, axs = plt.subplots(1, 7, figsize=(30, 6), sharey=True)\n",
        "days = ['Sun', 'Mon', 'Tue', 'Wed', 'Thu', 'Fri', 'Sat']\n",
        "\n",
        "for i, day in enumerate(days):\n",
        "    axs[i].bar(range(24), weekly_demand.loc[i], width=0.8)\n",
        "    axs[i].set_xticks(range(24))\n",
        "    axs[i].set_xticklabels(range(24))\n",
        "    axs[i].set_title(day)\n",
        "\n",
        "plt.show()\n"
      ],
      "metadata": {
        "colab": {
          "base_uri": "https://localhost:8080/",
          "height": 349
        },
        "id": "y1Tb592CdlO2",
        "outputId": "b149425d-2268-4622-e29b-2508742b24fd"
      },
      "execution_count": null,
      "outputs": [
        {
          "output_type": "display_data",
          "data": {
            "text/plain": [
              "<Figure size 2160x432 with 7 Axes>"
            ],
            "image/png": "[encoded data removed]"
          },
          "metadata": {
            "needs_background": "light"
          }
        }
      ]
    },
    {
      "cell_type": "code",
      "source": [
        "def calc_demand(num_rides, num_drivers):\n",
        "  return(num_rides/num_drivers)"
      ],
      "metadata": {
        "id": "Zi3rFWX-dtWQ"
      },
      "execution_count": null,
      "outputs": []
    },
    {
      "cell_type": "markdown",
      "source": [
        "## Predicting Price"
      ],
      "metadata": {
        "id": "GajnfXPo_e7k"
      }
    },
    {
      "cell_type": "markdown",
      "source": [
        "###Examining location distribution... all in New York"
      ],
      "metadata": {
        "id": "atWzJKEx_hch"
      }
    },
    {
      "cell_type": "code",
      "source": [
        "# Create subplots\n",
        "fig, axs = plt.subplots(1, 2, figsize=(10, 5))\n",
        "\n",
        "filtered_df = df[(df['pickup_longitude'] >= -74.5) & (df['pickup_longitude'] <= -73.5) & (df['pickup_latitude'] >= 40) & (df['pickup_latitude'] <= 42)]\n",
        "\n",
        "# Plot distribution of pickup_longitude\n",
        "axs[0].hist(filtered_df['pickup_longitude'], bins=50)\n",
        "axs[0].set_xlabel('pickup_longitude')\n",
        "axs[0].set_ylabel('Frequency')\n",
        "\n",
        "# Plot distribution of pickup_latitude\n",
        "axs[1].hist(filtered_df['pickup_latitude'], bins=50)\n",
        "axs[1].set_xlabel('pickup_latitude')\n",
        "axs[1].set_ylabel('Frequency')\n",
        "\n",
        "# Display the plot\n",
        "plt.show()"
      ],
      "metadata": {
        "colab": {
          "base_uri": "https://localhost:8080/",
          "height": 335
        },
        "id": "UJhJhAHw_dYt",
        "outputId": "f0d7d016-690b-45f2-d1ab-9d193cf2e05a"
      },
      "execution_count": null,
      "outputs": [
        {
          "output_type": "display_data",
          "data": {
            "text/plain": [
              "<Figure size 720x360 with 2 Axes>"
            ],
            "image/png": "[encoded data removed]"
          },
          "metadata": {
            "needs_background": "light"
          }
        }
      ]
    },
    {
      "cell_type": "markdown",
      "source": [
        "###Editing dataset for analysis"
      ],
      "metadata": {
        "id": "3xrFHv5L_nUd"
      }
    },
    {
      "cell_type": "markdown",
      "source": [
        "Calculating distance (as a hawk flies)"
      ],
      "metadata": {
        "id": "dNOzMmUC_6dq"
      }
    },
    {
      "cell_type": "code",
      "source": [
        "from math import radians, sin, cos, sqrt, asin\n",
        "\n",
        "def haversine_distance(row):\n",
        "    \"\"\"\n",
        "    Calculate the great circle distance between two points\n",
        "    on the Earth (specified in decimal degrees)\n",
        "    \"\"\"\n",
        "    # unpack the values from the row\n",
        "    lat1, lon1, lat2, lon2 = row[['pickup_latitude', 'pickup_longitude',\n",
        "                                  'dropoff_latitude', 'dropoff_longitude']]\n",
        "    \n",
        "    # convert decimal degrees to radians\n",
        "    lon1, lat1, lon2, lat2 = map(radians, [lon1, lat1, lon2, lat2])\n",
        "\n",
        "    # Haversine formula\n",
        "    dlon = lon2 - lon1\n",
        "    dlat = lat2 - lat1\n",
        "    a = sin(dlat/2)**2 + cos(lat1) * cos(lat2) * sin(dlon/2)**2\n",
        "    c = 2 * asin(sqrt(a))\n",
        "    r = 6371 # Radius of earth in kilometers. Use 3959 for miles\n",
        "    return c * r\n",
        "\n",
        "# Apply the function to the DataFrame and assign the result to a new column\n",
        "df['distance'] = df.apply(haversine_distance, axis=1)"
      ],
      "metadata": {
        "id": "b_tImPQXoYJM"
      },
      "execution_count": null,
      "outputs": []
    },
    {
      "cell_type": "markdown",
      "source": [
        "Converting datetime to EST, then adding hour, day of week, and month columns."
      ],
      "metadata": {
        "id": "NxODiAv2_sLS"
      }
    },
    {
      "cell_type": "code",
      "source": [
        "import pytz\n",
        "from datetime import datetime\n",
        "\n",
        "# Convert pickup_datetime column to EST timezone\n",
        "df['pickup_datetime'] = pd.to_datetime(df['pickup_datetime']).dt.tz_convert(pytz.timezone('US/Eastern'))\n",
        "df['hour'] = df['pickup_datetime'].dt.hour\n",
        "df['day'] = df['pickup_datetime'].dt.dayofweek\n",
        "df['month'] = df['pickup_datetime'].dt.month\n",
        "df.head()"
      ],
      "metadata": {
        "colab": {
          "base_uri": "https://localhost:8080/",
          "height": 354
        },
        "id": "KPaNKt9x6Yzu",
        "outputId": "7f6ab21a-d377-4f4e-8913-447e605cfe8b"
      },
      "execution_count": null,
      "outputs": [
        {
          "output_type": "execute_result",
          "data": {
            "text/plain": [
              "   Unnamed: 0                            key  fare_amount  \\\n",
              "0    24238194    2015-05-07 19:52:06.0000003          7.5   \n",
              "1    27835199    2009-07-17 20:04:56.0000002          7.7   \n",
              "2    44984355   2009-08-24 21:45:00.00000061         12.9   \n",
              "3    25894730    2009-06-26 08:22:21.0000001          5.3   \n",
              "4    17610152  2014-08-28 17:47:00.000000188         16.0   \n",
              "\n",
              "            pickup_datetime  pickup_longitude  pickup_latitude  \\\n",
              "0 2015-05-07 15:52:06-04:00        -73.999817        40.738354   \n",
              "1 2009-07-17 16:04:56-04:00        -73.994355        40.728225   \n",
              "2 2009-08-24 17:45:00-04:00        -74.005043        40.740770   \n",
              "3 2009-06-26 04:22:21-04:00        -73.976124        40.790844   \n",
              "4 2014-08-28 13:47:00-04:00        -73.925023        40.744085   \n",
              "\n",
              "   dropoff_longitude  dropoff_latitude  passenger_count  distance  hour  day  \\\n",
              "0         -73.999512         40.723217                1  1.683323    15    3   \n",
              "1         -73.994710         40.750325                1  2.457590    16    4   \n",
              "2         -73.962565         40.772647                1  5.036377    17    0   \n",
              "3         -73.965316         40.803349                3  1.661683     4    4   \n",
              "4         -73.973082         40.761247                5  4.475450    13    3   \n",
              "\n",
              "   month  \n",
              "0      5  \n",
              "1      7  \n",
              "2      8  \n",
              "3      6  \n",
              "4      8  "
            ],
            "text/html": [
              "\n",
              "  <div id=\"df-ea0df875-4d21-406b-b21c-a159a1c4b214\">\n",
              "    <div class=\"colab-df-container\">\n",
              "      <div>\n",
              "<style scoped>\n",
              "    .dataframe tbody tr th:only-of-type {\n",
              "        vertical-align: middle;\n",
              "    }\n",
              "\n",
              "    .dataframe tbody tr th {\n",
              "        vertical-align: top;\n",
              "    }\n",
              "\n",
              "    .dataframe thead th {\n",
              "        text-align: right;\n",
              "    }\n",
              "</style>\n",
              "<table border=\"1\" class=\"dataframe\">\n",
              "  <thead>\n",
              "    <tr style=\"text-align: right;\">\n",
              "      <th></th>\n",
              "      <th>Unnamed: 0</th>\n",
              "      <th>key</th>\n",
              "      <th>fare_amount</th>\n",
              "      <th>pickup_datetime</th>\n",
              "      <th>pickup_longitude</th>\n",
              "      <th>pickup_latitude</th>\n",
              "      <th>dropoff_longitude</th>\n",
              "      <th>dropoff_latitude</th>\n",
              "      <th>passenger_count</th>\n",
              "      <th>distance</th>\n",
              "      <th>hour</th>\n",
              "      <th>day</th>\n",
              "      <th>month</th>\n",
              "    </tr>\n",
              "  </thead>\n",
              "  <tbody>\n",
              "    <tr>\n",
              "      <th>0</th>\n",
              "      <td>24238194</td>\n",
              "      <td>2015-05-07 19:52:06.0000003</td>\n",
              "      <td>7.5</td>\n",
              "      <td>2015-05-07 15:52:06-04:00</td>\n",
              "      <td>-73.999817</td>\n",
              "      <td>40.738354</td>\n",
              "      <td>-73.999512</td>\n",
              "      <td>40.723217</td>\n",
              "      <td>1</td>\n",
              "      <td>1.683323</td>\n",
              "      <td>15</td>\n",
              "      <td>3</td>\n",
              "      <td>5</td>\n",
              "    </tr>\n",
              "    <tr>\n",
              "      <th>1</th>\n",
              "      <td>27835199</td>\n",
              "      <td>2009-07-17 20:04:56.0000002</td>\n",
              "      <td>7.7</td>\n",
              "      <td>2009-07-17 16:04:56-04:00</td>\n",
              "      <td>-73.994355</td>\n",
              "      <td>40.728225</td>\n",
              "      <td>-73.994710</td>\n",
              "      <td>40.750325</td>\n",
              "      <td>1</td>\n",
              "      <td>2.457590</td>\n",
              "      <td>16</td>\n",
              "      <td>4</td>\n",
              "      <td>7</td>\n",
              "    </tr>\n",
              "    <tr>\n",
              "      <th>2</th>\n",
              "      <td>44984355</td>\n",
              "      <td>2009-08-24 21:45:00.00000061</td>\n",
              "      <td>12.9</td>\n",
              "      <td>2009-08-24 17:45:00-04:00</td>\n",
              "      <td>-74.005043</td>\n",
              "      <td>40.740770</td>\n",
              "      <td>-73.962565</td>\n",
              "      <td>40.772647</td>\n",
              "      <td>1</td>\n",
              "      <td>5.036377</td>\n",
              "      <td>17</td>\n",
              "      <td>0</td>\n",
              "      <td>8</td>\n",
              "    </tr>\n",
              "    <tr>\n",
              "      <th>3</th>\n",
              "      <td>25894730</td>\n",
              "      <td>2009-06-26 08:22:21.0000001</td>\n",
              "      <td>5.3</td>\n",
              "      <td>2009-06-26 04:22:21-04:00</td>\n",
              "      <td>-73.976124</td>\n",
              "      <td>40.790844</td>\n",
              "      <td>-73.965316</td>\n",
              "      <td>40.803349</td>\n",
              "      <td>3</td>\n",
              "      <td>1.661683</td>\n",
              "      <td>4</td>\n",
              "      <td>4</td>\n",
              "      <td>6</td>\n",
              "    </tr>\n",
              "    <tr>\n",
              "      <th>4</th>\n",
              "      <td>17610152</td>\n",
              "      <td>2014-08-28 17:47:00.000000188</td>\n",
              "      <td>16.0</td>\n",
              "      <td>2014-08-28 13:47:00-04:00</td>\n",
              "      <td>-73.925023</td>\n",
              "      <td>40.744085</td>\n",
              "      <td>-73.973082</td>\n",
              "      <td>40.761247</td>\n",
              "      <td>5</td>\n",
              "      <td>4.475450</td>\n",
              "      <td>13</td>\n",
              "      <td>3</td>\n",
              "      <td>8</td>\n",
              "    </tr>\n",
              "  </tbody>\n",
              "</table>\n",
              "</div>\n",
              "      <button class=\"colab-df-convert\" onclick=\"convertToInteractive('df-ea0df875-4d21-406b-b21c-a159a1c4b214')\"\n",
              "              title=\"Convert this dataframe to an interactive table.\"\n",
              "              style=\"display:none;\">\n",
              "        \n",
              "  <svg xmlns=\"http://www.w3.org/2000/svg\" height=\"24px\"viewBox=\"0 0 24 24\"\n",
              "       width=\"24px\">\n",
              "    <path d=\"M0 0h24v24H0V0z\" fill=\"none\"/>\n",
              "    <path d=\"M18.56 5.44l.94 2.06.94-2.06 2.06-.94-2.06-.94-.94-2.06-.94 2.06-2.06.94zm-11 1L8.5 8.5l.94-2.06 2.06-.94-2.06-.94L8.5 2.5l-.94 2.06-2.06.94zm10 10l.94 2.06.94-2.06 2.06-.94-2.06-.94-.94-2.06-.94 2.06-2.06.94z\"/><path d=\"M17.41 7.96l-1.37-1.37c-.4-.4-.92-.59-1.43-.59-.52 0-1.04.2-1.43.59L10.3 9.45l-7.72 7.72c-.78.78-.78 2.05 0 2.83L4 21.41c.39.39.9.59 1.41.59.51 0 1.02-.2 1.41-.59l7.78-7.78 2.81-2.81c.8-.78.8-2.07 0-2.86zM5.41 20L4 18.59l7.72-7.72 1.47 1.35L5.41 20z\"/>\n",
              "  </svg>\n",
              "      </button>\n",
              "      \n",
              "  <style>\n",
              "    .colab-df-container {\n",
              "      display:flex;\n",
              "      flex-wrap:wrap;\n",
              "      gap: 12px;\n",
              "    }\n",
              "\n",
              "    .colab-df-convert {\n",
              "      background-color: #E8F0FE;\n",
              "      border: none;\n",
              "      border-radius: 50%;\n",
              "      cursor: pointer;\n",
              "      display: none;\n",
              "      fill: #1967D2;\n",
              "      height: 32px;\n",
              "      padding: 0 0 0 0;\n",
              "      width: 32px;\n",
              "    }\n",
              "\n",
              "    .colab-df-convert:hover {\n",
              "      background-color: #E2EBFA;\n",
              "      box-shadow: 0px 1px 2px rgba(60, 64, 67, 0.3), 0px 1px 3px 1px rgba(60, 64, 67, 0.15);\n",
              "      fill: #174EA6;\n",
              "    }\n",
              "\n",
              "    [theme=dark] .colab-df-convert {\n",
              "      background-color: #3B4455;\n",
              "      fill: #D2E3FC;\n",
              "    }\n",
              "\n",
              "    [theme=dark] .colab-df-convert:hover {\n",
              "      background-color: #434B5C;\n",
              "      box-shadow: 0px 1px 3px 1px rgba(0, 0, 0, 0.15);\n",
              "      filter: drop-shadow(0px 1px 2px rgba(0, 0, 0, 0.3));\n",
              "      fill: #FFFFFF;\n",
              "    }\n",
              "  </style>\n",
              "\n",
              "      <script>\n",
              "        const buttonEl =\n",
              "          document.querySelector('#df-ea0df875-4d21-406b-b21c-a159a1c4b214 button.colab-df-convert');\n",
              "        buttonEl.style.display =\n",
              "          google.colab.kernel.accessAllowed ? 'block' : 'none';\n",
              "\n",
              "        async function convertToInteractive(key) {\n",
              "          const element = document.querySelector('#df-ea0df875-4d21-406b-b21c-a159a1c4b214');\n",
              "          const dataTable =\n",
              "            await google.colab.kernel.invokeFunction('convertToInteractive',\n",
              "                                                     [key], {});\n",
              "          if (!dataTable) return;\n",
              "\n",
              "          const docLinkHtml = 'Like what you see? Visit the ' +\n",
              "            '<a target=\"_blank\" href=https://colab.research.google.com/notebooks/data_table.ipynb>data table notebook</a>'\n",
              "            + ' to learn more about interactive tables.';\n",
              "          element.innerHTML = '';\n",
              "          dataTable['output_type'] = 'display_data';\n",
              "          await google.colab.output.renderOutput(dataTable, element);\n",
              "          const docLink = document.createElement('div');\n",
              "          docLink.innerHTML = docLinkHtml;\n",
              "          element.appendChild(docLink);\n",
              "        }\n",
              "      </script>\n",
              "    </div>\n",
              "  </div>\n",
              "  "
            ]
          },
          "metadata": {},
          "execution_count": 12
        }
      ]
    },
    {
      "cell_type": "markdown",
      "source": [
        "Replacing null values."
      ],
      "metadata": {
        "id": "pmfK8PZW_76y"
      }
    },
    {
      "cell_type": "code",
      "source": [
        "# Replace null values with median integer for passenger_count, hour, day, and month\n",
        "df['passenger_count'] = df['passenger_count'].fillna(df['passenger_count'].median())\n",
        "df['hour'] = df['hour'].fillna(df['hour'].median())\n",
        "df['day'] = df['day'].fillna(df['day'].median())\n",
        "df['month'] = df['month'].fillna(df['month'].median())\n",
        "\n",
        "# Replace null values with the mean for distance\n",
        "df['distance'] = df['distance'].fillna(df['distance'].mean())"
      ],
      "metadata": {
        "id": "96FWLVGW7HFW"
      },
      "execution_count": null,
      "outputs": []
    },
    {
      "cell_type": "markdown",
      "source": [
        "###Price modeling.\n"
      ],
      "metadata": {
        "id": "KULf7-dNAAUM"
      }
    },
    {
      "cell_type": "code",
      "source": [
        "from xgboost import XGBRegressor\n",
        "from sklearn.metrics import r2_score\n",
        "\n",
        "# Separate the features and target variable\n",
        "X = df[['passenger_count', 'hour', 'day', 'month', 'distance']]\n",
        "y = df['fare_amount']\n",
        "\n",
        "# Split the data into training and testing sets\n",
        "X_train, X_test, y_train, y_test = train_test_split(X, y, test_size=0.2, random_state=42)\n",
        "\n",
        "# Train the models\n",
        "models = {'Linear Regression': LinearRegression(),\n",
        "          'Decision Tree': DecisionTreeRegressor(random_state=42),\n",
        "          'Random Forest': RandomForestRegressor(random_state=42),\n",
        "          'XGBoost': XGBRegressor(random_state=42)}\n",
        "\n",
        "for name, model in models.items():\n",
        "    model.fit(X_train, y_train)\n",
        "    y_pred = model.predict(X_test)\n",
        "    r2 = r2_score(y_test, y_pred)\n",
        "    print(f\"{name} R-squared: {r2:.4f}\")\n",
        "\n",
        "# Plot the results\n",
        "fig, ax = plt.subplots(figsize=(10, 6))\n",
        "ax.bar(models.keys(), [r2_score(y_test, model.predict(X_test)) for model in models.values()])\n",
        "ax.set_xlabel('Model')\n",
        "ax.set_ylabel('R-squared')\n",
        "ax.set_title('Predictive Power of Different Machine Learning Models')\n",
        "plt.show()"
      ],
      "metadata": {
        "colab": {
          "base_uri": "https://localhost:8080/",
          "height": 494
        },
        "id": "vo0wAMJ77gkn",
        "outputId": "97aa67c2-4b62-47b4-9923-f3810bd857d3"
      },
      "execution_count": null,
      "outputs": [
        {
          "output_type": "stream",
          "name": "stdout",
          "text": [
            "Linear Regression R-squared: 0.0012\n",
            "Decision Tree R-squared: 0.3656\n",
            "Random Forest R-squared: 0.6440\n",
            "[15:29:29] WARNING: /workspace/src/objective/regression_obj.cu:152: reg:linear is now deprecated in favor of reg:squarederror.\n",
            "XGBoost R-squared: 0.6814\n"
          ]
        },
        {
          "output_type": "display_data",
          "data": {
            "text/plain": [
              "<Figure size 720x432 with 1 Axes>"
            ],
            "image/png": "[encoded data removed]"
          },
          "metadata": {
            "needs_background": "light"
          }
        }
      ]
    },
    {
      "cell_type": "code",
      "source": [
        "import xgboost as xgb\n",
        "\n",
        "# Train the XGBoost model\n",
        "xgb_model = xgb.XGBRegressor(random_state=42)\n",
        "xgb_model.fit(X_train, y_train)\n",
        "\n",
        "# Save the XGBoost model to disk\n",
        "xgb_model.save_model('xgb_model.bin')\n",
        "\n",
        "# Create a function that uses the saved model to predict fare amount\n",
        "def predict_fare_amount(passenger_count, hour, day, month, distance):\n",
        "    # Load the trained model from disk\n",
        "    model = xgb.Booster()\n",
        "    model.load_model('xgb_model.bin')\n",
        "\n",
        "    # Prepare the input data as a Pandas DataFrame\n",
        "    data = {'passenger_count': [passenger_count],\n",
        "            'hour': [hour],\n",
        "            'day': [day],\n",
        "            'month': [month],\n",
        "            'distance': [distance]}\n",
        "    df = pd.DataFrame(data)\n",
        "\n",
        "    # Use the trained model to make a prediction\n",
        "    prediction = model.predict(xgb.DMatrix(df))[0]\n",
        "\n",
        "    # Return the predicted fare amount\n",
        "    return prediction\n"
      ],
      "metadata": {
        "colab": {
          "base_uri": "https://localhost:8080/"
        },
        "id": "cOrEACkA9_pL",
        "outputId": "a20216f5-8500-4c3b-942a-e580ee025c6c"
      },
      "execution_count": null,
      "outputs": [
        {
          "output_type": "stream",
          "name": "stdout",
          "text": [
            "[15:29:41] WARNING: /workspace/src/objective/regression_obj.cu:152: reg:linear is now deprecated in favor of reg:squarederror.\n"
          ]
        }
      ]
    },
    {
      "cell_type": "code",
      "source": [
        "# Use the trained model to predict fare amount for the test set\n",
        "y_pred = xgb_model.predict(X_test)\n",
        "\n",
        "# Compare the predictions with the actual values\n",
        "predictions = pd.DataFrame({'Actual': y_test, 'Predicted': y_pred})\n",
        "print(predictions.head())"
      ],
      "metadata": {
        "colab": {
          "base_uri": "https://localhost:8080/"
        },
        "id": "JStHJR5m-7Fo",
        "outputId": "9a3f58a8-db64-4bfd-993b-f95a9576d23a"
      },
      "execution_count": null,
      "outputs": [
        {
          "output_type": "stream",
          "name": "stdout",
          "text": [
            "        Actual  Predicted\n",
            "119737     5.5   5.422705\n",
            "72272     45.0  12.335295\n",
            "158154     5.3   8.611411\n",
            "65426     32.3  23.104506\n",
            "30074      4.1   5.314526\n"
          ]
        }
      ]
    }
  ]
}