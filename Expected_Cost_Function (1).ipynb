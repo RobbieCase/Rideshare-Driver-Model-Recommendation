{
  "cells": [
    {
      "cell_type": "markdown",
      "metadata": {
        "id": "HurnRDEcE5-m"
      },
      "source": [
        "\n",
        "Uber and Lyft Dataset Boston, MA | Kaggle (57 columns, 60k rows)\n",
        "https://www.kaggle.com/datasets/brllrb/uber-and-lyft-dataset-boston-ma\n",
        "\n",
        "Uber Fares Dataset | Kaggle (9 columns, 200k rows)\n",
        "https://www.kaggle.com/datasets/yasserh/uber-fares-dataset\n"
      ]
    },
    {
      "cell_type": "code",
      "execution_count": null,
      "metadata": {
        "id": "73CnCmCrFQ0B"
      },
      "outputs": [],
      "source": [
        "!pip install -q kaggle\n",
        "!pip install opendatasets\n",
        "!pip install pandas\n",
        "import opendatasets as od\n",
        "import pandas as pd\n",
        "import numpy as np\n",
        "import os\n",
        "from google.colab import drive\n",
        "from kaggle.api.kaggle_api_extended import KaggleApi\n",
        "\n",
        "drive.mount('/content/drive')"
      ]
    },
    {
      "cell_type": "code",
      "source": [
        "od.download(\"https://www.kaggle.com/datasets/brllrb/uber-and-lyft-dataset-boston-ma\")\n",
        "os.chdir('/content/uber-and-lyft-dataset-boston-ma')\n",
        "uber_df = pd.read_csv(\"rideshare_kaggle.csv\")"
      ],
      "metadata": {
        "colab": {
          "base_uri": "https://localhost:8080/"
        },
        "id": "NfcT4aCZbZUy",
        "outputId": "3daad0b3-302c-4bc5-a2a0-21316cc942f6"
      },
      "execution_count": 3,
      "outputs": [
        {
          "output_type": "stream",
          "name": "stdout",
          "text": [
            "Please provide your Kaggle credentials to download this dataset. Learn more: http://bit.ly/kaggle-creds\n",
            "Your Kaggle username: blakeandersonw\n",
            "Your Kaggle Key: ··········\n",
            "Downloading uber-and-lyft-dataset-boston-ma.zip to ./uber-and-lyft-dataset-boston-ma\n"
          ]
        },
        {
          "output_type": "stream",
          "name": "stderr",
          "text": [
            "100%|██████████| 44.5M/44.5M [00:00<00:00, 99.8MB/s]\n"
          ]
        },
        {
          "output_type": "stream",
          "name": "stdout",
          "text": [
            "\n"
          ]
        }
      ]
    },
    {
      "cell_type": "code",
      "source": [
        "od.download(\"https://www.kaggle.com/datasets/yasserh/uber-fares-dataset\")\n",
        "os.chdir('/content/uber-and-lyft-dataset-boston-ma/uber-fares-dataset')\n",
        "df = pd.read_csv(\"uber.csv\")"
      ],
      "metadata": {
        "colab": {
          "base_uri": "https://localhost:8080/"
        },
        "id": "2p2QqG6SchbC",
        "outputId": "41730144-dcd6-4724-baf2-5c8f95d0da35"
      },
      "execution_count": 4,
      "outputs": [
        {
          "output_type": "stream",
          "name": "stdout",
          "text": [
            "Please provide your Kaggle credentials to download this dataset. Learn more: http://bit.ly/kaggle-creds\n",
            "Your Kaggle username: blakeandersonw\n",
            "Your Kaggle Key: ··········\n",
            "Downloading uber-fares-dataset.zip to ./uber-fares-dataset\n"
          ]
        },
        {
          "output_type": "stream",
          "name": "stderr",
          "text": [
            "100%|██████████| 7.04M/7.04M [00:00<00:00, 63.6MB/s]"
          ]
        },
        {
          "output_type": "stream",
          "name": "stdout",
          "text": [
            "\n"
          ]
        },
        {
          "output_type": "stream",
          "name": "stderr",
          "text": [
            "\n"
          ]
        }
      ]
    },
    {
      "cell_type": "code",
      "source": [
        "od.download(\"https://www.kaggle.com/datasets/mruanova/us-gasoline-and-diesel-retail-prices-19952021\")\n",
        "os.chdir('/content/uber-and-lyft-dataset-boston-ma/uber-fares-dataset/us-gasoline-and-diesel-retail-prices-19952021/')\n",
        "gas_price_df = pd.read_csv(\"PET_PRI_GND_DCUS_NUS_W.csv\")"
      ],
      "metadata": {
        "id": "vUtNO5tXddzQ",
        "colab": {
          "base_uri": "https://localhost:8080/"
        },
        "outputId": "2b5831d1-cf0e-4e7b-f645-6d29a81d8ee4"
      },
      "execution_count": 5,
      "outputs": [
        {
          "output_type": "stream",
          "name": "stdout",
          "text": [
            "Please provide your Kaggle credentials to download this dataset. Learn more: http://bit.ly/kaggle-creds\n",
            "Your Kaggle username: blakeandersonw\n",
            "Your Kaggle Key: ··········\n",
            "Downloading us-gasoline-and-diesel-retail-prices-19952021.zip to ./us-gasoline-and-diesel-retail-prices-19952021\n"
          ]
        },
        {
          "output_type": "stream",
          "name": "stderr",
          "text": [
            "100%|██████████| 38.2k/38.2k [00:00<00:00, 23.4MB/s]"
          ]
        },
        {
          "output_type": "stream",
          "name": "stdout",
          "text": [
            "\n"
          ]
        },
        {
          "output_type": "stream",
          "name": "stderr",
          "text": [
            "\n"
          ]
        }
      ]
    },
    {
      "cell_type": "code",
      "source": [
        "od.download(\"https://www.kaggle.com/datasets/adityadesai13/used-car-dataset-ford-and-mercedes?select=hyundi.csv\")\n",
        "os.chdir('/content/uber-and-lyft-dataset-boston-ma/uber-fares-dataset/us-gasoline-and-diesel-retail-prices-19952021/used-car-dataset-ford-and-mercedes')"
      ],
      "metadata": {
        "colab": {
          "base_uri": "https://localhost:8080/"
        },
        "id": "EV9a-Fs1dun5",
        "outputId": "41b84f22-cf9c-4e49-8228-5ce25f993145"
      },
      "execution_count": 9,
      "outputs": [
        {
          "output_type": "stream",
          "name": "stdout",
          "text": [
            "Skipping, found downloaded files in \"./used-car-dataset-ford-and-mercedes\" (use force=True to force download)\n"
          ]
        }
      ]
    },
    {
      "cell_type": "markdown",
      "metadata": {
        "id": "K3zc7i6HHPd8"
      },
      "source": [
        "{\"username\":\"blakeandersonw\",\"key\":\"5c7b7542c5ad7af0d6015b98bfa868b4\"}\n",
        "\n"
      ]
    },
    {
      "cell_type": "code",
      "source": [
        "# create an instance of the Kaggle API client\n",
        "api = KaggleApi()\n",
        "api.authenticate()"
      ],
      "metadata": {
        "id": "qDGRMjE23wM5"
      },
      "execution_count": 10,
      "outputs": []
    },
    {
      "cell_type": "code",
      "source": [
        "# specify the download directory\n",
        "output_dir = '/content/downloads'"
      ],
      "metadata": {
        "id": "cpByOAeK3zhI"
      },
      "execution_count": 11,
      "outputs": []
    },
    {
      "cell_type": "code",
      "source": [
        "# download the datasets to the specified directory\n",
        "api.dataset_download_files(dataset='yasserh/uber-fares-dataset', path=output_dir, unzip=True)\n",
        "api.dataset_download_files(dataset='brllrb/uber-and-lyft-dataset-boston-ma', path=output_dir, unzip=True)\n",
        "api.dataset_download_files(dataset='mruanova/us-gasoline-and-diesel-retail-prices-19952021', path=output_dir, unzip=True)\n",
        "api.dataset_download_files(dataset='adityadesai13/used-car-dataset-ford-and-mercedes', path=output_dir, force=True, unzip=True, quiet=False)\n"
      ],
      "metadata": {
        "colab": {
          "base_uri": "https://localhost:8080/"
        },
        "id": "nUntGMwD3dJZ",
        "outputId": "784fb114-31fc-4ef0-c755-45ca36653fcc"
      },
      "execution_count": 12,
      "outputs": [
        {
          "output_type": "stream",
          "name": "stdout",
          "text": [
            "Downloading used-car-dataset-ford-and-mercedes.zip to /content/downloads\n"
          ]
        },
        {
          "output_type": "stream",
          "name": "stderr",
          "text": [
            "100%|██████████| 1.10M/1.10M [00:00<00:00, 103MB/s]"
          ]
        },
        {
          "output_type": "stream",
          "name": "stdout",
          "text": [
            "\n"
          ]
        },
        {
          "output_type": "stream",
          "name": "stderr",
          "text": [
            "\n"
          ]
        }
      ]
    },
    {
      "cell_type": "markdown",
      "metadata": {
        "id": "2-1XDFIz4kFp"
      },
      "source": [
        "### **MPG vs. Car Make & Model**\n",
        "\n",
        "---\n",
        "\n",
        "This data will be used when we make use of our cost function in order to accurately predict how much it will cost each driver to drive for Rideshare companies."
      ]
    },
    {
      "cell_type": "code",
      "source": [
        "os.chdir('/content/downloads')"
      ],
      "metadata": {
        "id": "gnEYN9oa6j6h"
      },
      "execution_count": 13,
      "outputs": []
    },
    {
      "cell_type": "code",
      "source": [
        "# Download the different car companies' data\n",
        "# Clean the data\n",
        "# Delete any unused columns\n",
        "\n",
        "from IPython.core.formatters import format_display_data\n",
        "import pandas as pd\n",
        "import numpy as np\n",
        "\n",
        "audi_data1 = pd.read_csv(\"audi.csv\")\n",
        "bmw_data1 = pd.read_csv(\"bmw.csv\")\n",
        "ford_data1 = pd.read_csv(\"ford.csv\")\n",
        "hyundai_data1 = pd.read_csv(\"hyundi.csv\")\n",
        "merc_data1 = pd.read_csv(\"merc.csv\")\n",
        "skkoda_data1 = pd.read_csv(\"skoda.csv\")\n",
        "toyota_data1 = pd.read_csv(\"toyota.csv\")\n",
        "vauxhall_data1 = pd.read_csv(\"vauxhall.csv\")\n",
        "vw_data1 = pd.read_csv(\"vw.csv\")"
      ],
      "metadata": {
        "id": "rfUlfn1D68DD"
      },
      "execution_count": 14,
      "outputs": []
    },
    {
      "cell_type": "code",
      "source": [
        "# delete extra columns\n",
        "audi_data = audi_data1.drop(columns=['transmission', 'tax', 'engineSize'])\n",
        "bmw_data = bmw_data1.drop(columns=['transmission', 'tax', 'engineSize'])\n",
        "ford_data = ford_data1.drop(columns=['transmission', 'tax', 'engineSize'])\n",
        "hyundai_data = hyundai_data1.drop(columns=['transmission', 'tax(£)', 'engineSize'])\n",
        "merc_data = merc_data1.drop(columns=['transmission', 'tax', 'engineSize'])\n",
        "skkoda_data = skkoda_data1.drop(columns=['transmission', 'tax', 'engineSize'])\n",
        "toyota_data = toyota_data1.drop(columns=['transmission', 'tax', 'engineSize'])\n",
        "vauxhall_data = vauxhall_data1.drop(columns=['transmission', 'tax', 'engineSize'])\n",
        "vw_data = vw_data1.drop(columns=['transmission', 'tax', 'engineSize'])\n",
        "\n",
        "# adding the company to all the dataframes\n",
        "audi_data['carType'] = \"Audi\"\n",
        "bmw_data['carType'] = \"BMW\"\n",
        "ford_data['carType'] = \"Ford\"\n",
        "hyundai_data['carType'] = \"Hyundai\"\n",
        "merc_data['carType'] = \"Mercedes\"\n",
        "skkoda_data['carType'] = \"Skkoda\"\n",
        "toyota_data['carType'] = \"Toyota\"\n",
        "vauxhall_data['carType'] = \"Vauxhall\"\n",
        "vw_data['carType'] = \"Volkswagen\"\n",
        "\n",
        "# reorder columns\n",
        "audi_data = audi_data[['carType', 'model', 'year', 'mpg', 'fuelType', 'price', 'mileage']]\n",
        "bmw_data = bmw_data[['carType', 'model', 'year', 'mpg', 'fuelType', 'price', 'mileage']]\n",
        "ford_data = ford_data[['carType', 'model', 'year', 'mpg', 'fuelType', 'price', 'mileage']]\n",
        "hyundai_data = hyundai_data[['carType', 'model', 'year', 'mpg', 'fuelType', 'price', 'mileage']]\n",
        "merc_data = merc_data[['carType', 'model', 'year', 'mpg', 'fuelType', 'price', 'mileage']]\n",
        "skkoda_data = skkoda_data[['carType', 'model', 'year', 'mpg', 'fuelType', 'price', 'mileage']]\n",
        "toyota_data = toyota_data[['carType', 'model', 'year', 'mpg', 'fuelType', 'price', 'mileage']]\n",
        "vauxhall_data = vauxhall_data[['carType', 'model', 'year', 'mpg', 'fuelType', 'price', 'mileage']]\n",
        "vw_data = vw_data[['carType', 'model', 'year', 'mpg', 'fuelType', 'price', 'mileage']]\n",
        "\n",
        "# check for any NaN inputs\n",
        "#audi_data.isnull().any()\n",
        "bmw_data.isnull().any()\n",
        "ford_data.isnull().any()\n",
        "hyundai_data.isnull().any()\n",
        "merc_data.isnull().any()\n",
        "skkoda_data.isnull().any()\n",
        "toyota_data.isnull().any()\n",
        "vauxhall_data.isnull().any()\n",
        "vw_data.isnull().any()"
      ],
      "metadata": {
        "id": "pndp1ztl49v6",
        "colab": {
          "base_uri": "https://localhost:8080/"
        },
        "outputId": "68a1fd4a-43c7-480e-bca9-c67b9ab9fb65"
      },
      "execution_count": 15,
      "outputs": [
        {
          "output_type": "execute_result",
          "data": {
            "text/plain": [
              "carType     False\n",
              "model       False\n",
              "year        False\n",
              "mpg         False\n",
              "fuelType    False\n",
              "price       False\n",
              "mileage     False\n",
              "dtype: bool"
            ]
          },
          "metadata": {},
          "execution_count": 15
        }
      ]
    },
    {
      "cell_type": "code",
      "source": [
        "# Merge the different data tables into one complete table\n",
        "# Get the average MPG by car make, model, and year\n",
        "\n",
        "merge_items = [\"carType\", \"model\", \"year\", \"mpg\", \"fuelType\", 'price', 'mileage']\n",
        "\n",
        "# merge all the dataframes\n",
        "cars_outer = audi_data.merge(bmw_data, on=merge_items, how=\"outer\").merge(\n",
        "    ford_data, on=merge_items, how=\"outer\").merge(hyundai_data, on=merge_items, how=\"outer\").merge(\n",
        "        merc_data, on=merge_items, how=\"outer\").merge(skkoda_data, on=merge_items, how=\"outer\").merge(\n",
        "            toyota_data, on=merge_items, how=\"outer\").merge(vauxhall_data, on=merge_items, how=\"outer\").merge(\n",
        "                vw_data, on=merge_items, how=\"outer\")\n",
        "\n",
        "# random sample from merged dataframe\n",
        "cars_outer = cars_outer.sample(n=200)\n",
        "\n",
        "cars_outer\n",
        "\n",
        "# Groupby car make, model, and year to get the average MPG\n",
        "# Plot to see distribution of mpg amongst random car makes and models\n",
        "# cars_outer.groupby(['carType', 'model', 'year'])[['mpg']].mean().plot.hist(bins=25)"
      ],
      "metadata": {
        "id": "i_h7mFwM5G7s",
        "colab": {
          "base_uri": "https://localhost:8080/",
          "height": 423
        },
        "outputId": "50830250-1103-48ae-cd5d-c0a90f147f26"
      },
      "execution_count": 16,
      "outputs": [
        {
          "output_type": "execute_result",
          "data": {
            "text/plain": [
              "          carType         model  year   mpg fuelType  price  mileage\n",
              "86045  Volkswagen          Golf  2019  47.1   Petrol  17298    11217\n",
              "61338      Skkoda         Fabia  2016  58.9   Petrol   9995    25503\n",
              "69368      Toyota          C-HR  2017  47.1   Petrol  16995    28973\n",
              "76997    Vauxhall          Viva  2018  46.3   Petrol   7999    12731\n",
              "29336        Ford         Focus  2015  74.3   Diesel   8400    43265\n",
              "...           ...           ...   ...   ...      ...    ...      ...\n",
              "26295        Ford         Focus  2015  61.4   Petrol   7990    27792\n",
              "66339      Toyota         Yaris  2017  86.0   Hybrid  13491     2450\n",
              "80067    Vauxhall   Crossland X  2018  78.5   Diesel  10995    16800\n",
              "50288    Mercedes       E Class  2019  48.7   Diesel  39480     3341\n",
              "14603         BMW      1 Series  2019  44.1   Petrol  20980     4092\n",
              "\n",
              "[200 rows x 7 columns]"
            ],
            "text/html": [
              "\n",
              "  <div id=\"df-df130194-9a70-4ef5-9eb3-cf215fdc7939\">\n",
              "    <div class=\"colab-df-container\">\n",
              "      <div>\n",
              "<style scoped>\n",
              "    .dataframe tbody tr th:only-of-type {\n",
              "        vertical-align: middle;\n",
              "    }\n",
              "\n",
              "    .dataframe tbody tr th {\n",
              "        vertical-align: top;\n",
              "    }\n",
              "\n",
              "    .dataframe thead th {\n",
              "        text-align: right;\n",
              "    }\n",
              "</style>\n",
              "<table border=\"1\" class=\"dataframe\">\n",
              "  <thead>\n",
              "    <tr style=\"text-align: right;\">\n",
              "      <th></th>\n",
              "      <th>carType</th>\n",
              "      <th>model</th>\n",
              "      <th>year</th>\n",
              "      <th>mpg</th>\n",
              "      <th>fuelType</th>\n",
              "      <th>price</th>\n",
              "      <th>mileage</th>\n",
              "    </tr>\n",
              "  </thead>\n",
              "  <tbody>\n",
              "    <tr>\n",
              "      <th>86045</th>\n",
              "      <td>Volkswagen</td>\n",
              "      <td>Golf</td>\n",
              "      <td>2019</td>\n",
              "      <td>47.1</td>\n",
              "      <td>Petrol</td>\n",
              "      <td>17298</td>\n",
              "      <td>11217</td>\n",
              "    </tr>\n",
              "    <tr>\n",
              "      <th>61338</th>\n",
              "      <td>Skkoda</td>\n",
              "      <td>Fabia</td>\n",
              "      <td>2016</td>\n",
              "      <td>58.9</td>\n",
              "      <td>Petrol</td>\n",
              "      <td>9995</td>\n",
              "      <td>25503</td>\n",
              "    </tr>\n",
              "    <tr>\n",
              "      <th>69368</th>\n",
              "      <td>Toyota</td>\n",
              "      <td>C-HR</td>\n",
              "      <td>2017</td>\n",
              "      <td>47.1</td>\n",
              "      <td>Petrol</td>\n",
              "      <td>16995</td>\n",
              "      <td>28973</td>\n",
              "    </tr>\n",
              "    <tr>\n",
              "      <th>76997</th>\n",
              "      <td>Vauxhall</td>\n",
              "      <td>Viva</td>\n",
              "      <td>2018</td>\n",
              "      <td>46.3</td>\n",
              "      <td>Petrol</td>\n",
              "      <td>7999</td>\n",
              "      <td>12731</td>\n",
              "    </tr>\n",
              "    <tr>\n",
              "      <th>29336</th>\n",
              "      <td>Ford</td>\n",
              "      <td>Focus</td>\n",
              "      <td>2015</td>\n",
              "      <td>74.3</td>\n",
              "      <td>Diesel</td>\n",
              "      <td>8400</td>\n",
              "      <td>43265</td>\n",
              "    </tr>\n",
              "    <tr>\n",
              "      <th>...</th>\n",
              "      <td>...</td>\n",
              "      <td>...</td>\n",
              "      <td>...</td>\n",
              "      <td>...</td>\n",
              "      <td>...</td>\n",
              "      <td>...</td>\n",
              "      <td>...</td>\n",
              "    </tr>\n",
              "    <tr>\n",
              "      <th>26295</th>\n",
              "      <td>Ford</td>\n",
              "      <td>Focus</td>\n",
              "      <td>2015</td>\n",
              "      <td>61.4</td>\n",
              "      <td>Petrol</td>\n",
              "      <td>7990</td>\n",
              "      <td>27792</td>\n",
              "    </tr>\n",
              "    <tr>\n",
              "      <th>66339</th>\n",
              "      <td>Toyota</td>\n",
              "      <td>Yaris</td>\n",
              "      <td>2017</td>\n",
              "      <td>86.0</td>\n",
              "      <td>Hybrid</td>\n",
              "      <td>13491</td>\n",
              "      <td>2450</td>\n",
              "    </tr>\n",
              "    <tr>\n",
              "      <th>80067</th>\n",
              "      <td>Vauxhall</td>\n",
              "      <td>Crossland X</td>\n",
              "      <td>2018</td>\n",
              "      <td>78.5</td>\n",
              "      <td>Diesel</td>\n",
              "      <td>10995</td>\n",
              "      <td>16800</td>\n",
              "    </tr>\n",
              "    <tr>\n",
              "      <th>50288</th>\n",
              "      <td>Mercedes</td>\n",
              "      <td>E Class</td>\n",
              "      <td>2019</td>\n",
              "      <td>48.7</td>\n",
              "      <td>Diesel</td>\n",
              "      <td>39480</td>\n",
              "      <td>3341</td>\n",
              "    </tr>\n",
              "    <tr>\n",
              "      <th>14603</th>\n",
              "      <td>BMW</td>\n",
              "      <td>1 Series</td>\n",
              "      <td>2019</td>\n",
              "      <td>44.1</td>\n",
              "      <td>Petrol</td>\n",
              "      <td>20980</td>\n",
              "      <td>4092</td>\n",
              "    </tr>\n",
              "  </tbody>\n",
              "</table>\n",
              "<p>200 rows × 7 columns</p>\n",
              "</div>\n",
              "      <button class=\"colab-df-convert\" onclick=\"convertToInteractive('df-df130194-9a70-4ef5-9eb3-cf215fdc7939')\"\n",
              "              title=\"Convert this dataframe to an interactive table.\"\n",
              "              style=\"display:none;\">\n",
              "        \n",
              "  <svg xmlns=\"http://www.w3.org/2000/svg\" height=\"24px\"viewBox=\"0 0 24 24\"\n",
              "       width=\"24px\">\n",
              "    <path d=\"M0 0h24v24H0V0z\" fill=\"none\"/>\n",
              "    <path d=\"M18.56 5.44l.94 2.06.94-2.06 2.06-.94-2.06-.94-.94-2.06-.94 2.06-2.06.94zm-11 1L8.5 8.5l.94-2.06 2.06-.94-2.06-.94L8.5 2.5l-.94 2.06-2.06.94zm10 10l.94 2.06.94-2.06 2.06-.94-2.06-.94-.94-2.06-.94 2.06-2.06.94z\"/><path d=\"M17.41 7.96l-1.37-1.37c-.4-.4-.92-.59-1.43-.59-.52 0-1.04.2-1.43.59L10.3 9.45l-7.72 7.72c-.78.78-.78 2.05 0 2.83L4 21.41c.39.39.9.59 1.41.59.51 0 1.02-.2 1.41-.59l7.78-7.78 2.81-2.81c.8-.78.8-2.07 0-2.86zM5.41 20L4 18.59l7.72-7.72 1.47 1.35L5.41 20z\"/>\n",
              "  </svg>\n",
              "      </button>\n",
              "      \n",
              "  <style>\n",
              "    .colab-df-container {\n",
              "      display:flex;\n",
              "      flex-wrap:wrap;\n",
              "      gap: 12px;\n",
              "    }\n",
              "\n",
              "    .colab-df-convert {\n",
              "      background-color: #E8F0FE;\n",
              "      border: none;\n",
              "      border-radius: 50%;\n",
              "      cursor: pointer;\n",
              "      display: none;\n",
              "      fill: #1967D2;\n",
              "      height: 32px;\n",
              "      padding: 0 0 0 0;\n",
              "      width: 32px;\n",
              "    }\n",
              "\n",
              "    .colab-df-convert:hover {\n",
              "      background-color: #E2EBFA;\n",
              "      box-shadow: 0px 1px 2px rgba(60, 64, 67, 0.3), 0px 1px 3px 1px rgba(60, 64, 67, 0.15);\n",
              "      fill: #174EA6;\n",
              "    }\n",
              "\n",
              "    [theme=dark] .colab-df-convert {\n",
              "      background-color: #3B4455;\n",
              "      fill: #D2E3FC;\n",
              "    }\n",
              "\n",
              "    [theme=dark] .colab-df-convert:hover {\n",
              "      background-color: #434B5C;\n",
              "      box-shadow: 0px 1px 3px 1px rgba(0, 0, 0, 0.15);\n",
              "      filter: drop-shadow(0px 1px 2px rgba(0, 0, 0, 0.3));\n",
              "      fill: #FFFFFF;\n",
              "    }\n",
              "  </style>\n",
              "\n",
              "      <script>\n",
              "        const buttonEl =\n",
              "          document.querySelector('#df-df130194-9a70-4ef5-9eb3-cf215fdc7939 button.colab-df-convert');\n",
              "        buttonEl.style.display =\n",
              "          google.colab.kernel.accessAllowed ? 'block' : 'none';\n",
              "\n",
              "        async function convertToInteractive(key) {\n",
              "          const element = document.querySelector('#df-df130194-9a70-4ef5-9eb3-cf215fdc7939');\n",
              "          const dataTable =\n",
              "            await google.colab.kernel.invokeFunction('convertToInteractive',\n",
              "                                                     [key], {});\n",
              "          if (!dataTable) return;\n",
              "\n",
              "          const docLinkHtml = 'Like what you see? Visit the ' +\n",
              "            '<a target=\"_blank\" href=https://colab.research.google.com/notebooks/data_table.ipynb>data table notebook</a>'\n",
              "            + ' to learn more about interactive tables.';\n",
              "          element.innerHTML = '';\n",
              "          dataTable['output_type'] = 'display_data';\n",
              "          await google.colab.output.renderOutput(dataTable, element);\n",
              "          const docLink = document.createElement('div');\n",
              "          docLink.innerHTML = docLinkHtml;\n",
              "          element.appendChild(docLink);\n",
              "        }\n",
              "      </script>\n",
              "    </div>\n",
              "  </div>\n",
              "  "
            ]
          },
          "metadata": {},
          "execution_count": 16
        }
      ]
    },
    {
      "cell_type": "code",
      "source": [
        "def calculate_total_expected_cost():\n",
        "    carType = input(\"Enter the car type (Audi/BMW/Ford/Mercedes/Hyundai/Skkoda/Toyota/Vauxhall/Volkswagon): \")\n",
        "    \n",
        "    models = list(cars_outer.loc[cars_outer['carType'] == carType, 'model'].unique())\n",
        "\n",
        "    if len(models) == 0:\n",
        "        print(\"No cars of the selected make found in the dataset.\")\n",
        "        return\n",
        "    print(\"Available models for selected car type: \", models)\n",
        "    \n",
        "    model = input(\"Enter the car's model: \")\n",
        "\n",
        "    while model not in models:\n",
        "        print(\"Invalid model. Please select from the available models: \", models)\n",
        "        model = input(\"Enter the car's model: \")\n",
        "\n",
        "    year = int(input(\"Enter the car's year: \"))\n",
        "\n",
        "    mileage = cars_outer.loc[(cars_outer['model'] == model) & (cars_outer['year'] == year) & (cars_outer['carType'] == carType), 'mileage'].values[0]\n",
        "    \n",
        "    mpg = cars_outer.loc[(cars_outer['model'] == model) & (cars_outer['year'] == year) & (cars_outer['carType'] == carType), 'mpg'].values[0]\n",
        "    \n",
        "    fuel_type = cars_outer.loc[(cars_outer['model'] == model) & (cars_outer['year'] == year) & (cars_outer['carType'] == carType), 'fuelType'].values[0]\n",
        "    \n",
        "    price = cars_outer.loc[(cars_outer['model'] == model) & (cars_outer['year'] == year) & (cars_outer['carType'] == carType), 'price'].values[0]\n",
        "\n",
        "    fuel_cost = mileage / mpg * {'Petrol': 2.8, 'Diesel': 3.1, 'Hybrid': 2.5}[fuel_type]\n",
        "    age = 2023 - year\n",
        "    depreciation_cost = price * (1 - 0.01 * age) / (mileage + 1)\n",
        "    maintenance_cost = 0.01 * mileage + 0.005 * age * price\n",
        "    total_cost = fuel_cost + depreciation_cost + maintenance_cost\n",
        "    \n",
        "    return (total_cost)"
      ],
      "metadata": {
        "id": "3Kzd8mmXM5H3"
      },
      "execution_count": 28,
      "outputs": []
    },
    {
      "cell_type": "code",
      "source": [
        "calculate_total_expected_cost()"
      ],
      "metadata": {
        "colab": {
          "base_uri": "https://localhost:8080/"
        },
        "id": "RbCVbSpu53ji",
        "outputId": "04fef8f3-d313-4eb0-d948-dd98adf8a162"
      },
      "execution_count": 31,
      "outputs": [
        {
          "name": "stdout",
          "output_type": "stream",
          "text": [
            "Enter the car type (Audi/BMW/Ford/Mercedes/Hyundai/Skkoda/Toyota/Vauxhall/Volkswagon): Audi\n",
            "Available models for selected car type:  [' A4', ' A1', ' A5', ' A3', ' Q2', ' A6']\n",
            "Enter the car's model:  A4\n",
            "Enter the car's year: 2019\n"
          ]
        },
        {
          "output_type": "execute_result",
          "data": {
            "text/plain": [
              "1267.8204984179335"
            ]
          },
          "metadata": {},
          "execution_count": 31
        }
      ]
    },
    {
      "cell_type": "markdown",
      "source": [
        "#\n",
        " Not Needed"
      ],
      "metadata": {
        "id": "QiuROHofu-4k"
      }
    },
    {
      "cell_type": "code",
      "source": [
        "# Display the resulting dataset\n",
        "print(cars_outer[['carType', 'total_cost', 'model', 'year', 'price', 'mileage', 'mpg', 'fuelType']])"
      ],
      "metadata": {
        "id": "F4nB4_jguj62"
      },
      "execution_count": null,
      "outputs": []
    },
    {
      "cell_type": "markdown",
      "source": [
        "Gas prices --> https://www.eia.gov/petroleum/gasdiesel/"
      ],
      "metadata": {
        "id": "g8SIeSo87wUn"
      }
    },
    {
      "cell_type": "code",
      "source": [
        "# Calculate fuel cost\n",
        "cars_outer['fuel_cost'] = cars_outer['mileage'] / cars_outer['mpg'] * cars_outer['fuelType'].map(\n",
        "    {'Petrol': 2.8, 'Diesel': 3.1, 'Hybrid': 2.5}) "
      ],
      "metadata": {
        "id": "JFZ0DCoItvNH"
      },
      "execution_count": null,
      "outputs": []
    },
    {
      "cell_type": "code",
      "source": [
        "# Calculate car depreciation cost\n",
        "cars_outer['age'] = 2023 - cars_outer['year']\n",
        "cars_outer['depreciation_cost'] = cars_outer['price'] * (1 - 0.01 * cars_outer['age']) / (cars_outer['mileage'] + 1)"
      ],
      "metadata": {
        "id": "Jr2m0qcYuZda"
      },
      "execution_count": null,
      "outputs": []
    },
    {
      "cell_type": "code",
      "source": [
        "# Calculate maintenance cost\n",
        "cars_outer['maintenance_cost'] = 0.01 * cars_outer['mileage'] + 0.005 * cars_outer['age'] * cars_outer['price']"
      ],
      "metadata": {
        "id": "DcbWznm7ucGk"
      },
      "execution_count": null,
      "outputs": []
    },
    {
      "cell_type": "code",
      "source": [
        "# Calculate total expected cost\n",
        "cars_outer['total_cost'] = cars_outer['fuel_cost'] + cars_outer['depreciation_cost'] + cars_outer['maintenance_cost']"
      ],
      "metadata": {
        "id": "rEGZDPIqug8E"
      },
      "execution_count": null,
      "outputs": []
    },
    {
      "cell_type": "code",
      "execution_count": null,
      "metadata": {
        "id": "oYRNFQNIHr-C",
        "colab": {
          "base_uri": "https://localhost:8080/",
          "height": 423
        },
        "outputId": "03d668df-c7d4-4190-eb71-b9e40591f82f"
      },
      "outputs": [
        {
          "output_type": "execute_result",
          "data": {
            "text/plain": [
              "        Unnamed: 0                            key  fare_amount  \\\n",
              "0         24238194    2015-05-07 19:52:06.0000003          7.5   \n",
              "1         27835199    2009-07-17 20:04:56.0000002          7.7   \n",
              "2         44984355   2009-08-24 21:45:00.00000061         12.9   \n",
              "3         25894730    2009-06-26 08:22:21.0000001          5.3   \n",
              "4         17610152  2014-08-28 17:47:00.000000188         16.0   \n",
              "...            ...                            ...          ...   \n",
              "199995    42598914   2012-10-28 10:49:00.00000053          3.0   \n",
              "199996    16382965    2014-03-14 01:09:00.0000008          7.5   \n",
              "199997    27804658   2009-06-29 00:42:00.00000078         30.9   \n",
              "199998    20259894    2015-05-20 14:56:25.0000004         14.5   \n",
              "199999    11951496   2010-05-15 04:08:00.00000076         14.1   \n",
              "\n",
              "                pickup_datetime  pickup_longitude  pickup_latitude  \\\n",
              "0       2015-05-07 19:52:06 UTC        -73.999817        40.738354   \n",
              "1       2009-07-17 20:04:56 UTC        -73.994355        40.728225   \n",
              "2       2009-08-24 21:45:00 UTC        -74.005043        40.740770   \n",
              "3       2009-06-26 08:22:21 UTC        -73.976124        40.790844   \n",
              "4       2014-08-28 17:47:00 UTC        -73.925023        40.744085   \n",
              "...                         ...               ...              ...   \n",
              "199995  2012-10-28 10:49:00 UTC        -73.987042        40.739367   \n",
              "199996  2014-03-14 01:09:00 UTC        -73.984722        40.736837   \n",
              "199997  2009-06-29 00:42:00 UTC        -73.986017        40.756487   \n",
              "199998  2015-05-20 14:56:25 UTC        -73.997124        40.725452   \n",
              "199999  2010-05-15 04:08:00 UTC        -73.984395        40.720077   \n",
              "\n",
              "        dropoff_longitude  dropoff_latitude  passenger_count  \n",
              "0              -73.999512         40.723217                1  \n",
              "1              -73.994710         40.750325                1  \n",
              "2              -73.962565         40.772647                1  \n",
              "3              -73.965316         40.803349                3  \n",
              "4              -73.973082         40.761247                5  \n",
              "...                   ...               ...              ...  \n",
              "199995         -73.986525         40.740297                1  \n",
              "199996         -74.006672         40.739620                1  \n",
              "199997         -73.858957         40.692588                2  \n",
              "199998         -73.983215         40.695415                1  \n",
              "199999         -73.985508         40.768793                1  \n",
              "\n",
              "[200000 rows x 9 columns]"
            ],
            "text/html": [
              "\n",
              "  <div id=\"df-1990a413-9295-44c9-8098-cb01e67de2b9\">\n",
              "    <div class=\"colab-df-container\">\n",
              "      <div>\n",
              "<style scoped>\n",
              "    .dataframe tbody tr th:only-of-type {\n",
              "        vertical-align: middle;\n",
              "    }\n",
              "\n",
              "    .dataframe tbody tr th {\n",
              "        vertical-align: top;\n",
              "    }\n",
              "\n",
              "    .dataframe thead th {\n",
              "        text-align: right;\n",
              "    }\n",
              "</style>\n",
              "<table border=\"1\" class=\"dataframe\">\n",
              "  <thead>\n",
              "    <tr style=\"text-align: right;\">\n",
              "      <th></th>\n",
              "      <th>Unnamed: 0</th>\n",
              "      <th>key</th>\n",
              "      <th>fare_amount</th>\n",
              "      <th>pickup_datetime</th>\n",
              "      <th>pickup_longitude</th>\n",
              "      <th>pickup_latitude</th>\n",
              "      <th>dropoff_longitude</th>\n",
              "      <th>dropoff_latitude</th>\n",
              "      <th>passenger_count</th>\n",
              "    </tr>\n",
              "  </thead>\n",
              "  <tbody>\n",
              "    <tr>\n",
              "      <th>0</th>\n",
              "      <td>24238194</td>\n",
              "      <td>2015-05-07 19:52:06.0000003</td>\n",
              "      <td>7.5</td>\n",
              "      <td>2015-05-07 19:52:06 UTC</td>\n",
              "      <td>-73.999817</td>\n",
              "      <td>40.738354</td>\n",
              "      <td>-73.999512</td>\n",
              "      <td>40.723217</td>\n",
              "      <td>1</td>\n",
              "    </tr>\n",
              "    <tr>\n",
              "      <th>1</th>\n",
              "      <td>27835199</td>\n",
              "      <td>2009-07-17 20:04:56.0000002</td>\n",
              "      <td>7.7</td>\n",
              "      <td>2009-07-17 20:04:56 UTC</td>\n",
              "      <td>-73.994355</td>\n",
              "      <td>40.728225</td>\n",
              "      <td>-73.994710</td>\n",
              "      <td>40.750325</td>\n",
              "      <td>1</td>\n",
              "    </tr>\n",
              "    <tr>\n",
              "      <th>2</th>\n",
              "      <td>44984355</td>\n",
              "      <td>2009-08-24 21:45:00.00000061</td>\n",
              "      <td>12.9</td>\n",
              "      <td>2009-08-24 21:45:00 UTC</td>\n",
              "      <td>-74.005043</td>\n",
              "      <td>40.740770</td>\n",
              "      <td>-73.962565</td>\n",
              "      <td>40.772647</td>\n",
              "      <td>1</td>\n",
              "    </tr>\n",
              "    <tr>\n",
              "      <th>3</th>\n",
              "      <td>25894730</td>\n",
              "      <td>2009-06-26 08:22:21.0000001</td>\n",
              "      <td>5.3</td>\n",
              "      <td>2009-06-26 08:22:21 UTC</td>\n",
              "      <td>-73.976124</td>\n",
              "      <td>40.790844</td>\n",
              "      <td>-73.965316</td>\n",
              "      <td>40.803349</td>\n",
              "      <td>3</td>\n",
              "    </tr>\n",
              "    <tr>\n",
              "      <th>4</th>\n",
              "      <td>17610152</td>\n",
              "      <td>2014-08-28 17:47:00.000000188</td>\n",
              "      <td>16.0</td>\n",
              "      <td>2014-08-28 17:47:00 UTC</td>\n",
              "      <td>-73.925023</td>\n",
              "      <td>40.744085</td>\n",
              "      <td>-73.973082</td>\n",
              "      <td>40.761247</td>\n",
              "      <td>5</td>\n",
              "    </tr>\n",
              "    <tr>\n",
              "      <th>...</th>\n",
              "      <td>...</td>\n",
              "      <td>...</td>\n",
              "      <td>...</td>\n",
              "      <td>...</td>\n",
              "      <td>...</td>\n",
              "      <td>...</td>\n",
              "      <td>...</td>\n",
              "      <td>...</td>\n",
              "      <td>...</td>\n",
              "    </tr>\n",
              "    <tr>\n",
              "      <th>199995</th>\n",
              "      <td>42598914</td>\n",
              "      <td>2012-10-28 10:49:00.00000053</td>\n",
              "      <td>3.0</td>\n",
              "      <td>2012-10-28 10:49:00 UTC</td>\n",
              "      <td>-73.987042</td>\n",
              "      <td>40.739367</td>\n",
              "      <td>-73.986525</td>\n",
              "      <td>40.740297</td>\n",
              "      <td>1</td>\n",
              "    </tr>\n",
              "    <tr>\n",
              "      <th>199996</th>\n",
              "      <td>16382965</td>\n",
              "      <td>2014-03-14 01:09:00.0000008</td>\n",
              "      <td>7.5</td>\n",
              "      <td>2014-03-14 01:09:00 UTC</td>\n",
              "      <td>-73.984722</td>\n",
              "      <td>40.736837</td>\n",
              "      <td>-74.006672</td>\n",
              "      <td>40.739620</td>\n",
              "      <td>1</td>\n",
              "    </tr>\n",
              "    <tr>\n",
              "      <th>199997</th>\n",
              "      <td>27804658</td>\n",
              "      <td>2009-06-29 00:42:00.00000078</td>\n",
              "      <td>30.9</td>\n",
              "      <td>2009-06-29 00:42:00 UTC</td>\n",
              "      <td>-73.986017</td>\n",
              "      <td>40.756487</td>\n",
              "      <td>-73.858957</td>\n",
              "      <td>40.692588</td>\n",
              "      <td>2</td>\n",
              "    </tr>\n",
              "    <tr>\n",
              "      <th>199998</th>\n",
              "      <td>20259894</td>\n",
              "      <td>2015-05-20 14:56:25.0000004</td>\n",
              "      <td>14.5</td>\n",
              "      <td>2015-05-20 14:56:25 UTC</td>\n",
              "      <td>-73.997124</td>\n",
              "      <td>40.725452</td>\n",
              "      <td>-73.983215</td>\n",
              "      <td>40.695415</td>\n",
              "      <td>1</td>\n",
              "    </tr>\n",
              "    <tr>\n",
              "      <th>199999</th>\n",
              "      <td>11951496</td>\n",
              "      <td>2010-05-15 04:08:00.00000076</td>\n",
              "      <td>14.1</td>\n",
              "      <td>2010-05-15 04:08:00 UTC</td>\n",
              "      <td>-73.984395</td>\n",
              "      <td>40.720077</td>\n",
              "      <td>-73.985508</td>\n",
              "      <td>40.768793</td>\n",
              "      <td>1</td>\n",
              "    </tr>\n",
              "  </tbody>\n",
              "</table>\n",
              "<p>200000 rows × 9 columns</p>\n",
              "</div>\n",
              "      <button class=\"colab-df-convert\" onclick=\"convertToInteractive('df-1990a413-9295-44c9-8098-cb01e67de2b9')\"\n",
              "              title=\"Convert this dataframe to an interactive table.\"\n",
              "              style=\"display:none;\">\n",
              "        \n",
              "  <svg xmlns=\"http://www.w3.org/2000/svg\" height=\"24px\"viewBox=\"0 0 24 24\"\n",
              "       width=\"24px\">\n",
              "    <path d=\"M0 0h24v24H0V0z\" fill=\"none\"/>\n",
              "    <path d=\"M18.56 5.44l.94 2.06.94-2.06 2.06-.94-2.06-.94-.94-2.06-.94 2.06-2.06.94zm-11 1L8.5 8.5l.94-2.06 2.06-.94-2.06-.94L8.5 2.5l-.94 2.06-2.06.94zm10 10l.94 2.06.94-2.06 2.06-.94-2.06-.94-.94-2.06-.94 2.06-2.06.94z\"/><path d=\"M17.41 7.96l-1.37-1.37c-.4-.4-.92-.59-1.43-.59-.52 0-1.04.2-1.43.59L10.3 9.45l-7.72 7.72c-.78.78-.78 2.05 0 2.83L4 21.41c.39.39.9.59 1.41.59.51 0 1.02-.2 1.41-.59l7.78-7.78 2.81-2.81c.8-.78.8-2.07 0-2.86zM5.41 20L4 18.59l7.72-7.72 1.47 1.35L5.41 20z\"/>\n",
              "  </svg>\n",
              "      </button>\n",
              "      \n",
              "  <style>\n",
              "    .colab-df-container {\n",
              "      display:flex;\n",
              "      flex-wrap:wrap;\n",
              "      gap: 12px;\n",
              "    }\n",
              "\n",
              "    .colab-df-convert {\n",
              "      background-color: #E8F0FE;\n",
              "      border: none;\n",
              "      border-radius: 50%;\n",
              "      cursor: pointer;\n",
              "      display: none;\n",
              "      fill: #1967D2;\n",
              "      height: 32px;\n",
              "      padding: 0 0 0 0;\n",
              "      width: 32px;\n",
              "    }\n",
              "\n",
              "    .colab-df-convert:hover {\n",
              "      background-color: #E2EBFA;\n",
              "      box-shadow: 0px 1px 2px rgba(60, 64, 67, 0.3), 0px 1px 3px 1px rgba(60, 64, 67, 0.15);\n",
              "      fill: #174EA6;\n",
              "    }\n",
              "\n",
              "    [theme=dark] .colab-df-convert {\n",
              "      background-color: #3B4455;\n",
              "      fill: #D2E3FC;\n",
              "    }\n",
              "\n",
              "    [theme=dark] .colab-df-convert:hover {\n",
              "      background-color: #434B5C;\n",
              "      box-shadow: 0px 1px 3px 1px rgba(0, 0, 0, 0.15);\n",
              "      filter: drop-shadow(0px 1px 2px rgba(0, 0, 0, 0.3));\n",
              "      fill: #FFFFFF;\n",
              "    }\n",
              "  </style>\n",
              "\n",
              "      <script>\n",
              "        const buttonEl =\n",
              "          document.querySelector('#df-1990a413-9295-44c9-8098-cb01e67de2b9 button.colab-df-convert');\n",
              "        buttonEl.style.display =\n",
              "          google.colab.kernel.accessAllowed ? 'block' : 'none';\n",
              "\n",
              "        async function convertToInteractive(key) {\n",
              "          const element = document.querySelector('#df-1990a413-9295-44c9-8098-cb01e67de2b9');\n",
              "          const dataTable =\n",
              "            await google.colab.kernel.invokeFunction('convertToInteractive',\n",
              "                                                     [key], {});\n",
              "          if (!dataTable) return;\n",
              "\n",
              "          const docLinkHtml = 'Like what you see? Visit the ' +\n",
              "            '<a target=\"_blank\" href=https://colab.research.google.com/notebooks/data_table.ipynb>data table notebook</a>'\n",
              "            + ' to learn more about interactive tables.';\n",
              "          element.innerHTML = '';\n",
              "          dataTable['output_type'] = 'display_data';\n",
              "          await google.colab.output.renderOutput(dataTable, element);\n",
              "          const docLink = document.createElement('div');\n",
              "          docLink.innerHTML = docLinkHtml;\n",
              "          element.appendChild(docLink);\n",
              "        }\n",
              "      </script>\n",
              "    </div>\n",
              "  </div>\n",
              "  "
            ]
          },
          "metadata": {},
          "execution_count": 28
        }
      ],
      "source": [
        "# data set of uber data\n",
        "os.chdir('/content/downloads')\n",
        "data = pd.read_csv(\"uber.csv\")\n",
        "data"
      ]
    },
    {
      "cell_type": "markdown",
      "source": [
        "Downloading dataset above, consists of 200000 uber rides, with important variables pickup/dropoff longitude/latitude, price, and datetime.\n",
        "\n",
        "We likely will not use this dataset until later on."
      ],
      "metadata": {
        "id": "pRjSN64rqitS"
      }
    },
    {
      "cell_type": "code",
      "execution_count": null,
      "metadata": {
        "id": "etmJm2H3H6UE"
      },
      "outputs": [],
      "source": [
        "import seaborn as sns\n",
        "import matplotlib.pyplot as plt"
      ]
    },
    {
      "cell_type": "markdown",
      "metadata": {
        "id": "WmKJoE3VaX1G"
      },
      "source": [
        "### **LEARNING ABOUT THE DATASETS**\n",
        "\n"
      ]
    },
    {
      "cell_type": "code",
      "execution_count": null,
      "metadata": {
        "id": "N3fquB9zInEH"
      },
      "outputs": [],
      "source": [
        "# data set of uber and lyft data\n",
        "os.chdir('/content/downloads')\n",
        "rs_data = pd.read_csv(\"rideshare_kaggle.csv\")\n",
        "rs_data"
      ]
    },
    {
      "cell_type": "markdown",
      "source": [
        "Downloading ridehsare data from Boston, MA during November 26, 2018 until December 18, 2018.  Comprehensive dataset with price, distance, pickup/dropoff, weather, etc."
      ],
      "metadata": {
        "id": "xHjA8KvNq0Pt"
      }
    },
    {
      "cell_type": "code",
      "execution_count": null,
      "metadata": {
        "id": "lF3bTnZ4ahM9"
      },
      "outputs": [],
      "source": [
        "rs_data.dtypes"
      ]
    },
    {
      "cell_type": "markdown",
      "source": [
        "Checking variable types of dataset."
      ],
      "metadata": {
        "id": "-EF-vFtTr3sO"
      }
    },
    {
      "cell_type": "code",
      "execution_count": null,
      "metadata": {
        "id": "8iupVoSCcJUG"
      },
      "outputs": [],
      "source": [
        "import matplotlib.pyplot as plt\n",
        "import numpy as np\n",
        "\n",
        "# summary statistics on Lyft and Uber \n",
        "lyft_prices = rs_data.loc[rs_data[\"cab_type\"] == \"Lyft\"]['price']\n",
        "uber_prices = rs_data.loc[rs_data[\"cab_type\"] == \"Uber\"]['price']\n",
        "\n",
        "print('Lyft summary statistics\\n', lyft_prices.describe(),'\\n')\n",
        "print('Uber summary statistics\\n', uber_prices.describe())\n"
      ]
    },
    {
      "cell_type": "markdown",
      "source": [
        "Summary statistics of Uber vs Lyft prices - not super relevant, just interesting."
      ],
      "metadata": {
        "id": "QShOgEADr9IO"
      }
    },
    {
      "cell_type": "code",
      "execution_count": null,
      "metadata": {
        "id": "rfEnT002yBi-"
      },
      "outputs": [],
      "source": [
        "def ride_cost(distance, mpg):\n",
        "  gasoline_cost = (distance / (mpg/2))*3\n",
        "  maintenance_cost = .10*distance\n",
        "  depreciable_cost = .10*distance\n",
        "  total_cost = gasoline_cost + maintenance_cost + depreciable_cost\n",
        "  return(total_cost)\n",
        "\n",
        "ridecost = []\n",
        "\n",
        "for i in rs_data['distance']:\n",
        "  ridecost.append(ride_cost(i, 20))\n",
        "\n",
        "rs_data['ridecost'] = ridecost\n",
        "rs_data['profit'] = rs_data['price'] - rs_data['ridecost']\n",
        "pricesdata = rs_data[['price','ridecost','profit']]\n",
        "pricesdata"
      ]
    },
    {
      "cell_type": "markdown",
      "source": [
        "Barebones cost function implemented into a table containing price, ridecost, and expected profit.  Major improvements coming to this function in the future."
      ],
      "metadata": {
        "id": "HAzGfab_sbuG"
      }
    },
    {
      "cell_type": "markdown",
      "source": [
        "# Not Needed"
      ],
      "metadata": {
        "id": "uPSs7mLNfNmM"
      }
    },
    {
      "cell_type": "code",
      "source": [
        "\n",
        "# Calculate fuel cost\n",
        "df['fuel_cost'] = df['mileage'] / df['mpg'] * df['fuelType'].map(\n",
        "    {'Petrol': 2.8, 'Diesel': 3.1, 'Hybrid': 2.5}) \n",
        "#assuming fuel prices in $USD\n",
        "\n",
        "# Calculate car depreciation cost\n",
        "df['age'] = 2023 - df['year']\n",
        "df['depreciation_cost'] = df['price'] * (1 - 0.01 * df['age']) / (df['mileage'] + 1)\n",
        "\n",
        "# Calculate maintenance cost\n",
        "df['maintenance_cost'] = 0.01 * df['mileage'] + 0.005 * df['age'] * df['price']\n",
        "\n",
        "# Calculate total expected cost\n",
        "df['total_cost'] = df['fuel_cost'] + df['depreciation_cost'] + df['maintenance_cost']\n",
        "\n",
        "# Calculate estimated profitability\n",
        "df['profitability'] = df['price'] - df['total_cost']\n",
        "\n",
        "# Display the resulting dataset\n",
        "print(df[['model', 'year', 'price', 'mileage', 'mpg', 'fuelType', 'profitability']])\n"
      ],
      "metadata": {
        "id": "Ksn3ol4D7b8i"
      },
      "execution_count": null,
      "outputs": []
    },
    {
      "cell_type": "code",
      "execution_count": null,
      "metadata": {
        "id": "7RYtnK9pEnbv",
        "colab": {
          "base_uri": "https://localhost:8080/",
          "height": 296
        },
        "outputId": "e7edfbc7-c6c2-49a0-8be2-2250081cfe61"
      },
      "outputs": [
        {
          "output_type": "execute_result",
          "data": {
            "text/plain": [
              "Text(0.5, 0, 'Distance')"
            ]
          },
          "metadata": {},
          "execution_count": 28
        },
        {
          "output_type": "display_data",
          "data": {
            "text/plain": [
              "<Figure size 432x288 with 1 Axes>"
            ],
            "image/png": "[encoded data removed]"
          },
          "metadata": {
            "needs_background": "light"
          }
        }
      ],
      "source": [
        "p_vs_d = rs_data.sample(1000)\n",
        "\n",
        "plt.scatter(p_vs_d['distance'], p_vs_d['price'])\n",
        "\n",
        "plt.ylabel(\"Price\")\n",
        "plt.xlabel(\"Distance\")"
      ]
    },
    {
      "cell_type": "markdown",
      "source": [
        "Plotting a random sample of 1000 price and distance points, visualizing relationship between price and distance."
      ],
      "metadata": {
        "id": "RUCGSglIsk1h"
      }
    },
    {
      "cell_type": "code",
      "execution_count": null,
      "metadata": {
        "id": "9t9s__g_a4Ye"
      },
      "outputs": [],
      "source": [
        "from datetime import datetime\n",
        "a = datetime.strptime(rs_data['datetime'][1], \"%Y-%m-%d %H:%M:%S\")\n",
        "weekday_list = []\n",
        "for i in range(len(rs_data['datetime'])):\n",
        "  weekday_list.append(datetime.strptime(rs_data['datetime'][i], \"%Y-%m-%d %H:%M:%S\").weekday())\n",
        "rs_data['weekday'] = weekday_list"
      ]
    },
    {
      "cell_type": "markdown",
      "metadata": {
        "id": "V0oGj8PGn7t3"
      },
      "source": [
        "0-6 corresponds to Monday(0) through Sunday(6)"
      ]
    },
    {
      "cell_type": "code",
      "execution_count": null,
      "metadata": {
        "id": "AKVDrt9NG_SZ",
        "colab": {
          "base_uri": "https://localhost:8080/"
        },
        "outputId": "1b51ebea-694e-4a65-fb44-01f86da7aaca"
      },
      "outputs": [
        {
          "output_type": "stream",
          "name": "stdout",
          "text": [
            "price               1.000000\n",
            "profit              0.998301\n",
            "distance            0.345061\n",
            "ridecost            0.345061\n",
            "surge_multiplier    0.240458\n",
            "latitude            0.002088\n",
            "visibility.1        0.001497\n",
            "Name: price, dtype: float64 \n",
            "\n",
            "moonPhase                -0.001602\n",
            "longitude                -0.001417\n",
            "windBearing              -0.001382\n",
            "humidity                 -0.001238\n",
            "day                      -0.000722\n",
            "dewPoint                 -0.000615\n",
            "apparentTemperatureMin   -0.000580\n",
            "Name: price, dtype: float64\n"
          ]
        }
      ],
      "source": [
        "rs_data_corr = rs_data.corr()\n",
        "print(rs_data_corr['price'].sort_values(ascending=False)[:7], '\\n')\n",
        "print(rs_data_corr['price'].sort_values(ascending=True)[:7])"
      ]
    }
  ],
  "metadata": {
    "colab": {
      "provenance": []
    },
    "kernelspec": {
      "display_name": "Python 3",
      "name": "python3"
    },
    "language_info": {
      "name": "python"
    }
  },
  "nbformat": 4,
  "nbformat_minor": 0
}