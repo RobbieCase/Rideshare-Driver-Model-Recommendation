{
  "nbformat": 4,
  "nbformat_minor": 0,
  "metadata": {
    "colab": {
      "provenance": [],
      "authorship_tag": "ABX9TyOa041ISxEoqeEOg6IxXzhN",
      "include_colab_link": true
    },
    "kernelspec": {
      "name": "python3",
      "display_name": "Python 3"
    },
    "language_info": {
      "name": "python"
    }
  },
  "cells": [
    {
      "cell_type": "markdown",
      "metadata": {
        "id": "view-in-github",
        "colab_type": "text"
      },
      "source": [
        "<a href=\"https://colab.research.google.com/github/zwellman99/Rideshare-Driver-Model-Recommendation/blob/main/FinalNotebook.ipynb\" target=\"_parent\"><img src=\"https://colab.research.google.com/assets/colab-badge.svg\" alt=\"Open In Colab\"/></a>"
      ]
    },
    {
      "cell_type": "code",
      "source": [],
      "metadata": {
        "id": "9FkELGVJKQcm"
      },
      "execution_count": null,
      "outputs": []
    },
    {
      "cell_type": "markdown",
      "source": [
        "# Importing Data and Downloading Libraries\n"
      ],
      "metadata": {
        "id": "uPDrCEo_Kkym"
      }
    },
    {
      "cell_type": "code",
      "execution_count": null,
      "metadata": {
        "colab": {
          "base_uri": "https://localhost:8080/"
        },
        "id": "h1DsxyAfboPt",
        "outputId": "d0dd59eb-8562-44cd-d25b-31e5ac8c3ab4"
      },
      "outputs": [
        {
          "output_type": "stream",
          "name": "stdout",
          "text": [
            "Mounted at /content/drive\n"
          ]
        }
      ],
      "source": [
        "from google.colab import drive\n",
        "drive.mount('/content/drive')"
      ]
    },
    {
      "cell_type": "code",
      "execution_count": null,
      "metadata": {
        "colab": {
          "base_uri": "https://localhost:8080/"
        },
        "id": "vh73Qyh_b4Oy",
        "outputId": "d5a4d3f8-9dd8-4cc5-ed5d-63f11e569780"
      },
      "outputs": [
        {
          "output_type": "stream",
          "name": "stdout",
          "text": [
            "Looking in indexes: https://pypi.org/simple, https://us-python.pkg.dev/colab-wheels/public/simple/\n",
            "Collecting opendatasets\n",
            "  Downloading opendatasets-0.1.22-py3-none-any.whl (15 kB)\n",
            "Requirement already satisfied: tqdm in /usr/local/lib/python3.9/dist-packages (from opendatasets) (4.65.0)\n",
            "Requirement already satisfied: click in /usr/local/lib/python3.9/dist-packages (from opendatasets) (8.1.3)\n",
            "Requirement already satisfied: kaggle in /usr/local/lib/python3.9/dist-packages (from opendatasets) (1.5.13)\n",
            "Requirement already satisfied: python-slugify in /usr/local/lib/python3.9/dist-packages (from kaggle->opendatasets) (8.0.1)\n",
            "Requirement already satisfied: six>=1.10 in /usr/local/lib/python3.9/dist-packages (from kaggle->opendatasets) (1.15.0)\n",
            "Requirement already satisfied: certifi in /usr/local/lib/python3.9/dist-packages (from kaggle->opendatasets) (2022.12.7)\n",
            "Requirement already satisfied: requests in /usr/local/lib/python3.9/dist-packages (from kaggle->opendatasets) (2.27.1)\n",
            "Requirement already satisfied: python-dateutil in /usr/local/lib/python3.9/dist-packages (from kaggle->opendatasets) (2.8.2)\n",
            "Requirement already satisfied: urllib3 in /usr/local/lib/python3.9/dist-packages (from kaggle->opendatasets) (1.26.15)\n",
            "Requirement already satisfied: text-unidecode>=1.3 in /usr/local/lib/python3.9/dist-packages (from python-slugify->kaggle->opendatasets) (1.3)\n",
            "Requirement already satisfied: charset-normalizer~=2.0.0 in /usr/local/lib/python3.9/dist-packages (from requests->kaggle->opendatasets) (2.0.12)\n",
            "Requirement already satisfied: idna<4,>=2.5 in /usr/local/lib/python3.9/dist-packages (from requests->kaggle->opendatasets) (3.4)\n",
            "Installing collected packages: opendatasets\n",
            "Successfully installed opendatasets-0.1.22\n"
          ]
        }
      ],
      "source": [
        "!pip install opendatasets"
      ]
    },
    {
      "cell_type": "code",
      "execution_count": 314,
      "metadata": {
        "id": "Gfb9bEiyb2w8"
      },
      "outputs": [],
      "source": [
        "import opendatasets as od\n",
        "import pandas as pd\n",
        "import os\n",
        "import matplotlib.pyplot as plt\n",
        "import numpy as np\n",
        "from statsmodels.tsa.arima.model import ARIMA\n",
        "import pandas as pd\n",
        "import numpy as np\n",
        "import matplotlib.pyplot as plt\n",
        "from statsmodels.tsa.statespace.sarimax import SARIMAX\n",
        "from statsmodels.graphics.tsaplots import plot_acf\n",
        "from statsmodels.graphics.tsaplots import plot_pacf\n",
        "from statsmodels.tsa.stattools import adfuller\n",
        "from sklearn.metrics import mean_squared_error\n",
        "from math import sqrt\n",
        "import folium\n",
        "from folium.plugins import HeatMap\n",
        "import itertools\n",
        "from prophet import Prophet\n",
        "import xgboost as xgb\n",
        "from sklearn.model_selection import train_test_split\n",
        "from math import radians, sin, cos, sqrt, asin\n",
        "import pytz\n",
        "\n",
        "import pandas as pd\n",
        "from sklearn.model_selection import train_test_split\n",
        "from sklearn.metrics import r2_score\n",
        "from xgboost import XGBRegressor\n",
        "from sklearn.linear_model import LinearRegression\n",
        "from sklearn.tree import DecisionTreeRegressor\n",
        "from sklearn.ensemble import RandomForestRegressor\n",
        "\n",
        "from xgboost import XGBRegressor\n",
        "from sklearn.metrics import r2_score\n",
        "import opendatasets as od\n",
        "import pandas as pd\n",
        "import os\n",
        "import matplotlib.pyplot as plt\n",
        "import numpy as np\n",
        "import seaborn as sns\n",
        "import pandas as pd\n",
        "from datetime import datetime\n",
        "from sklearn import preprocessing\n",
        "from datetime import datetime\n",
        "from sklearn.feature_selection import SelectKBest\n",
        "from sklearn.feature_selection import chi2\n",
        "from sklearn.model_selection import train_test_split\n",
        "from sklearn.metrics import accuracy_score\n",
        "from sklearn.linear_model import LinearRegression\n",
        "from sklearn.linear_model import LogisticRegression\n",
        "from sklearn.tree import DecisionTreeRegressor\n",
        "from sklearn.ensemble import RandomForestRegressor\n",
        "from sklearn.ensemble import GradientBoostingRegressor\n",
        "from sklearn.ensemble import AdaBoostRegressor\n",
        "from sklearn.ensemble import BaggingRegressor\n",
        "from sklearn.neighbors import KNeighborsRegressor\n",
        "from sklearn.feature_selection import RFE\n"
      ]
    },
    {
      "cell_type": "code",
      "execution_count": null,
      "metadata": {
        "colab": {
          "base_uri": "https://localhost:8080/"
        },
        "id": "B_LHlLR2b8W1",
        "outputId": "c97a14d3-4538-41cd-8f65-5be3aa718b6d"
      },
      "outputs": [
        {
          "output_type": "stream",
          "name": "stdout",
          "text": [
            "Please provide your Kaggle credentials to download this dataset. Learn more: http://bit.ly/kaggle-creds\n",
            "Your Kaggle username: blakeandersonw\n",
            "Your Kaggle Key: ··········\n",
            "Downloading uber-fares-dataset.zip to ./uber-fares-dataset\n"
          ]
        },
        {
          "output_type": "stream",
          "name": "stderr",
          "text": [
            "100%|██████████| 7.04M/7.04M [00:00<00:00, 61.8MB/s]"
          ]
        },
        {
          "output_type": "stream",
          "name": "stdout",
          "text": [
            "\n"
          ]
        },
        {
          "output_type": "stream",
          "name": "stderr",
          "text": [
            "\n"
          ]
        }
      ],
      "source": [
        "od.download(\"https://www.kaggle.com/datasets/yasserh/uber-fares-dataset\")\n",
        "os.chdir('/content/uber-fares-dataset')\n",
        "uber_df = pd.read_csv(\"uber.csv\")"
      ]
    },
    {
      "cell_type": "markdown",
      "metadata": {
        "id": "sphibjvgcAO5"
      },
      "source": [
        "**username:** blakeandersonw\n",
        "\n",
        "**key:** 5c7b7542c5ad7af0d6015b98bfa868b4"
      ]
    },
    {
      "cell_type": "markdown",
      "source": [
        "Demand P2"
      ],
      "metadata": {
        "id": "m5S0Li6ABNf8"
      }
    },
    {
      "cell_type": "markdown",
      "source": [
        "# Demand Modeling P2"
      ],
      "metadata": {
        "id": "YIsV2bg4u8O-"
      }
    },
    {
      "cell_type": "code",
      "source": [
        "\n",
        "# Assuming you've already loaded the dataset and processed the datetime column\n",
        "\n",
        "df = uber_df.copy()\n",
        "\n",
        "drop = [\"Unnamed: 0\", \"key\", \"fare_amount\", \"passenger_count\"]\n",
        "df.drop(drop, inplace=True, axis=1)\n",
        "\n",
        "# Create features for hour, day, day of the week, and month\n",
        "df['pickup_datetime'] = pd.to_datetime(df['pickup_datetime'])\n",
        "df['Hour'] = df['pickup_datetime'].dt.hour\n",
        "df['DayOfWeek'] = df['pickup_datetime'].dt.dayofweek\n",
        "df['Month'] = df['pickup_datetime'].dt.month\n",
        "df['Day'] = df['pickup_datetime'].dt.day\n",
        "df['HourGroup'] = df['Hour'] // 4\n",
        "\n",
        "# Create ride count per hour\n",
        "ride_counts = df.groupby(['HourGroup', 'DayOfWeek', 'Month', 'Day']).size().reset_index(name='RideCount')\n",
        "\n",
        "# Split the dataset into training, validation, and testing sets\n",
        "X = ride_counts[['HourGroup', 'DayOfWeek', 'Month', 'Day']]\n",
        "y = ride_counts['RideCount']\n",
        "X_train, X_test, y_train, y_test = train_test_split(X, y, test_size=0.2, random_state=42)\n",
        "X_train, X_val, y_train, y_val = train_test_split(X_train, y_train, test_size=0.25, random_state=42)  # 0.25 x 0.8 = 0.2\n",
        "\n",
        "# Train the models\n",
        "models = {'Linear Regression': LinearRegression(),\n",
        "          'Decision Tree': DecisionTreeRegressor(random_state=42),\n",
        "          'Random Forest': RandomForestRegressor(random_state=42),\n",
        "          'XGBoost': XGBRegressor(random_state=42)}\n",
        "\n",
        "for name, demand_model in models.items():\n",
        "    demand_model.fit(X_train, y_train)\n",
        "    y_pred_val = demand_model.predict(X_val)\n",
        "    r2_val = r2_score(y_val, y_pred_val)\n",
        "    print(f\"{name} R-squared (Validation): {r2_val:.4f}\")\n",
        "\n",
        "print(\"Results on test set:\")\n",
        "for name, demand_model in models.items():\n",
        "    y_test_pred = demand_model.predict(X_test)\n",
        "    r2_test = r2_score(y_test, y_test_pred)\n",
        "    print(f\"{name} R-squared: {r2_test:.4f}\")"
      ],
      "metadata": {
        "colab": {
          "base_uri": "https://localhost:8080/"
        },
        "id": "RoxD_L65vBSA",
        "outputId": "7598c7fa-31d1-4f4f-f156-fc1da7d90e96"
      },
      "execution_count": 366,
      "outputs": [
        {
          "output_type": "stream",
          "name": "stdout",
          "text": [
            "Linear Regression R-squared (Validation): 0.3036\n",
            "Decision Tree R-squared (Validation): -0.0673\n",
            "Random Forest R-squared (Validation): 0.3909\n",
            "XGBoost R-squared (Validation): 0.5122\n",
            "Results on test set:\n",
            "Linear Regression R-squared: 0.3062\n",
            "Decision Tree R-squared: -0.0500\n",
            "Random Forest R-squared: 0.4009\n",
            "XGBoost R-squared: 0.5131\n"
          ]
        }
      ]
    },
    {
      "cell_type": "code",
      "source": [
        "demand_model = XGBRegressor(random_state=42)\n",
        "demand_model.fit(X_train, y_train)\n",
        "\n",
        "def predict_ride_count(hourgroup, day_of_week, month, day):\n",
        "    # Create a dataframe with the input values\n",
        "    input_df = pd.DataFrame({\n",
        "        'HourGroup': [hourgroup],\n",
        "        'DayOfWeek': [day_of_week],\n",
        "        'Month': [month],\n",
        "        'Day': [day]\n",
        "    })\n",
        "\n",
        "    # Use the XGBoost model to make a prediction\n",
        "    prediction = demand_model.predict(input_df)[0]\n",
        "\n",
        "    return prediction"
      ],
      "metadata": {
        "id": "ol3Jklym3bdO"
      },
      "execution_count": 367,
      "outputs": []
    },
    {
      "cell_type": "code",
      "source": [
        "ride_counts['Pred_RideCount'] = ride_counts.apply(lambda x: predict_ride_count(x['HourGroup'], x['DayOfWeek'], x['Month'], x['Day']), axis=1)"
      ],
      "metadata": {
        "id": "dTHMtLYG8HXr"
      },
      "execution_count": 368,
      "outputs": []
    },
    {
      "cell_type": "code",
      "source": [
        "plt.scatter(ride_counts['RideCount'], ride_counts['Pred_RideCount'])"
      ],
      "metadata": {
        "colab": {
          "base_uri": "https://localhost:8080/",
          "height": 0
        },
        "id": "MF2IGC2F3sae",
        "outputId": "50c44ae8-bd99-4f4e-bb75-4f4ed522303f"
      },
      "execution_count": 369,
      "outputs": [
        {
          "output_type": "execute_result",
          "data": {
            "text/plain": [
              "<matplotlib.collections.PathCollection at 0x7ff3ff3fc220>"
            ]
          },
          "metadata": {},
          "execution_count": 369
        },
        {
          "output_type": "display_data",
          "data": {
            "text/plain": [
              "<Figure size 432x288 with 1 Axes>"
            ],
            "image/png": "[encoded data removed]"
          },
          "metadata": {
            "needs_background": "light"
          }
        }
      ]
    },
    {
      "cell_type": "markdown",
      "source": [
        "# Revenue Prediction"
      ],
      "metadata": {
        "id": "0V7zJIw-ODiM"
      }
    },
    {
      "cell_type": "code",
      "source": [
        "df = uber_df.copy()"
      ],
      "metadata": {
        "id": "BbklGnvhPyTZ"
      },
      "execution_count": 370,
      "outputs": []
    },
    {
      "cell_type": "code",
      "source": [
        "def haversine_distance(row):\n",
        "    \"\"\"\n",
        "    Calculate the great circle distance between two points\n",
        "    on the Earth (specified in decimal degrees)\n",
        "    \"\"\"\n",
        "    # unpack the values from the row\n",
        "    lat1, lon1, lat2, lon2 = row[['pickup_latitude', 'pickup_longitude',\n",
        "                                  'dropoff_latitude', 'dropoff_longitude']]\n",
        "    \n",
        "    # convert decimal degrees to radians\n",
        "    lon1, lat1, lon2, lat2 = map(radians, [lon1, lat1, lon2, lat2])\n",
        "\n",
        "    # Haversine formula\n",
        "    dlon = lon2 - lon1\n",
        "    dlat = lat2 - lat1\n",
        "    a = sin(dlat/2)**2 + cos(lat1) * cos(lat2) * sin(dlon/2)**2\n",
        "    c = 2 * asin(sqrt(a))\n",
        "    r = 6371 # Radius of earth in kilometers. Use 3959 for miles\n",
        "    return c * r\n",
        "\n",
        "# Apply the function to the DataFrame and assign the result to a new column\n",
        "df['distance'] = df.apply(haversine_distance, axis=1)"
      ],
      "metadata": {
        "id": "5MocRd4JPkdM"
      },
      "execution_count": 371,
      "outputs": []
    },
    {
      "cell_type": "code",
      "source": [
        "df['pickup_datetime'] = pd.to_datetime(df['pickup_datetime']).dt.tz_convert(pytz.timezone('US/Eastern'))\n",
        "df['hour'] = df['pickup_datetime'].dt.hour\n",
        "df['day'] = df['pickup_datetime'].dt.dayofweek\n",
        "df['month'] = df['pickup_datetime'].dt.month\n",
        "df['year'] = df['pickup_datetime'].dt.year"
      ],
      "metadata": {
        "id": "WlJPdEfQPiGn"
      },
      "execution_count": 372,
      "outputs": []
    },
    {
      "cell_type": "code",
      "source": [
        "# Replace null values with median integer for passenger_count, hour, day, and month\n",
        "df['passenger_count'] = df['passenger_count'].fillna(df['passenger_count'].median())\n",
        "df['hour'] = df['hour'].fillna(df['hour'].median())\n",
        "df['day'] = df['day'].fillna(df['day'].median())\n",
        "df['month'] = df['month'].fillna(df['month'].median())\n",
        "df['year'] = df['year'].fillna(df['year'].median())\n",
        "\n",
        "# Replace null values with the mean for distance\n",
        "df['distance'] = df['distance'].fillna(df['distance'].mean())"
      ],
      "metadata": {
        "id": "B3Uqubf1Pfse"
      },
      "execution_count": 373,
      "outputs": []
    },
    {
      "cell_type": "code",
      "source": [
        "X = df[['passenger_count', 'hour', 'day', 'month', 'distance', 'year']]\n",
        "y = df['fare_amount']\n",
        "\n",
        "X_train, X_test, y_train, y_test = train_test_split(X, y, test_size=0.2, random_state=42)"
      ],
      "metadata": {
        "id": "T7OgNGyiPHTK"
      },
      "execution_count": 374,
      "outputs": []
    },
    {
      "cell_type": "code",
      "source": [
        "\n",
        "# Separate the features and target variable\n",
        "X = df[['passenger_count', 'hour', 'day', 'month', 'distance']]\n",
        "y = df['fare_amount']\n",
        "\n",
        "# Split the data into training and testing sets\n",
        "X_train, X_test, y_train, y_test = train_test_split(X, y, test_size=0.2, random_state=42)\n",
        "\n",
        "# Train the models\n",
        "models = {'Linear Regression': LinearRegression(),\n",
        "          'Decision Tree': DecisionTreeRegressor(random_state=42),\n",
        "          'Random Forest': RandomForestRegressor(random_state=42),\n",
        "          'XGBoost': XGBRegressor(random_state=42)}\n",
        "\n",
        "for name, revenue_model in models.items():\n",
        "    revenue_model.fit(X_train, y_train)\n",
        "    y_pred = revenue_model.predict(X_test)\n",
        "    r2 = r2_score(y_test, y_pred)\n",
        "    print(f\"{name} R-squared: {r2:.4f}\")\n",
        "\n",
        "# Plot the results\n",
        "fig, ax = plt.subplots(figsize=(10, 6))\n",
        "ax.bar(models.keys(), [r2_score(y_test, model.predict(X_test)) for model in models.values()])\n",
        "ax.set_xlabel('Model')\n",
        "ax.set_ylabel('R-squared')\n",
        "ax.set_title('Predictive Power of Different Machine Learning Models')\n",
        "plt.show()"
      ],
      "metadata": {
        "colab": {
          "base_uri": "https://localhost:8080/",
          "height": 0
        },
        "id": "KZfyo7Z-djXU",
        "outputId": "a4d18737-08a5-4169-8dab-f8dcb63c2d25"
      },
      "execution_count": 375,
      "outputs": [
        {
          "output_type": "stream",
          "name": "stdout",
          "text": [
            "Linear Regression R-squared: 0.0012\n",
            "Decision Tree R-squared: 0.3656\n",
            "Random Forest R-squared: 0.6440\n",
            "XGBoost R-squared: 0.6759\n"
          ]
        },
        {
          "output_type": "display_data",
          "data": {
            "text/plain": [
              "<Figure size 720x432 with 1 Axes>"
            ],
            "image/png": "[encoded data removed]"
          },
          "metadata": {
            "needs_background": "light"
          }
        }
      ]
    },
    {
      "cell_type": "code",
      "source": [
        "# Train the XGBoost model\n",
        "fare_model = xgb.XGBRegressor(random_state=42)\n",
        "fare_model.fit(X_train, y_train)\n",
        "\n",
        "# Save the XGBoost model to disk\n",
        "fare_model.save_model('xgb_model.bin')\n",
        "\n",
        "# Create a function that uses the saved model to predict fare amount\n",
        "def predict_fare_amount(passenger_count, hour, day_of_week, month, distance):\n",
        "    # Load the trained model from disk\n",
        "    fare_model = xgb.Booster()\n",
        "    fare_model.load_model('xgb_model.bin')\n",
        "\n",
        "    # Prepare the input data as a Pandas DataFrame\n",
        "    data = {'passenger_count': [passenger_count],\n",
        "            'hour': [hour],\n",
        "            'day_of_week': [day_of_week],\n",
        "            'month': [month],\n",
        "            'distance': [distance]}\n",
        "    df = pd.DataFrame(data)\n",
        "\n",
        "    # Use the trained model to make a prediction\n",
        "    prediction = fare_model.predict(xgb.DMatrix(df))[0]\n",
        "\n",
        "    # Return the predicted fare amount\n",
        "    return prediction"
      ],
      "metadata": {
        "id": "4ZTUsfPdOJFQ"
      },
      "execution_count": 376,
      "outputs": []
    },
    {
      "cell_type": "code",
      "source": [
        "def ride_rev_model(passenger_count, hour, day, month, distance):\n",
        "  fare = predict_fare_amount(passenger_count, hour, day, month, distance)\n",
        "  exp_rev = .85*fare #Uber takes 25%, expected 10% tip\n",
        "  exp_cost = exp_driver_cost(distance)\n",
        "  exp_profit = exp_rev - exp_cost"
      ],
      "metadata": {
        "id": "8zyeHa_hUvij"
      },
      "execution_count": 377,
      "outputs": []
    },
    {
      "cell_type": "code",
      "source": [
        "predict_fare_amount(1,12,3,1,3)"
      ],
      "metadata": {
        "colab": {
          "base_uri": "https://localhost:8080/"
        },
        "id": "AaWeV9exWK06",
        "outputId": "c32467c1-2a99-411b-8621-82db2f5e92d0"
      },
      "execution_count": 378,
      "outputs": [
        {
          "output_type": "execute_result",
          "data": {
            "text/plain": [
              "10.84192"
            ]
          },
          "metadata": {},
          "execution_count": 378
        }
      ]
    },
    {
      "cell_type": "markdown",
      "source": [
        "# Combining Functions"
      ],
      "metadata": {
        "id": "Zxe7VcB9kuy7"
      }
    },
    {
      "cell_type": "code",
      "source": [
        "predict_fare_amount(1,12,1,1,3)\n",
        "#passenger count\n",
        "#hour\n",
        "#day of week\n",
        "#month\n",
        "#distance"
      ],
      "metadata": {
        "colab": {
          "base_uri": "https://localhost:8080/"
        },
        "id": "RGfU4oUnkqxU",
        "outputId": "eb4ff5af-1201-429d-8b5f-6d9688706e84"
      },
      "execution_count": 379,
      "outputs": [
        {
          "output_type": "execute_result",
          "data": {
            "text/plain": [
              "10.397377"
            ]
          },
          "metadata": {},
          "execution_count": 379
        }
      ]
    },
    {
      "cell_type": "code",
      "source": [
        "predict_ride_count(5,4,12,20)\n",
        "#hourgroup 0: 0-3, 1: 4-7, etc.\n",
        "#day of week 0: Su, 1: M, etc.\n",
        "#month\n",
        "#day (in month)"
      ],
      "metadata": {
        "colab": {
          "base_uri": "https://localhost:8080/"
        },
        "id": "2iD_8Dbt9qr0",
        "outputId": "224e0229-ecad-47a0-ac25-ed4dd1afe9c1"
      },
      "execution_count": 380,
      "outputs": [
        {
          "output_type": "execute_result",
          "data": {
            "text/plain": [
              "24.412382"
            ]
          },
          "metadata": {},
          "execution_count": 380
        }
      ]
    },
    {
      "cell_type": "code",
      "source": [
        "def plot_matrix(week_dates_str):\n",
        "  days = [int(date[:2]) for date in week_dates_str]\n",
        "  months = [int(date[3:5]) for date in week_dates_str]\n",
        "\n",
        "  ride_count_matrix = []\n",
        "\n",
        "  for i in range(6):\n",
        "      row = []\n",
        "      for j in range(7):\n",
        "          month = months[i]\n",
        "          row.append(predict_ride_count(i, j, months[j], days[j]))\n",
        "      ride_count_matrix.append(row)\n",
        "\n",
        "  hourgroups = ['0-3', '4-7', '8-11', '12-15', '16-19', '20-23']\n",
        "\n",
        "  data = ride_count_matrix\n",
        "\n",
        "  # Convert data to a numpy array\n",
        "  data = np.array(data)\n",
        "\n",
        "  # Create a color map\n",
        "  cmap = plt.cm.get_cmap('RdYlBu_r')\n",
        "\n",
        "  # Create a figure and axis object\n",
        "  fig, ax = plt.subplots()\n",
        "\n",
        "  # Plot the heatmap with color map\n",
        "  im = ax.imshow(data, cmap=cmap)\n",
        "\n",
        "  # Add a color bar\n",
        "  cbar = ax.figure.colorbar(im, ax=ax)\n",
        "\n",
        "  # Set the tick labels\n",
        "  ax.set_xticks(np.arange(len(week_dates_str)))\n",
        "  ax.set_yticks(np.arange(len(hourgroups)))\n",
        "  ax.set_xticklabels(week_dates_str)\n",
        "  ax.set_yticklabels(hourgroups)\n",
        "\n",
        "  # Rotate the tick labels and set their alignment\n",
        "  plt.setp(ax.get_xticklabels(), rotation=45, ha=\"right\",\n",
        "          rotation_mode=\"anchor\")\n",
        "\n",
        "  # Loop over the data and add annotations to the heatmap\n",
        "  for i in range(len(hourgroups)):\n",
        "      for j in range(len(dates)):\n",
        "          text = ax.text(j, i, \"{:.1f}\".format(data[i, j]),\n",
        "                        ha=\"center\", va=\"center\", color=\"w\")\n",
        "\n",
        "  # Set the title\n",
        "  ax.set_title(\"Ride Count Heatmap\")\n",
        "\n",
        "  # Show the plot\n",
        "  plt.show()"
      ],
      "metadata": {
        "id": "GfX1GUvaMO5y"
      },
      "execution_count": 397,
      "outputs": []
    },
    {
      "cell_type": "code",
      "source": [
        "from datetime import datetime, timedelta\n",
        "\n",
        "# Get user input for day, month, and year\n",
        "day = int(input(\"Please enter the day (1-31): \"))\n",
        "month = int(input(\"Please enter the month (1-12): \"))\n",
        "year = int(input(\"Please enter the year (e.g., 2023): \"))\n",
        "\n",
        "# Create a datetime object for the input date\n",
        "input_date = datetime(year, month, day)\n",
        "\n",
        "# Find the Sunday of the given week\n",
        "days_to_subtract = (input_date.weekday() + 1) % 7  # Sunday is 0, Saturday is 6\n",
        "sunday = input_date - timedelta(days=days_to_subtract)\n",
        "\n",
        "# Create a list of dates from Sunday through Saturday\n",
        "week_dates = [sunday + timedelta(days=i) for i in range(7)]\n",
        "\n",
        "# Format the dates as strings with the desired format\n",
        "week_info = [date.strftime(\"%d-%m-%Y\") for date in week_dates]\n",
        "\n",
        "print(\"The week's dates are:\")\n",
        "print(week_info)\n"
      ],
      "metadata": {
        "colab": {
          "base_uri": "https://localhost:8080/"
        },
        "id": "nCNpR2CcMQ0y",
        "outputId": "3a2312e8-604a-415c-80b3-1be78acd4a94"
      },
      "execution_count": 398,
      "outputs": [
        {
          "output_type": "stream",
          "name": "stdout",
          "text": [
            "Please enter the day (1-31): 8\n",
            "Please enter the month (1-12): 12\n",
            "Please enter the year (e.g., 2023): 2018\n",
            "The week's dates are:\n",
            "['02-12-2018', '03-12-2018', '04-12-2018', '05-12-2018', '06-12-2018', '07-12-2018', '08-12-2018']\n"
          ]
        }
      ]
    },
    {
      "cell_type": "code",
      "source": [
        "plot_matrix(week_info)"
      ],
      "metadata": {
        "colab": {
          "base_uri": "https://localhost:8080/",
          "height": 375
        },
        "id": "OnZ7U0qzoTaB",
        "outputId": "cd91b0a1-0147-4645-df74-107948d1bfa1"
      },
      "execution_count": 399,
      "outputs": [
        {
          "output_type": "stream",
          "name": "stderr",
          "text": [
            "<ipython-input-397-91f061bfcbb8>:22: MatplotlibDeprecationWarning: The get_cmap function was deprecated in Matplotlib 3.7 and will be removed two minor releases later. Use ``matplotlib.colormaps[name]`` or ``matplotlib.colormaps.get_cmap(obj)`` instead.\n",
            "  cmap = plt.cm.get_cmap('RdYlBu_r')\n"
          ]
        },
        {
          "output_type": "display_data",
          "data": {
            "text/plain": [
              "<Figure size 432x288 with 2 Axes>"
            ],
            "image/png": "[encoded data removed]"
          },
          "metadata": {
            "needs_background": "light"
          }
        }
      ]
    },
    {
      "cell_type": "code",
      "source": [],
      "metadata": {
        "id": "-WBNPF9zoL-i"
      },
      "execution_count": 389,
      "outputs": []
    },
    {
      "cell_type": "code",
      "source": [],
      "metadata": {
        "colab": {
          "base_uri": "https://localhost:8080/"
        },
        "id": "IDalCfwhLCfs",
        "outputId": "4122da55-fd1e-47f7-bd53-076f8eff29a0"
      },
      "execution_count": 390,
      "outputs": [
        {
          "output_type": "execute_result",
          "data": {
            "text/plain": [
              "[[4.9779134, 5.646223, 7.794437, 6.2530346, 10.402869, 19.915485, 27.55209],\n",
              " [8.843892, 8.525995, 8.251875, 6.970343, 8.622312, 6.5286446, 6.486949],\n",
              " [18.765026, 19.868185, 19.399042, 18.747896, 19.726233, 15.613943, 14.621603],\n",
              " [24.700785, 19.541405, 18.459448, 17.966957, 21.607067, 20.672026, 19.006367],\n",
              " [26.653685, 21.37152, 20.48902, 20.416208, 24.90384, 23.31069, 19.041077],\n",
              " [23.232323, 22.520916, 22.731163, 25.388206, 26.586246, 27.58884, 17.499279]]"
            ]
          },
          "metadata": {},
          "execution_count": 390
        }
      ]
    },
    {
      "cell_type": "code",
      "source": [],
      "metadata": {
        "id": "MRvl_Z0_LWNX"
      },
      "execution_count": 395,
      "outputs": []
    }
  ]
}