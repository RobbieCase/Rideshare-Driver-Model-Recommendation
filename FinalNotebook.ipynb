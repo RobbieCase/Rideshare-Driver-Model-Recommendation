{
  "cells": [
    {
      "cell_type": "markdown",
      "metadata": {
        "id": "view-in-github",
        "colab_type": "text"
      },
      "source": [
        "<a href=\"https://colab.research.google.com/github/zwellman99/Rideshare-Driver-Model-Recommendation/blob/main/FinalNotebook.ipynb\" target=\"_parent\"><img src=\"https://colab.research.google.com/assets/colab-badge.svg\" alt=\"Open In Colab\"/></a>"
      ]
    },
    {
      "cell_type": "code",
      "execution_count": null,
      "metadata": {
        "id": "9FkELGVJKQcm"
      },
      "outputs": [],
      "source": []
    },
    {
      "cell_type": "markdown",
      "metadata": {
        "id": "uPDrCEo_Kkym"
      },
      "source": [
        "# Importing Data and Downloading Libraries\n"
      ]
    },
    {
      "cell_type": "code",
      "execution_count": null,
      "metadata": {
        "id": "h1DsxyAfboPt"
      },
      "outputs": [],
      "source": [
        "from google.colab import drive\n",
        "drive.mount('/content/drive')"
      ]
    },
    {
      "cell_type": "code",
      "execution_count": null,
      "metadata": {
        "id": "vh73Qyh_b4Oy"
      },
      "outputs": [],
      "source": [
        "!pip install opendatasets"
      ]
    },
    {
      "cell_type": "code",
      "execution_count": null,
      "metadata": {
        "id": "Gfb9bEiyb2w8"
      },
      "outputs": [],
      "source": [
        "import opendatasets as od\n",
        "import pandas as pd\n",
        "import os\n",
        "import matplotlib.pyplot as plt\n",
        "import numpy as np\n",
        "from statsmodels.tsa.arima.model import ARIMA\n",
        "import pandas as pd\n",
        "import numpy as np\n",
        "import matplotlib.pyplot as plt\n",
        "from statsmodels.tsa.statespace.sarimax import SARIMAX\n",
        "from statsmodels.graphics.tsaplots import plot_acf\n",
        "from statsmodels.graphics.tsaplots import plot_pacf\n",
        "from statsmodels.tsa.stattools import adfuller\n",
        "from sklearn.metrics import mean_squared_error\n",
        "from math import sqrt\n",
        "import folium\n",
        "from folium.plugins import HeatMap\n",
        "import itertools\n",
        "from prophet import Prophet\n",
        "import xgboost as xgb\n",
        "from sklearn.model_selection import train_test_split\n",
        "from math import radians, sin, cos, sqrt, asin\n",
        "import pytz\n",
        "\n",
        "import pandas as pd\n",
        "from sklearn.model_selection import train_test_split\n",
        "from sklearn.metrics import r2_score\n",
        "from xgboost import XGBRegressor\n",
        "from sklearn.linear_model import LinearRegression\n",
        "from sklearn.tree import DecisionTreeRegressor\n",
        "from sklearn.ensemble import RandomForestRegressor\n",
        "\n",
        "from xgboost import XGBRegressor\n",
        "from sklearn.metrics import r2_score\n",
        "import opendatasets as od\n",
        "import pandas as pd\n",
        "import os\n",
        "import matplotlib.pyplot as plt\n",
        "import numpy as np\n",
        "import seaborn as sns\n",
        "import pandas as pd\n",
        "from datetime import datetime\n",
        "from sklearn import preprocessing\n",
        "from datetime import datetime\n",
        "from sklearn.feature_selection import SelectKBest\n",
        "from sklearn.feature_selection import chi2\n",
        "from sklearn.model_selection import train_test_split\n",
        "from sklearn.metrics import accuracy_score\n",
        "from sklearn.linear_model import LinearRegression\n",
        "from sklearn.linear_model import LogisticRegression\n",
        "from sklearn.tree import DecisionTreeRegressor\n",
        "from sklearn.ensemble import RandomForestRegressor\n",
        "from sklearn.ensemble import GradientBoostingRegressor\n",
        "from sklearn.ensemble import AdaBoostRegressor\n",
        "from sklearn.ensemble import BaggingRegressor\n",
        "from sklearn.neighbors import KNeighborsRegressor\n",
        "from sklearn.feature_selection import RFE\n"
      ]
    },
    {
      "cell_type": "code",
      "execution_count": null,
      "metadata": {
        "id": "B_LHlLR2b8W1"
      },
      "outputs": [],
      "source": [
        "od.download(\"https://www.kaggle.com/datasets/yasserh/uber-fares-dataset\")\n",
        "os.chdir('/content/uber-fares-dataset')\n",
        "uber_df = pd.read_csv(\"uber.csv\")"
      ]
    },
    {
      "cell_type": "markdown",
      "metadata": {
        "id": "sphibjvgcAO5"
      },
      "source": [
        "**username:** blakeandersonw\n",
        "\n",
        "**key:** 5c7b7542c5ad7af0d6015b98bfa868b4"
      ]
    },
    {
      "cell_type": "markdown",
      "metadata": {
        "id": "m5S0Li6ABNf8"
      },
      "source": [
        "Demand P2"
      ]
    },
    {
      "cell_type": "markdown",
      "metadata": {
        "id": "YIsV2bg4u8O-"
      },
      "source": [
        "# Demand Modeling P2\n"
      ]
    },
    {
      "cell_type": "code",
      "execution_count": null,
      "metadata": {
        "id": "RoxD_L65vBSA"
      },
      "outputs": [],
      "source": [
        "\n",
        "# Assuming you've already loaded the dataset and processed the datetime column\n",
        "\n",
        "df = uber_df.copy()\n",
        "\n",
        "drop = [\"Unnamed: 0\", \"key\", \"fare_amount\", \"passenger_count\"]\n",
        "df.drop(drop, inplace=True, axis=1)\n",
        "\n",
        "# Create features for hour, day, day of the week, and month\n",
        "df['pickup_datetime'] = pd.to_datetime(df['pickup_datetime'])\n",
        "df['Hour'] = df['pickup_datetime'].dt.hour\n",
        "df['DayOfWeek'] = df['pickup_datetime'].dt.dayofweek\n",
        "df['Month'] = df['pickup_datetime'].dt.month\n",
        "df['Day'] = df['pickup_datetime'].dt.day\n",
        "df['HourGroup'] = df['Hour'] // 4\n",
        "\n",
        "# Create ride count per hour\n",
        "ride_counts = df.groupby(['HourGroup', 'DayOfWeek', 'Month', 'Day']).size().reset_index(name='RideCount')\n",
        "\n",
        "# Split the dataset into training, validation, and testing sets\n",
        "X = ride_counts[['HourGroup', 'DayOfWeek', 'Month', 'Day']]\n",
        "y = ride_counts['RideCount']\n",
        "X_train, X_test, y_train, y_test = train_test_split(X, y, test_size=0.2, random_state=42)\n",
        "X_train, X_val, y_train, y_val = train_test_split(X_train, y_train, test_size=0.25, random_state=42)  # 0.25 x 0.8 = 0.2\n",
        "\n",
        "# Train the models\n",
        "models = {'Linear Regression': LinearRegression(),\n",
        "          'Decision Tree': DecisionTreeRegressor(random_state=42),\n",
        "          'Random Forest': RandomForestRegressor(random_state=42),\n",
        "          'XGBoost': XGBRegressor(random_state=42)}\n",
        "\n",
        "for name, demand_model in models.items():\n",
        "    demand_model.fit(X_train, y_train)\n",
        "    y_pred_val = demand_model.predict(X_val)\n",
        "    r2_val = r2_score(y_val, y_pred_val)\n",
        "    print(f\"{name} R-squared (Validation): {r2_val:.4f}\")\n",
        "\n",
        "print(\"Results on test set:\")\n",
        "for name, demand_model in models.items():\n",
        "    y_test_pred = demand_model.predict(X_test)\n",
        "    r2_test = r2_score(y_test, y_test_pred)\n",
        "    print(f\"{name} R-squared: {r2_test:.4f}\")"
      ]
    },
    {
      "cell_type": "code",
      "execution_count": null,
      "metadata": {
        "id": "ol3Jklym3bdO"
      },
      "outputs": [],
      "source": [
        "demand_model = XGBRegressor(random_state=42)\n",
        "demand_model.fit(X_train, y_train)\n",
        "\n",
        "def predict_ride_count(hourgroup, day_of_week, month, day):\n",
        "    # Create a dataframe with the input values\n",
        "    input_df = pd.DataFrame({\n",
        "        'HourGroup': [hourgroup],\n",
        "        'DayOfWeek': [day_of_week],\n",
        "        'Month': [month],\n",
        "        'Day': [day]\n",
        "    })\n",
        "\n",
        "    # Use the XGBoost model to make a prediction\n",
        "    prediction = demand_model.predict(input_df)[0]\n",
        "\n",
        "    return prediction"
      ]
    },
    {
      "cell_type": "code",
      "execution_count": null,
      "metadata": {
        "id": "dTHMtLYG8HXr"
      },
      "outputs": [],
      "source": [
        "ride_counts['Pred_RideCount'] = ride_counts.apply(lambda x: predict_ride_count(x['HourGroup'], x['DayOfWeek'], x['Month'], x['Day']), axis=1)"
      ]
    },
    {
      "cell_type": "code",
      "execution_count": null,
      "metadata": {
        "id": "MF2IGC2F3sae"
      },
      "outputs": [],
      "source": [
        "plt.scatter(ride_counts['RideCount'], ride_counts['Pred_RideCount'])"
      ]
    },
    {
      "cell_type": "markdown",
      "metadata": {
        "id": "0V7zJIw-ODiM"
      },
      "source": [
        "# Revenue Prediction"
      ]
    },
    {
      "cell_type": "code",
      "execution_count": null,
      "metadata": {
        "id": "BbklGnvhPyTZ"
      },
      "outputs": [],
      "source": [
        "df = uber_df.copy()"
      ]
    },
    {
      "cell_type": "code",
      "execution_count": null,
      "metadata": {
        "id": "5MocRd4JPkdM"
      },
      "outputs": [],
      "source": [
        "def haversine_distance(row):\n",
        "    \"\"\"\n",
        "    Calculate the great circle distance between two points\n",
        "    on the Earth (specified in decimal degrees)\n",
        "    \"\"\"\n",
        "    # unpack the values from the row\n",
        "    lat1, lon1, lat2, lon2 = row[['pickup_latitude', 'pickup_longitude',\n",
        "                                  'dropoff_latitude', 'dropoff_longitude']]\n",
        "    \n",
        "    # convert decimal degrees to radians\n",
        "    lon1, lat1, lon2, lat2 = map(radians, [lon1, lat1, lon2, lat2])\n",
        "\n",
        "    # Haversine formula\n",
        "    dlon = lon2 - lon1\n",
        "    dlat = lat2 - lat1\n",
        "    a = sin(dlat/2)**2 + cos(lat1) * cos(lat2) * sin(dlon/2)**2\n",
        "    c = 2 * asin(sqrt(a))\n",
        "    r = 6371 # Radius of earth in kilometers. Use 3959 for miles\n",
        "    return c * r\n",
        "\n",
        "# Apply the function to the DataFrame and assign the result to a new column\n",
        "df['distance'] = df.apply(haversine_distance, axis=1)"
      ]
    },
    {
      "cell_type": "code",
      "source": [
        "# Determine the quantiles that correspond to the top 5% and bottom 5% of price values\n",
        "q_05 = df['fare_amount'].quantile(0.04)\n",
        "q_95 = df['fare_amount'].quantile(0.96)\n",
        "\n",
        "# Remove rows where price is outside of the top 5% and bottom 5% range\n",
        "df = df[(df['fare_amount'] >= q_05) & (df['fare_amount'] <= q_95)]\n",
        "\n",
        "q_05 = df['distance'].quantile(0.005)\n",
        "q_95 = df['distance'].quantile(0.905)\n",
        "df = df[(df['distance'] >= q_05) & (df['distance'] <= q_95)]"
      ],
      "metadata": {
        "id": "Y4GAjjXEZypZ"
      },
      "execution_count": null,
      "outputs": []
    },
    {
      "cell_type": "code",
      "source": [
        "df['distance'].describe"
      ],
      "metadata": {
        "id": "XKCy34U6bWuE"
      },
      "execution_count": null,
      "outputs": []
    },
    {
      "cell_type": "code",
      "execution_count": null,
      "metadata": {
        "id": "WlJPdEfQPiGn"
      },
      "outputs": [],
      "source": [
        "df['pickup_datetime'] = pd.to_datetime(df['pickup_datetime']).dt.tz_convert(pytz.timezone('US/Eastern'))\n",
        "df['hour'] = df['pickup_datetime'].dt.hour\n",
        "df['day'] = df['pickup_datetime'].dt.dayofweek\n",
        "df['month'] = df['pickup_datetime'].dt.month\n",
        "df['year'] = df['pickup_datetime'].dt.year"
      ]
    },
    {
      "cell_type": "code",
      "execution_count": null,
      "metadata": {
        "id": "B3Uqubf1Pfse"
      },
      "outputs": [],
      "source": [
        "# Replace null values with median integer for passenger_count, hour, day, and month\n",
        "df['passenger_count'] = df['passenger_count'].fillna(df['passenger_count'].median())\n",
        "df['hour'] = df['hour'].fillna(df['hour'].median())\n",
        "df['day'] = df['day'].fillna(df['day'].median())\n",
        "df['month'] = df['month'].fillna(df['month'].median())\n",
        "df['year'] = df['year'].fillna(df['year'].median())\n",
        "\n",
        "# Replace null values with the mean for distance\n",
        "df['distance'] = df['distance'].fillna(df['distance'].mean())"
      ]
    },
    {
      "cell_type": "code",
      "execution_count": null,
      "metadata": {
        "id": "T7OgNGyiPHTK",
        "colab": {
          "base_uri": "https://localhost:8080/",
          "height": 300
        },
        "outputId": "9116b0d8-0c47-4d7f-944e-b4a83c900adc"
      },
      "outputs": [
        {
          "output_type": "execute_result",
          "data": {
            "text/plain": [
              "         fare_amount\n",
              "count  167365.000000\n",
              "mean        8.834649\n",
              "std         3.887745\n",
              "min         4.000000\n",
              "25%         6.000000\n",
              "50%         8.000000\n",
              "75%        10.900000\n",
              "max        33.800000"
            ],
            "text/html": [
              "\n",
              "  <div id=\"df-1dd9c58e-2975-495b-a39b-bd3423c18170\">\n",
              "    <div class=\"colab-df-container\">\n",
              "      <div>\n",
              "<style scoped>\n",
              "    .dataframe tbody tr th:only-of-type {\n",
              "        vertical-align: middle;\n",
              "    }\n",
              "\n",
              "    .dataframe tbody tr th {\n",
              "        vertical-align: top;\n",
              "    }\n",
              "\n",
              "    .dataframe thead th {\n",
              "        text-align: right;\n",
              "    }\n",
              "</style>\n",
              "<table border=\"1\" class=\"dataframe\">\n",
              "  <thead>\n",
              "    <tr style=\"text-align: right;\">\n",
              "      <th></th>\n",
              "      <th>fare_amount</th>\n",
              "    </tr>\n",
              "  </thead>\n",
              "  <tbody>\n",
              "    <tr>\n",
              "      <th>count</th>\n",
              "      <td>167365.000000</td>\n",
              "    </tr>\n",
              "    <tr>\n",
              "      <th>mean</th>\n",
              "      <td>8.834649</td>\n",
              "    </tr>\n",
              "    <tr>\n",
              "      <th>std</th>\n",
              "      <td>3.887745</td>\n",
              "    </tr>\n",
              "    <tr>\n",
              "      <th>min</th>\n",
              "      <td>4.000000</td>\n",
              "    </tr>\n",
              "    <tr>\n",
              "      <th>25%</th>\n",
              "      <td>6.000000</td>\n",
              "    </tr>\n",
              "    <tr>\n",
              "      <th>50%</th>\n",
              "      <td>8.000000</td>\n",
              "    </tr>\n",
              "    <tr>\n",
              "      <th>75%</th>\n",
              "      <td>10.900000</td>\n",
              "    </tr>\n",
              "    <tr>\n",
              "      <th>max</th>\n",
              "      <td>33.800000</td>\n",
              "    </tr>\n",
              "  </tbody>\n",
              "</table>\n",
              "</div>\n",
              "      <button class=\"colab-df-convert\" onclick=\"convertToInteractive('df-1dd9c58e-2975-495b-a39b-bd3423c18170')\"\n",
              "              title=\"Convert this dataframe to an interactive table.\"\n",
              "              style=\"display:none;\">\n",
              "        \n",
              "  <svg xmlns=\"http://www.w3.org/2000/svg\" height=\"24px\"viewBox=\"0 0 24 24\"\n",
              "       width=\"24px\">\n",
              "    <path d=\"M0 0h24v24H0V0z\" fill=\"none\"/>\n",
              "    <path d=\"M18.56 5.44l.94 2.06.94-2.06 2.06-.94-2.06-.94-.94-2.06-.94 2.06-2.06.94zm-11 1L8.5 8.5l.94-2.06 2.06-.94-2.06-.94L8.5 2.5l-.94 2.06-2.06.94zm10 10l.94 2.06.94-2.06 2.06-.94-2.06-.94-.94-2.06-.94 2.06-2.06.94z\"/><path d=\"M17.41 7.96l-1.37-1.37c-.4-.4-.92-.59-1.43-.59-.52 0-1.04.2-1.43.59L10.3 9.45l-7.72 7.72c-.78.78-.78 2.05 0 2.83L4 21.41c.39.39.9.59 1.41.59.51 0 1.02-.2 1.41-.59l7.78-7.78 2.81-2.81c.8-.78.8-2.07 0-2.86zM5.41 20L4 18.59l7.72-7.72 1.47 1.35L5.41 20z\"/>\n",
              "  </svg>\n",
              "      </button>\n",
              "      \n",
              "  <style>\n",
              "    .colab-df-container {\n",
              "      display:flex;\n",
              "      flex-wrap:wrap;\n",
              "      gap: 12px;\n",
              "    }\n",
              "\n",
              "    .colab-df-convert {\n",
              "      background-color: #E8F0FE;\n",
              "      border: none;\n",
              "      border-radius: 50%;\n",
              "      cursor: pointer;\n",
              "      display: none;\n",
              "      fill: #1967D2;\n",
              "      height: 32px;\n",
              "      padding: 0 0 0 0;\n",
              "      width: 32px;\n",
              "    }\n",
              "\n",
              "    .colab-df-convert:hover {\n",
              "      background-color: #E2EBFA;\n",
              "      box-shadow: 0px 1px 2px rgba(60, 64, 67, 0.3), 0px 1px 3px 1px rgba(60, 64, 67, 0.15);\n",
              "      fill: #174EA6;\n",
              "    }\n",
              "\n",
              "    [theme=dark] .colab-df-convert {\n",
              "      background-color: #3B4455;\n",
              "      fill: #D2E3FC;\n",
              "    }\n",
              "\n",
              "    [theme=dark] .colab-df-convert:hover {\n",
              "      background-color: #434B5C;\n",
              "      box-shadow: 0px 1px 3px 1px rgba(0, 0, 0, 0.15);\n",
              "      filter: drop-shadow(0px 1px 2px rgba(0, 0, 0, 0.3));\n",
              "      fill: #FFFFFF;\n",
              "    }\n",
              "  </style>\n",
              "\n",
              "      <script>\n",
              "        const buttonEl =\n",
              "          document.querySelector('#df-1dd9c58e-2975-495b-a39b-bd3423c18170 button.colab-df-convert');\n",
              "        buttonEl.style.display =\n",
              "          google.colab.kernel.accessAllowed ? 'block' : 'none';\n",
              "\n",
              "        async function convertToInteractive(key) {\n",
              "          const element = document.querySelector('#df-1dd9c58e-2975-495b-a39b-bd3423c18170');\n",
              "          const dataTable =\n",
              "            await google.colab.kernel.invokeFunction('convertToInteractive',\n",
              "                                                     [key], {});\n",
              "          if (!dataTable) return;\n",
              "\n",
              "          const docLinkHtml = 'Like what you see? Visit the ' +\n",
              "            '<a target=\"_blank\" href=https://colab.research.google.com/notebooks/data_table.ipynb>data table notebook</a>'\n",
              "            + ' to learn more about interactive tables.';\n",
              "          element.innerHTML = '';\n",
              "          dataTable['output_type'] = 'display_data';\n",
              "          await google.colab.output.renderOutput(dataTable, element);\n",
              "          const docLink = document.createElement('div');\n",
              "          docLink.innerHTML = docLinkHtml;\n",
              "          element.appendChild(docLink);\n",
              "        }\n",
              "      </script>\n",
              "    </div>\n",
              "  </div>\n",
              "  "
            ]
          },
          "metadata": {},
          "execution_count": 78
        }
      ],
      "source": [
        "X = df[['passenger_count', 'hour', 'day', 'month', 'distance', 'year']]\n",
        "y = df[['fare_amount']]\n",
        "\n",
        "X_train, X_test, y_train, y_test = train_test_split(X, y, test_size=0.2, random_state=42)\n",
        "y.describe()"
      ]
    },
    {
      "cell_type": "code",
      "execution_count": null,
      "metadata": {
        "colab": {
          "base_uri": "https://localhost:8080/",
          "height": 476
        },
        "id": "KZfyo7Z-djXU",
        "outputId": "8c60f073-d3b7-4e7f-ec27-8c97e2df8cee"
      },
      "outputs": [
        {
          "output_type": "stream",
          "name": "stdout",
          "text": [
            "Linear Regression Mean Absolute Error: 1.8603\n",
            "Decision Tree Mean Absolute Error: 2.4687\n",
            "Random Forest Mean Absolute Error: 1.8297\n",
            "XGBoost Mean Absolute Error: 1.6933\n"
          ]
        },
        {
          "output_type": "display_data",
          "data": {
            "text/plain": [
              "<Figure size 720x432 with 1 Axes>"
            ],
            "image/png": "[encoded data removed]"
          },
          "metadata": {
            "needs_background": "light"
          }
        }
      ],
      "source": [
        "from sklearn.metrics import mean_absolute_error\n",
        "\n",
        "# Separate the features and target variable\n",
        "X = df[['passenger_count', 'hour', 'day', 'month', 'distance']]\n",
        "y = df['fare_amount']\n",
        "\n",
        "# Split the data into training and testing sets\n",
        "X_train, X_test, y_train, y_test = train_test_split(X, y, test_size=0.2, random_state=42)\n",
        "\n",
        "# Train the models\n",
        "models = {'Linear Regression': LinearRegression(),\n",
        "          'Decision Tree': DecisionTreeRegressor(random_state=42),\n",
        "          'Random Forest': RandomForestRegressor(random_state=42),\n",
        "          'XGBoost': XGBRegressor(random_state=42)}\n",
        "\n",
        "for name, revenue_model in models.items():\n",
        "    revenue_model.fit(X_train, y_train)\n",
        "    y_pred = revenue_model.predict(X_test)\n",
        "    mae = mean_absolute_error(y_test, y_pred)\n",
        "    print(f\"{name} Mean Absolute Error: {mae:.4f}\")\n",
        "\n",
        "# Plot the results\n",
        "fig, ax = plt.subplots(figsize=(10, 6))\n",
        "ax.bar(models.keys(), [r2_score(y_test, model.predict(X_test)) for model in models.values()])\n",
        "ax.set_xlabel('Model')\n",
        "ax.set_ylabel('R-squared')\n",
        "ax.set_title('Predictive Power of Different Machine Learning Models')\n",
        "plt.show()"
      ]
    },
    {
      "cell_type": "code",
      "execution_count": null,
      "metadata": {
        "id": "4ZTUsfPdOJFQ"
      },
      "outputs": [],
      "source": [
        "# Train the XGBoost model\n",
        "fare_model = xgb.XGBRegressor(random_state=42)\n",
        "fare_model.fit(X_train, y_train)\n",
        "\n",
        "# Save the XGBoost model to disk\n",
        "fare_model.save_model('xgb_model.bin')\n",
        "\n",
        "# Create a function that uses the saved model to predict fare amount\n",
        "def predict_fare_amount(passenger_count, hour, day_of_week, month, distance):\n",
        "    # Load the trained model from disk\n",
        "    fare_model = xgb.Booster()\n",
        "    fare_model.load_model('xgb_model.bin')\n",
        "\n",
        "    # Prepare the input data as a Pandas DataFrame\n",
        "    data = {'passenger_count': [passenger_count],\n",
        "            'hour': [hour],\n",
        "            'day_of_week': [day_of_week],\n",
        "            'month': [month],\n",
        "            'distance': [distance]}\n",
        "    df = pd.DataFrame(data)\n",
        "\n",
        "    # Use the trained model to make a prediction\n",
        "    prediction = fare_model.predict(xgb.DMatrix(df))[0]\n",
        "\n",
        "    # Return the predicted fare amount\n",
        "    return prediction"
      ]
    },
    {
      "cell_type": "code",
      "execution_count": null,
      "metadata": {
        "id": "8zyeHa_hUvij"
      },
      "outputs": [],
      "source": [
        "def ride_rev_model(passenger_count, hour, day, month, distance):\n",
        "  fare = predict_fare_amount(passenger_count, hour, day, month, distance)\n",
        "  exp_rev = .85*fare #Uber takes 25%, expected 10% tip\n",
        "  exp_cost = exp_driver_cost(distance)\n",
        "  exp_profit = exp_rev - exp_cost"
      ]
    },
    {
      "cell_type": "code",
      "execution_count": null,
      "metadata": {
        "colab": {
          "base_uri": "https://localhost:8080/"
        },
        "id": "AaWeV9exWK06",
        "outputId": "ac1cebe5-2b41-4b1f-f052-655b1ea13c1d"
      },
      "outputs": [
        {
          "output_type": "execute_result",
          "data": {
            "text/plain": [
              "10.758602"
            ]
          },
          "metadata": {},
          "execution_count": 83
        }
      ],
      "source": [
        "predict_fare_amount(1,12,3,1,3)"
      ]
    },
    {
      "cell_type": "markdown",
      "metadata": {
        "id": "Zxe7VcB9kuy7"
      },
      "source": [
        "# Combining Functions"
      ]
    },
    {
      "cell_type": "code",
      "execution_count": null,
      "metadata": {
        "colab": {
          "base_uri": "https://localhost:8080/"
        },
        "id": "RGfU4oUnkqxU",
        "outputId": "a49e980f-483c-4bf8-86f8-9e86a8819b75"
      },
      "outputs": [
        {
          "output_type": "execute_result",
          "data": {
            "text/plain": [
              "11.552226"
            ]
          },
          "metadata": {},
          "execution_count": 87
        }
      ],
      "source": [
        "predict_fare_amount(1,12,3,12,3)\n",
        "#passenger count - 1\n",
        "#hour            - 12 (noon)\n",
        "#day of week     - 3 (Tuesday)\n",
        "#month           - 12 (December)\n",
        "#distance        - 3 miles"
      ]
    },
    {
      "cell_type": "code",
      "execution_count": null,
      "metadata": {
        "colab": {
          "base_uri": "https://localhost:8080/"
        },
        "id": "2iD_8Dbt9qr0",
        "outputId": "0bb51fd5-4c41-4ca2-ef84-cd9aea9d9169"
      },
      "outputs": [
        {
          "output_type": "execute_result",
          "data": {
            "text/plain": [
              "23.931723"
            ]
          },
          "metadata": {},
          "execution_count": 88
        }
      ],
      "source": [
        "predict_ride_count(5,4,11,20)\n",
        "#hourgroup       - 5 (4:00pm to 7:59pm)\n",
        "#day of week     - 4 (Wednesday)\n",
        "#month           - 12 (December)\n",
        "#day (in month)  - 20 (Decembr 20)"
      ]
    },
    {
      "cell_type": "code",
      "execution_count": null,
      "metadata": {
        "id": "GfX1GUvaMO5y"
      },
      "outputs": [],
      "source": [
        "def create_matrix(week_dates):\n",
        "  days = [int(date[:2]) for date in week_dates]\n",
        "  months = [int(date[3:5]) for date in week_dates]\n",
        "\n",
        "  ride_matrix = []\n",
        "\n",
        "  for i in range(6):\n",
        "      row = []\n",
        "      for j in range(7):\n",
        "          month = months[i]\n",
        "          num_rides = predict_ride_count(i, j, months[j], days[j])\n",
        "          row.append(num_rides)\n",
        "      ride_matrix.append(row)\n",
        "  \n",
        "  percentile_matrix = np.array(ride_matrix)\n",
        "  percentile_matrix = percentile_matrix/np.amax(percentile_matrix)\n",
        "  \n",
        "\n",
        "  return(percentile_matrix)\n",
        "\n",
        "def plot_matrix(ride_matrix, week_dates):\n",
        "\n",
        "  hourgroups = ['0-3', '4-7', '8-11', '12-15', '16-19', '20-23']\n",
        "\n",
        "  data = ride_matrix\n",
        "\n",
        "  # Convert data to a numpy array\n",
        "  data = np.array(data)\n",
        "\n",
        "  # Create a color map\n",
        "  cmap = plt.cm.get_cmap('RdYlBu_r')\n",
        "\n",
        "  # Create a figure and axis object\n",
        "  fig, ax = plt.subplots()\n",
        "\n",
        "  # Plot the heatmap with color map\n",
        "  im = ax.imshow(data, cmap=cmap)\n",
        "\n",
        "  # Add a color bar\n",
        "  cbar = ax.figure.colorbar(im, ax=ax)\n",
        "\n",
        "  # Set the tick labels\n",
        "  ax.set_xticks(np.arange(len(week_dates)))\n",
        "  ax.set_yticks(np.arange(len(hourgroups)))\n",
        "  ax.set_xticklabels(week_dates)\n",
        "  ax.set_yticklabels(hourgroups)\n",
        "\n",
        "  # Rotate the tick labels and set their alignment\n",
        "  plt.setp(ax.get_xticklabels(), rotation=45, ha=\"right\",\n",
        "          rotation_mode=\"anchor\")\n",
        "\n",
        "  # Loop over the data and add annotations to the heatmap\n",
        "  for i in range(len(hourgroups)):\n",
        "      for j in range(len(week_dates)):\n",
        "          text = ax.text(j, i, \"{:.1f}\".format(data[i, j]),\n",
        "                        ha=\"center\", va=\"center\", color=\"w\")\n",
        "\n",
        "  # Set the title\n",
        "  ax.set_title(\"Ride Count Heatmap\")\n",
        "\n",
        "  # Show the plot\n",
        "  plt.show()"
      ]
    },
    {
      "cell_type": "code",
      "execution_count": null,
      "metadata": {
        "id": "nCNpR2CcMQ0y",
        "colab": {
          "base_uri": "https://localhost:8080/"
        },
        "outputId": "33a00c32-30b7-4f16-b15a-869d495e62e3"
      },
      "outputs": [
        {
          "output_type": "stream",
          "name": "stdout",
          "text": [
            "Please enter the day (1-31): 3\n",
            "Please enter the month (1-12): 3\n",
            "Please enter the year (e.g., 2023): 2023\n",
            "The week's dates are:\n",
            "['26-02-2023', '27-02-2023', '28-02-2023', '01-03-2023', '02-03-2023', '03-03-2023', '04-03-2023']\n"
          ]
        }
      ],
      "source": [
        "from datetime import datetime, timedelta\n",
        "\n",
        "# Get user input for day, month, and year\n",
        "day = int(input(\"Please enter the day (1-31): \"))\n",
        "month = int(input(\"Please enter the month (1-12): \"))\n",
        "year = int(input(\"Please enter the year (e.g., 2023): \"))\n",
        "\n",
        "# Create a datetime object for the input date\n",
        "input_date = datetime(year, month, day)\n",
        "\n",
        "# Find the Sunday of the given week\n",
        "days_to_subtract = (input_date.weekday() + 1) % 7  # Sunday is 0, Saturday is 6\n",
        "sunday = input_date - timedelta(days=days_to_subtract)\n",
        "\n",
        "# Create a list of dates from Sunday through Saturday\n",
        "week_dates = [sunday + timedelta(days=i) for i in range(7)]\n",
        "\n",
        "# Format the dates as strings with the desired format\n",
        "week_info = [date.strftime(\"%d-%m-%Y\") for date in week_dates]\n",
        "\n",
        "print(\"The week's dates are:\")\n",
        "print(week_info)\n"
      ]
    },
    {
      "cell_type": "code",
      "execution_count": null,
      "metadata": {
        "id": "OnZ7U0qzoTaB",
        "colab": {
          "base_uri": "https://localhost:8080/",
          "height": 375
        },
        "outputId": "6b7e1130-a21a-493a-ad7c-4bdb6f17ca32"
      },
      "outputs": [
        {
          "output_type": "stream",
          "name": "stderr",
          "text": [
            "<ipython-input-100-b06da82a4927>:31: MatplotlibDeprecationWarning: The get_cmap function was deprecated in Matplotlib 3.7 and will be removed two minor releases later. Use ``matplotlib.colormaps[name]`` or ``matplotlib.colormaps.get_cmap(obj)`` instead.\n",
            "  cmap = plt.cm.get_cmap('RdYlBu_r')\n"
          ]
        },
        {
          "output_type": "display_data",
          "data": {
            "text/plain": [
              "<Figure size 432x288 with 2 Axes>"
            ],
            "image/png": "[encoded data removed]"
          },
          "metadata": {
            "needs_background": "light"
          }
        }
      ],
      "source": [
        "plot_matrix(create_matrix(week_info), week_info)"
      ]
    },
    {
      "cell_type": "code",
      "execution_count": null,
      "metadata": {
        "id": "-WBNPF9zoL-i"
      },
      "outputs": [],
      "source": [
        "test_matrix = np.array(create_matrix(week_info))"
      ]
    },
    {
      "cell_type": "code",
      "execution_count": null,
      "metadata": {
        "id": "IDalCfwhLCfs"
      },
      "outputs": [],
      "source": [
        "test_matrix[0][0]"
      ]
    },
    {
      "cell_type": "code",
      "execution_count": null,
      "metadata": {
        "id": "MRvl_Z0_LWNX"
      },
      "outputs": [],
      "source": []
    }
  ],
  "metadata": {
    "colab": {
      "provenance": [],
      "authorship_tag": "ABX9TyNvvLn8de6DjE2db8nbATNo",
      "include_colab_link": true
    },
    "kernelspec": {
      "display_name": "Python 3",
      "name": "python3"
    },
    "language_info": {
      "name": "python"
    }
  },
  "nbformat": 4,
  "nbformat_minor": 0
}