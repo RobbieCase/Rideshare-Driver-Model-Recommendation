{
  "cells": [
    {
      "cell_type": "markdown",
      "metadata": {
        "id": "HurnRDEcE5-m"
      },
      "source": [
        "\n",
        "Uber and Lyft Dataset Boston, MA | Kaggle (57 columns, 60k rows)\n",
        "https://www.kaggle.com/datasets/brllrb/uber-and-lyft-dataset-boston-ma\n",
        "\n",
        "Uber Fares Dataset | Kaggle (9 columns, 200k rows)\n",
        "https://www.kaggle.com/datasets/yasserh/uber-fares-dataset\n"
      ]
    },
    {
      "cell_type": "code",
      "execution_count": null,
      "metadata": {
        "id": "73CnCmCrFQ0B",
        "colab": {
          "base_uri": "https://localhost:8080/"
        },
        "outputId": "338f727e-2fbb-4ba7-96f2-e40922a48577"
      },
      "outputs": [
        {
          "output_type": "stream",
          "name": "stdout",
          "text": [
            "Looking in indexes: https://pypi.org/simple, https://us-python.pkg.dev/colab-wheels/public/simple/\n",
            "Collecting opendatasets\n",
            "  Downloading opendatasets-0.1.22-py3-none-any.whl (15 kB)\n",
            "Requirement already satisfied: click in /usr/local/lib/python3.7/dist-packages (from opendatasets) (7.1.2)\n",
            "Requirement already satisfied: kaggle in /usr/local/lib/python3.7/dist-packages (from opendatasets) (1.5.12)\n",
            "Requirement already satisfied: tqdm in /usr/local/lib/python3.7/dist-packages (from opendatasets) (4.64.1)\n",
            "Requirement already satisfied: six>=1.10 in /usr/local/lib/python3.7/dist-packages (from kaggle->opendatasets) (1.15.0)\n",
            "Requirement already satisfied: python-slugify in /usr/local/lib/python3.7/dist-packages (from kaggle->opendatasets) (6.1.2)\n",
            "Requirement already satisfied: certifi in /usr/local/lib/python3.7/dist-packages (from kaggle->opendatasets) (2022.9.24)\n",
            "Requirement already satisfied: urllib3 in /usr/local/lib/python3.7/dist-packages (from kaggle->opendatasets) (1.24.3)\n",
            "Requirement already satisfied: python-dateutil in /usr/local/lib/python3.7/dist-packages (from kaggle->opendatasets) (2.8.2)\n",
            "Requirement already satisfied: requests in /usr/local/lib/python3.7/dist-packages (from kaggle->opendatasets) (2.23.0)\n",
            "Requirement already satisfied: text-unidecode>=1.3 in /usr/local/lib/python3.7/dist-packages (from python-slugify->kaggle->opendatasets) (1.3)\n",
            "Requirement already satisfied: idna<3,>=2.5 in /usr/local/lib/python3.7/dist-packages (from requests->kaggle->opendatasets) (2.10)\n",
            "Requirement already satisfied: chardet<4,>=3.0.2 in /usr/local/lib/python3.7/dist-packages (from requests->kaggle->opendatasets) (3.0.4)\n",
            "Installing collected packages: opendatasets\n",
            "Successfully installed opendatasets-0.1.22\n",
            "Looking in indexes: https://pypi.org/simple, https://us-python.pkg.dev/colab-wheels/public/simple/\n",
            "Requirement already satisfied: pandas in /usr/local/lib/python3.7/dist-packages (1.3.5)\n",
            "Requirement already satisfied: pytz>=2017.3 in /usr/local/lib/python3.7/dist-packages (from pandas) (2022.6)\n",
            "Requirement already satisfied: python-dateutil>=2.7.3 in /usr/local/lib/python3.7/dist-packages (from pandas) (2.8.2)\n",
            "Requirement already satisfied: numpy>=1.17.3 in /usr/local/lib/python3.7/dist-packages (from pandas) (1.21.6)\n",
            "Requirement already satisfied: six>=1.5 in /usr/local/lib/python3.7/dist-packages (from python-dateutil>=2.7.3->pandas) (1.15.0)\n",
            "Mounted at /content/drive\n"
          ]
        }
      ],
      "source": [
        "!pip install -q kaggle\n",
        "!pip install opendatasets\n",
        "!pip install pandas\n",
        "import opendatasets as od\n",
        "import pandas as pd\n",
        "import os\n",
        "from google.colab import drive\n",
        "\n",
        "drive.mount('/content/drive')"
      ]
    },
    {
      "cell_type": "code",
      "execution_count": null,
      "metadata": {
        "id": "fMfW-egGHDgV",
        "colab": {
          "base_uri": "https://localhost:8080/"
        },
        "outputId": "8de90f14-972c-4371-8745-82e31f2e0194"
      },
      "outputs": [
        {
          "output_type": "stream",
          "name": "stdout",
          "text": [
            "Please provide your Kaggle credentials to download this dataset. Learn more: http://bit.ly/kaggle-creds\n",
            "Your Kaggle username: blakeandersonw\n",
            "Your Kaggle Key: ··········\n",
            "Downloading uber-fares-dataset.zip to ./uber-fares-dataset\n"
          ]
        },
        {
          "output_type": "stream",
          "name": "stderr",
          "text": [
            "100%|██████████| 7.04M/7.04M [00:00<00:00, 68.4MB/s]"
          ]
        },
        {
          "output_type": "stream",
          "name": "stdout",
          "text": [
            "\n"
          ]
        },
        {
          "output_type": "stream",
          "name": "stderr",
          "text": [
            "\n"
          ]
        },
        {
          "output_type": "stream",
          "name": "stdout",
          "text": [
            "Please provide your Kaggle credentials to download this dataset. Learn more: http://bit.ly/kaggle-creds\n",
            "Your Kaggle username: blakeandersonw\n",
            "Your Kaggle Key: ··········\n",
            "Downloading uber-and-lyft-dataset-boston-ma.zip to ./uber-and-lyft-dataset-boston-ma\n"
          ]
        },
        {
          "output_type": "stream",
          "name": "stderr",
          "text": [
            "100%|██████████| 44.5M/44.5M [00:00<00:00, 85.1MB/s]\n"
          ]
        },
        {
          "output_type": "stream",
          "name": "stdout",
          "text": [
            "\n"
          ]
        }
      ],
      "source": [
        "# download datasets from Kaggle\n",
        "od.download(\"https://www.kaggle.com/datasets/yasserh/uber-fares-dataset\")\n",
        "od.download(\"https://www.kaggle.com/datasets/brllrb/uber-and-lyft-dataset-boston-ma\")"
      ]
    },
    {
      "cell_type": "markdown",
      "metadata": {
        "id": "K3zc7i6HHPd8"
      },
      "source": [
        ":{\"username\":\"blakeandersonw\",\"key\":\"5c7b7542c5ad7af0d6015b98bfa868b4\"}"
      ]
    },
    {
      "cell_type": "code",
      "execution_count": null,
      "metadata": {
        "id": "oYRNFQNIHr-C",
        "colab": {
          "base_uri": "https://localhost:8080/",
          "height": 424
        },
        "outputId": "ebbc35be-fe5f-4467-8660-34769236bfab"
      },
      "outputs": [
        {
          "output_type": "execute_result",
          "data": {
            "text/plain": [
              "        Unnamed: 0                            key  fare_amount  \\\n",
              "0         24238194    2015-05-07 19:52:06.0000003          7.5   \n",
              "1         27835199    2009-07-17 20:04:56.0000002          7.7   \n",
              "2         44984355   2009-08-24 21:45:00.00000061         12.9   \n",
              "3         25894730    2009-06-26 08:22:21.0000001          5.3   \n",
              "4         17610152  2014-08-28 17:47:00.000000188         16.0   \n",
              "...            ...                            ...          ...   \n",
              "199995    42598914   2012-10-28 10:49:00.00000053          3.0   \n",
              "199996    16382965    2014-03-14 01:09:00.0000008          7.5   \n",
              "199997    27804658   2009-06-29 00:42:00.00000078         30.9   \n",
              "199998    20259894    2015-05-20 14:56:25.0000004         14.5   \n",
              "199999    11951496   2010-05-15 04:08:00.00000076         14.1   \n",
              "\n",
              "                pickup_datetime  pickup_longitude  pickup_latitude  \\\n",
              "0       2015-05-07 19:52:06 UTC        -73.999817        40.738354   \n",
              "1       2009-07-17 20:04:56 UTC        -73.994355        40.728225   \n",
              "2       2009-08-24 21:45:00 UTC        -74.005043        40.740770   \n",
              "3       2009-06-26 08:22:21 UTC        -73.976124        40.790844   \n",
              "4       2014-08-28 17:47:00 UTC        -73.925023        40.744085   \n",
              "...                         ...               ...              ...   \n",
              "199995  2012-10-28 10:49:00 UTC        -73.987042        40.739367   \n",
              "199996  2014-03-14 01:09:00 UTC        -73.984722        40.736837   \n",
              "199997  2009-06-29 00:42:00 UTC        -73.986017        40.756487   \n",
              "199998  2015-05-20 14:56:25 UTC        -73.997124        40.725452   \n",
              "199999  2010-05-15 04:08:00 UTC        -73.984395        40.720077   \n",
              "\n",
              "        dropoff_longitude  dropoff_latitude  passenger_count  \n",
              "0              -73.999512         40.723217                1  \n",
              "1              -73.994710         40.750325                1  \n",
              "2              -73.962565         40.772647                1  \n",
              "3              -73.965316         40.803349                3  \n",
              "4              -73.973082         40.761247                5  \n",
              "...                   ...               ...              ...  \n",
              "199995         -73.986525         40.740297                1  \n",
              "199996         -74.006672         40.739620                1  \n",
              "199997         -73.858957         40.692588                2  \n",
              "199998         -73.983215         40.695415                1  \n",
              "199999         -73.985508         40.768793                1  \n",
              "\n",
              "[200000 rows x 9 columns]"
            ],
            "text/html": [
              "\n",
              "  <div id=\"df-676702be-0ff4-4a4c-aa06-695975d739fd\">\n",
              "    <div class=\"colab-df-container\">\n",
              "      <div>\n",
              "<style scoped>\n",
              "    .dataframe tbody tr th:only-of-type {\n",
              "        vertical-align: middle;\n",
              "    }\n",
              "\n",
              "    .dataframe tbody tr th {\n",
              "        vertical-align: top;\n",
              "    }\n",
              "\n",
              "    .dataframe thead th {\n",
              "        text-align: right;\n",
              "    }\n",
              "</style>\n",
              "<table border=\"1\" class=\"dataframe\">\n",
              "  <thead>\n",
              "    <tr style=\"text-align: right;\">\n",
              "      <th></th>\n",
              "      <th>Unnamed: 0</th>\n",
              "      <th>key</th>\n",
              "      <th>fare_amount</th>\n",
              "      <th>pickup_datetime</th>\n",
              "      <th>pickup_longitude</th>\n",
              "      <th>pickup_latitude</th>\n",
              "      <th>dropoff_longitude</th>\n",
              "      <th>dropoff_latitude</th>\n",
              "      <th>passenger_count</th>\n",
              "    </tr>\n",
              "  </thead>\n",
              "  <tbody>\n",
              "    <tr>\n",
              "      <th>0</th>\n",
              "      <td>24238194</td>\n",
              "      <td>2015-05-07 19:52:06.0000003</td>\n",
              "      <td>7.5</td>\n",
              "      <td>2015-05-07 19:52:06 UTC</td>\n",
              "      <td>-73.999817</td>\n",
              "      <td>40.738354</td>\n",
              "      <td>-73.999512</td>\n",
              "      <td>40.723217</td>\n",
              "      <td>1</td>\n",
              "    </tr>\n",
              "    <tr>\n",
              "      <th>1</th>\n",
              "      <td>27835199</td>\n",
              "      <td>2009-07-17 20:04:56.0000002</td>\n",
              "      <td>7.7</td>\n",
              "      <td>2009-07-17 20:04:56 UTC</td>\n",
              "      <td>-73.994355</td>\n",
              "      <td>40.728225</td>\n",
              "      <td>-73.994710</td>\n",
              "      <td>40.750325</td>\n",
              "      <td>1</td>\n",
              "    </tr>\n",
              "    <tr>\n",
              "      <th>2</th>\n",
              "      <td>44984355</td>\n",
              "      <td>2009-08-24 21:45:00.00000061</td>\n",
              "      <td>12.9</td>\n",
              "      <td>2009-08-24 21:45:00 UTC</td>\n",
              "      <td>-74.005043</td>\n",
              "      <td>40.740770</td>\n",
              "      <td>-73.962565</td>\n",
              "      <td>40.772647</td>\n",
              "      <td>1</td>\n",
              "    </tr>\n",
              "    <tr>\n",
              "      <th>3</th>\n",
              "      <td>25894730</td>\n",
              "      <td>2009-06-26 08:22:21.0000001</td>\n",
              "      <td>5.3</td>\n",
              "      <td>2009-06-26 08:22:21 UTC</td>\n",
              "      <td>-73.976124</td>\n",
              "      <td>40.790844</td>\n",
              "      <td>-73.965316</td>\n",
              "      <td>40.803349</td>\n",
              "      <td>3</td>\n",
              "    </tr>\n",
              "    <tr>\n",
              "      <th>4</th>\n",
              "      <td>17610152</td>\n",
              "      <td>2014-08-28 17:47:00.000000188</td>\n",
              "      <td>16.0</td>\n",
              "      <td>2014-08-28 17:47:00 UTC</td>\n",
              "      <td>-73.925023</td>\n",
              "      <td>40.744085</td>\n",
              "      <td>-73.973082</td>\n",
              "      <td>40.761247</td>\n",
              "      <td>5</td>\n",
              "    </tr>\n",
              "    <tr>\n",
              "      <th>...</th>\n",
              "      <td>...</td>\n",
              "      <td>...</td>\n",
              "      <td>...</td>\n",
              "      <td>...</td>\n",
              "      <td>...</td>\n",
              "      <td>...</td>\n",
              "      <td>...</td>\n",
              "      <td>...</td>\n",
              "      <td>...</td>\n",
              "    </tr>\n",
              "    <tr>\n",
              "      <th>199995</th>\n",
              "      <td>42598914</td>\n",
              "      <td>2012-10-28 10:49:00.00000053</td>\n",
              "      <td>3.0</td>\n",
              "      <td>2012-10-28 10:49:00 UTC</td>\n",
              "      <td>-73.987042</td>\n",
              "      <td>40.739367</td>\n",
              "      <td>-73.986525</td>\n",
              "      <td>40.740297</td>\n",
              "      <td>1</td>\n",
              "    </tr>\n",
              "    <tr>\n",
              "      <th>199996</th>\n",
              "      <td>16382965</td>\n",
              "      <td>2014-03-14 01:09:00.0000008</td>\n",
              "      <td>7.5</td>\n",
              "      <td>2014-03-14 01:09:00 UTC</td>\n",
              "      <td>-73.984722</td>\n",
              "      <td>40.736837</td>\n",
              "      <td>-74.006672</td>\n",
              "      <td>40.739620</td>\n",
              "      <td>1</td>\n",
              "    </tr>\n",
              "    <tr>\n",
              "      <th>199997</th>\n",
              "      <td>27804658</td>\n",
              "      <td>2009-06-29 00:42:00.00000078</td>\n",
              "      <td>30.9</td>\n",
              "      <td>2009-06-29 00:42:00 UTC</td>\n",
              "      <td>-73.986017</td>\n",
              "      <td>40.756487</td>\n",
              "      <td>-73.858957</td>\n",
              "      <td>40.692588</td>\n",
              "      <td>2</td>\n",
              "    </tr>\n",
              "    <tr>\n",
              "      <th>199998</th>\n",
              "      <td>20259894</td>\n",
              "      <td>2015-05-20 14:56:25.0000004</td>\n",
              "      <td>14.5</td>\n",
              "      <td>2015-05-20 14:56:25 UTC</td>\n",
              "      <td>-73.997124</td>\n",
              "      <td>40.725452</td>\n",
              "      <td>-73.983215</td>\n",
              "      <td>40.695415</td>\n",
              "      <td>1</td>\n",
              "    </tr>\n",
              "    <tr>\n",
              "      <th>199999</th>\n",
              "      <td>11951496</td>\n",
              "      <td>2010-05-15 04:08:00.00000076</td>\n",
              "      <td>14.1</td>\n",
              "      <td>2010-05-15 04:08:00 UTC</td>\n",
              "      <td>-73.984395</td>\n",
              "      <td>40.720077</td>\n",
              "      <td>-73.985508</td>\n",
              "      <td>40.768793</td>\n",
              "      <td>1</td>\n",
              "    </tr>\n",
              "  </tbody>\n",
              "</table>\n",
              "<p>200000 rows × 9 columns</p>\n",
              "</div>\n",
              "      <button class=\"colab-df-convert\" onclick=\"convertToInteractive('df-676702be-0ff4-4a4c-aa06-695975d739fd')\"\n",
              "              title=\"Convert this dataframe to an interactive table.\"\n",
              "              style=\"display:none;\">\n",
              "        \n",
              "  <svg xmlns=\"http://www.w3.org/2000/svg\" height=\"24px\"viewBox=\"0 0 24 24\"\n",
              "       width=\"24px\">\n",
              "    <path d=\"M0 0h24v24H0V0z\" fill=\"none\"/>\n",
              "    <path d=\"M18.56 5.44l.94 2.06.94-2.06 2.06-.94-2.06-.94-.94-2.06-.94 2.06-2.06.94zm-11 1L8.5 8.5l.94-2.06 2.06-.94-2.06-.94L8.5 2.5l-.94 2.06-2.06.94zm10 10l.94 2.06.94-2.06 2.06-.94-2.06-.94-.94-2.06-.94 2.06-2.06.94z\"/><path d=\"M17.41 7.96l-1.37-1.37c-.4-.4-.92-.59-1.43-.59-.52 0-1.04.2-1.43.59L10.3 9.45l-7.72 7.72c-.78.78-.78 2.05 0 2.83L4 21.41c.39.39.9.59 1.41.59.51 0 1.02-.2 1.41-.59l7.78-7.78 2.81-2.81c.8-.78.8-2.07 0-2.86zM5.41 20L4 18.59l7.72-7.72 1.47 1.35L5.41 20z\"/>\n",
              "  </svg>\n",
              "      </button>\n",
              "      \n",
              "  <style>\n",
              "    .colab-df-container {\n",
              "      display:flex;\n",
              "      flex-wrap:wrap;\n",
              "      gap: 12px;\n",
              "    }\n",
              "\n",
              "    .colab-df-convert {\n",
              "      background-color: #E8F0FE;\n",
              "      border: none;\n",
              "      border-radius: 50%;\n",
              "      cursor: pointer;\n",
              "      display: none;\n",
              "      fill: #1967D2;\n",
              "      height: 32px;\n",
              "      padding: 0 0 0 0;\n",
              "      width: 32px;\n",
              "    }\n",
              "\n",
              "    .colab-df-convert:hover {\n",
              "      background-color: #E2EBFA;\n",
              "      box-shadow: 0px 1px 2px rgba(60, 64, 67, 0.3), 0px 1px 3px 1px rgba(60, 64, 67, 0.15);\n",
              "      fill: #174EA6;\n",
              "    }\n",
              "\n",
              "    [theme=dark] .colab-df-convert {\n",
              "      background-color: #3B4455;\n",
              "      fill: #D2E3FC;\n",
              "    }\n",
              "\n",
              "    [theme=dark] .colab-df-convert:hover {\n",
              "      background-color: #434B5C;\n",
              "      box-shadow: 0px 1px 3px 1px rgba(0, 0, 0, 0.15);\n",
              "      filter: drop-shadow(0px 1px 2px rgba(0, 0, 0, 0.3));\n",
              "      fill: #FFFFFF;\n",
              "    }\n",
              "  </style>\n",
              "\n",
              "      <script>\n",
              "        const buttonEl =\n",
              "          document.querySelector('#df-676702be-0ff4-4a4c-aa06-695975d739fd button.colab-df-convert');\n",
              "        buttonEl.style.display =\n",
              "          google.colab.kernel.accessAllowed ? 'block' : 'none';\n",
              "\n",
              "        async function convertToInteractive(key) {\n",
              "          const element = document.querySelector('#df-676702be-0ff4-4a4c-aa06-695975d739fd');\n",
              "          const dataTable =\n",
              "            await google.colab.kernel.invokeFunction('convertToInteractive',\n",
              "                                                     [key], {});\n",
              "          if (!dataTable) return;\n",
              "\n",
              "          const docLinkHtml = 'Like what you see? Visit the ' +\n",
              "            '<a target=\"_blank\" href=https://colab.research.google.com/notebooks/data_table.ipynb>data table notebook</a>'\n",
              "            + ' to learn more about interactive tables.';\n",
              "          element.innerHTML = '';\n",
              "          dataTable['output_type'] = 'display_data';\n",
              "          await google.colab.output.renderOutput(dataTable, element);\n",
              "          const docLink = document.createElement('div');\n",
              "          docLink.innerHTML = docLinkHtml;\n",
              "          element.appendChild(docLink);\n",
              "        }\n",
              "      </script>\n",
              "    </div>\n",
              "  </div>\n",
              "  "
            ]
          },
          "metadata": {},
          "execution_count": 6
        }
      ],
      "source": [
        "# data set of uber data\n",
        "os.chdir('/content/uber-fares-dataset')\n",
        "data = pd.read_csv(\"uber.csv\")\n",
        "data"
      ]
    },
    {
      "cell_type": "markdown",
      "source": [
        "Downloading dataset above, consists of 200000 uber rides, with important variables pickup/dropoff longitude/latitude, price, and datetime.\n",
        "\n",
        "We likely will not use this dataset until later on."
      ],
      "metadata": {
        "id": "pRjSN64rqitS"
      }
    },
    {
      "cell_type": "code",
      "execution_count": null,
      "metadata": {
        "id": "etmJm2H3H6UE"
      },
      "outputs": [],
      "source": [
        "import seaborn as sns\n",
        "import matplotlib.pyplot as plt"
      ]
    },
    {
      "cell_type": "markdown",
      "metadata": {
        "id": "WmKJoE3VaX1G"
      },
      "source": [
        "### **LEARNING ABOUT THE DATASETS**\n",
        "\n"
      ]
    },
    {
      "cell_type": "code",
      "execution_count": null,
      "metadata": {
        "id": "N3fquB9zInEH"
      },
      "outputs": [],
      "source": [
        "# data set of uber and lyft data\n",
        "os.chdir('/content/uber-and-lyft-dataset-boston-ma')\n",
        "rs_data = pd.read_csv(\"rideshare_kaggle.csv\")\n",
        "rs_data"
      ]
    },
    {
      "cell_type": "markdown",
      "source": [
        "Downloading ridehsare data from Boston, MA during November 26, 2018 until December 18, 2018.  Comprehensive dataset with price, distance, pickup/dropoff, weather, etc."
      ],
      "metadata": {
        "id": "xHjA8KvNq0Pt"
      }
    },
    {
      "cell_type": "code",
      "execution_count": null,
      "metadata": {
        "id": "lF3bTnZ4ahM9"
      },
      "outputs": [],
      "source": [
        "rs_data.dtypes"
      ]
    },
    {
      "cell_type": "markdown",
      "source": [
        "Checking variable types of dataset."
      ],
      "metadata": {
        "id": "-EF-vFtTr3sO"
      }
    },
    {
      "cell_type": "code",
      "execution_count": null,
      "metadata": {
        "id": "8iupVoSCcJUG",
        "colab": {
          "base_uri": "https://localhost:8080/"
        },
        "outputId": "428ced15-d4aa-4331-9222-bae93a8f05dc"
      },
      "outputs": [
        {
          "output_type": "stream",
          "name": "stdout",
          "text": [
            "Lyft summary statistics\n",
            " count    307408.000000\n",
            "mean         17.351396\n",
            "std          10.019171\n",
            "min           2.500000\n",
            "25%           9.000000\n",
            "50%          16.500000\n",
            "75%          22.500000\n",
            "max          97.500000\n",
            "Name: price, dtype: float64 \n",
            "\n",
            "Uber summary statistics\n",
            " count    330568.000000\n",
            "mean         15.795343\n",
            "std           8.560300\n",
            "min           4.500000\n",
            "25%           9.000000\n",
            "50%          12.500000\n",
            "75%          21.500000\n",
            "max          89.500000\n",
            "Name: price, dtype: float64\n"
          ]
        }
      ],
      "source": [
        "import matplotlib.pyplot as plt\n",
        "import numpy as np\n",
        "\n",
        "# summary statistics on Lyft and Uber \n",
        "lyft_prices = rs_data.loc[rs_data[\"cab_type\"] == \"Lyft\"]['price']\n",
        "uber_prices = rs_data.loc[rs_data[\"cab_type\"] == \"Uber\"]['price']\n",
        "\n",
        "print('Lyft summary statistics\\n', lyft_prices.describe(),'\\n')\n",
        "print('Uber summary statistics\\n', uber_prices.describe())\n"
      ]
    },
    {
      "cell_type": "markdown",
      "source": [
        "Summary statistics of Uber vs Lyft prices - not super relevant, just interesting."
      ],
      "metadata": {
        "id": "QShOgEADr9IO"
      }
    },
    {
      "cell_type": "code",
      "execution_count": null,
      "metadata": {
        "id": "rfEnT002yBi-",
        "colab": {
          "base_uri": "https://localhost:8080/",
          "height": 419
        },
        "outputId": "60e60e52-9153-4249-c9c1-570a1d7897a9"
      },
      "outputs": [
        {
          "output_type": "execute_result",
          "data": {
            "text/plain": [
              "        price  ridecost  profit\n",
              "0         5.0      0.22    4.78\n",
              "1        11.0      0.22   10.78\n",
              "2         7.0      0.22    6.78\n",
              "3        26.0      0.22   25.78\n",
              "4         9.0      0.22    8.78\n",
              "...       ...       ...     ...\n",
              "693066   13.0      0.50   12.50\n",
              "693067    9.5      0.50    9.00\n",
              "693068    NaN      0.50     NaN\n",
              "693069   27.0      0.50   26.50\n",
              "693070   10.0      0.50    9.50\n",
              "\n",
              "[693071 rows x 3 columns]"
            ],
            "text/html": [
              "\n",
              "  <div id=\"df-eb42c526-ccf5-4f16-9269-5175e5f9d75f\">\n",
              "    <div class=\"colab-df-container\">\n",
              "      <div>\n",
              "<style scoped>\n",
              "    .dataframe tbody tr th:only-of-type {\n",
              "        vertical-align: middle;\n",
              "    }\n",
              "\n",
              "    .dataframe tbody tr th {\n",
              "        vertical-align: top;\n",
              "    }\n",
              "\n",
              "    .dataframe thead th {\n",
              "        text-align: right;\n",
              "    }\n",
              "</style>\n",
              "<table border=\"1\" class=\"dataframe\">\n",
              "  <thead>\n",
              "    <tr style=\"text-align: right;\">\n",
              "      <th></th>\n",
              "      <th>price</th>\n",
              "      <th>ridecost</th>\n",
              "      <th>profit</th>\n",
              "    </tr>\n",
              "  </thead>\n",
              "  <tbody>\n",
              "    <tr>\n",
              "      <th>0</th>\n",
              "      <td>5.0</td>\n",
              "      <td>0.22</td>\n",
              "      <td>4.78</td>\n",
              "    </tr>\n",
              "    <tr>\n",
              "      <th>1</th>\n",
              "      <td>11.0</td>\n",
              "      <td>0.22</td>\n",
              "      <td>10.78</td>\n",
              "    </tr>\n",
              "    <tr>\n",
              "      <th>2</th>\n",
              "      <td>7.0</td>\n",
              "      <td>0.22</td>\n",
              "      <td>6.78</td>\n",
              "    </tr>\n",
              "    <tr>\n",
              "      <th>3</th>\n",
              "      <td>26.0</td>\n",
              "      <td>0.22</td>\n",
              "      <td>25.78</td>\n",
              "    </tr>\n",
              "    <tr>\n",
              "      <th>4</th>\n",
              "      <td>9.0</td>\n",
              "      <td>0.22</td>\n",
              "      <td>8.78</td>\n",
              "    </tr>\n",
              "    <tr>\n",
              "      <th>...</th>\n",
              "      <td>...</td>\n",
              "      <td>...</td>\n",
              "      <td>...</td>\n",
              "    </tr>\n",
              "    <tr>\n",
              "      <th>693066</th>\n",
              "      <td>13.0</td>\n",
              "      <td>0.50</td>\n",
              "      <td>12.50</td>\n",
              "    </tr>\n",
              "    <tr>\n",
              "      <th>693067</th>\n",
              "      <td>9.5</td>\n",
              "      <td>0.50</td>\n",
              "      <td>9.00</td>\n",
              "    </tr>\n",
              "    <tr>\n",
              "      <th>693068</th>\n",
              "      <td>NaN</td>\n",
              "      <td>0.50</td>\n",
              "      <td>NaN</td>\n",
              "    </tr>\n",
              "    <tr>\n",
              "      <th>693069</th>\n",
              "      <td>27.0</td>\n",
              "      <td>0.50</td>\n",
              "      <td>26.50</td>\n",
              "    </tr>\n",
              "    <tr>\n",
              "      <th>693070</th>\n",
              "      <td>10.0</td>\n",
              "      <td>0.50</td>\n",
              "      <td>9.50</td>\n",
              "    </tr>\n",
              "  </tbody>\n",
              "</table>\n",
              "<p>693071 rows × 3 columns</p>\n",
              "</div>\n",
              "      <button class=\"colab-df-convert\" onclick=\"convertToInteractive('df-eb42c526-ccf5-4f16-9269-5175e5f9d75f')\"\n",
              "              title=\"Convert this dataframe to an interactive table.\"\n",
              "              style=\"display:none;\">\n",
              "        \n",
              "  <svg xmlns=\"http://www.w3.org/2000/svg\" height=\"24px\"viewBox=\"0 0 24 24\"\n",
              "       width=\"24px\">\n",
              "    <path d=\"M0 0h24v24H0V0z\" fill=\"none\"/>\n",
              "    <path d=\"M18.56 5.44l.94 2.06.94-2.06 2.06-.94-2.06-.94-.94-2.06-.94 2.06-2.06.94zm-11 1L8.5 8.5l.94-2.06 2.06-.94-2.06-.94L8.5 2.5l-.94 2.06-2.06.94zm10 10l.94 2.06.94-2.06 2.06-.94-2.06-.94-.94-2.06-.94 2.06-2.06.94z\"/><path d=\"M17.41 7.96l-1.37-1.37c-.4-.4-.92-.59-1.43-.59-.52 0-1.04.2-1.43.59L10.3 9.45l-7.72 7.72c-.78.78-.78 2.05 0 2.83L4 21.41c.39.39.9.59 1.41.59.51 0 1.02-.2 1.41-.59l7.78-7.78 2.81-2.81c.8-.78.8-2.07 0-2.86zM5.41 20L4 18.59l7.72-7.72 1.47 1.35L5.41 20z\"/>\n",
              "  </svg>\n",
              "      </button>\n",
              "      \n",
              "  <style>\n",
              "    .colab-df-container {\n",
              "      display:flex;\n",
              "      flex-wrap:wrap;\n",
              "      gap: 12px;\n",
              "    }\n",
              "\n",
              "    .colab-df-convert {\n",
              "      background-color: #E8F0FE;\n",
              "      border: none;\n",
              "      border-radius: 50%;\n",
              "      cursor: pointer;\n",
              "      display: none;\n",
              "      fill: #1967D2;\n",
              "      height: 32px;\n",
              "      padding: 0 0 0 0;\n",
              "      width: 32px;\n",
              "    }\n",
              "\n",
              "    .colab-df-convert:hover {\n",
              "      background-color: #E2EBFA;\n",
              "      box-shadow: 0px 1px 2px rgba(60, 64, 67, 0.3), 0px 1px 3px 1px rgba(60, 64, 67, 0.15);\n",
              "      fill: #174EA6;\n",
              "    }\n",
              "\n",
              "    [theme=dark] .colab-df-convert {\n",
              "      background-color: #3B4455;\n",
              "      fill: #D2E3FC;\n",
              "    }\n",
              "\n",
              "    [theme=dark] .colab-df-convert:hover {\n",
              "      background-color: #434B5C;\n",
              "      box-shadow: 0px 1px 3px 1px rgba(0, 0, 0, 0.15);\n",
              "      filter: drop-shadow(0px 1px 2px rgba(0, 0, 0, 0.3));\n",
              "      fill: #FFFFFF;\n",
              "    }\n",
              "  </style>\n",
              "\n",
              "      <script>\n",
              "        const buttonEl =\n",
              "          document.querySelector('#df-eb42c526-ccf5-4f16-9269-5175e5f9d75f button.colab-df-convert');\n",
              "        buttonEl.style.display =\n",
              "          google.colab.kernel.accessAllowed ? 'block' : 'none';\n",
              "\n",
              "        async function convertToInteractive(key) {\n",
              "          const element = document.querySelector('#df-eb42c526-ccf5-4f16-9269-5175e5f9d75f');\n",
              "          const dataTable =\n",
              "            await google.colab.kernel.invokeFunction('convertToInteractive',\n",
              "                                                     [key], {});\n",
              "          if (!dataTable) return;\n",
              "\n",
              "          const docLinkHtml = 'Like what you see? Visit the ' +\n",
              "            '<a target=\"_blank\" href=https://colab.research.google.com/notebooks/data_table.ipynb>data table notebook</a>'\n",
              "            + ' to learn more about interactive tables.';\n",
              "          element.innerHTML = '';\n",
              "          dataTable['output_type'] = 'display_data';\n",
              "          await google.colab.output.renderOutput(dataTable, element);\n",
              "          const docLink = document.createElement('div');\n",
              "          docLink.innerHTML = docLinkHtml;\n",
              "          element.appendChild(docLink);\n",
              "        }\n",
              "      </script>\n",
              "    </div>\n",
              "  </div>\n",
              "  "
            ]
          },
          "metadata": {},
          "execution_count": 8
        }
      ],
      "source": [
        "def ride_cost(distance, mpg):\n",
        "  gasoline_cost = (distance / (mpg/2))*3\n",
        "  maintenance_cost = .10*distance\n",
        "  depreciable_cost = .10*distance\n",
        "  total_cost = gasoline_cost + maintenance_cost + depreciable_cost\n",
        "  return(total_cost)\n",
        "\n",
        "ridecost = []\n",
        "\n",
        "for i in rs_data['distance']:\n",
        "  ridecost.append(ride_cost(i, 20))\n",
        "\n",
        "rs_data['ridecost'] = ridecost\n",
        "rs_data['profit'] = rs_data['price'] - rs_data['ridecost']\n",
        "pricesdata = rs_data[['price','ridecost','profit']]\n",
        "pricesdata"
      ]
    },
    {
      "cell_type": "markdown",
      "source": [
        "Barebones cost function implemented into a table containing price, ridecost, and expected profit.  Major improvements coming to this function in the future."
      ],
      "metadata": {
        "id": "HAzGfab_sbuG"
      }
    },
    {
      "cell_type": "code",
      "execution_count": null,
      "metadata": {
        "id": "7RYtnK9pEnbv",
        "colab": {
          "base_uri": "https://localhost:8080/",
          "height": 296
        },
        "outputId": "4540fd64-7b1b-4599-936c-80212a41e99f"
      },
      "outputs": [
        {
          "output_type": "execute_result",
          "data": {
            "text/plain": [
              "Text(0.5, 0, 'Distance')"
            ]
          },
          "metadata": {},
          "execution_count": 9
        },
        {
          "output_type": "display_data",
          "data": {
            "text/plain": [
              "<Figure size 432x288 with 1 Axes>"
            ],
            "image/png": "[encoded data removed]"
          },
          "metadata": {
            "needs_background": "light"
          }
        }
      ],
      "source": [
        "p_vs_d = rs_data.sample(1000)\n",
        "\n",
        "plt.scatter(p_vs_d['distance'], p_vs_d['price'])\n",
        "\n",
        "plt.ylabel(\"Price\")\n",
        "plt.xlabel(\"Distance\")"
      ]
    },
    {
      "cell_type": "markdown",
      "source": [
        "Plotting a random sample of 1000 price and distance points, visualizing relationship between price and distance."
      ],
      "metadata": {
        "id": "RUCGSglIsk1h"
      }
    },
    {
      "cell_type": "code",
      "execution_count": null,
      "metadata": {
        "id": "9t9s__g_a4Ye"
      },
      "outputs": [],
      "source": [
        "from datetime import datetime\n",
        "a = datetime.strptime(rs_data['datetime'][1], \"%Y-%m-%d %H:%M:%S\")\n",
        "weekday_list = []\n",
        "for i in range(len(rs_data['datetime'])):\n",
        "  weekday_list.append(datetime.strptime(rs_data['datetime'][i], \"%Y-%m-%d %H:%M:%S\").weekday())\n",
        "rs_data['weekday'] = weekday_list"
      ]
    },
    {
      "cell_type": "markdown",
      "metadata": {
        "id": "V0oGj8PGn7t3"
      },
      "source": [
        "0-6 corresponds to Monday(0) through Sunday(6)"
      ]
    },
    {
      "cell_type": "code",
      "execution_count": null,
      "metadata": {
        "id": "AKVDrt9NG_SZ",
        "colab": {
          "base_uri": "https://localhost:8080/"
        },
        "outputId": "4ab3ec7a-d4d9-47c8-8d67-203c718303ba"
      },
      "outputs": [
        {
          "output_type": "stream",
          "name": "stdout",
          "text": [
            "price               1.000000\n",
            "profit              0.998301\n",
            "distance            0.345061\n",
            "ridecost            0.345061\n",
            "surge_multiplier    0.240458\n",
            "latitude            0.002088\n",
            "visibility.1        0.001497\n",
            "Name: price, dtype: float64 \n",
            "\n",
            "moonPhase                -0.001602\n",
            "longitude                -0.001417\n",
            "windBearing              -0.001382\n",
            "humidity                 -0.001238\n",
            "day                      -0.000722\n",
            "dewPoint                 -0.000615\n",
            "apparentTemperatureMin   -0.000580\n",
            "Name: price, dtype: float64\n"
          ]
        }
      ],
      "source": [
        "rs_data_corr = rs_data.corr()\n",
        "print(rs_data_corr['price'].sort_values(ascending=False)[:7], '\\n')\n",
        "print(rs_data_corr['price'].sort_values(ascending=True)[:7])"
      ]
    },
    {
      "cell_type": "markdown",
      "source": [
        "Correlational values of top 7 strongest (+ and -) variables against price.  Weather data bares little to no correlation... but certain combination could prove more useful?  Still need to test for this.  Regardless, distance and surge_multiplier seem to have significant correlations, which is expected."
      ],
      "metadata": {
        "id": "9zEFEUQLstqZ"
      }
    },
    {
      "cell_type": "code",
      "execution_count": null,
      "metadata": {
        "id": "WPgkxzSSoBxr"
      },
      "outputs": [],
      "source": [
        "import collections\n",
        "\n",
        "def plot_metric(metric, x_ax, title):\n",
        "  metric = rs_data[metric].value_counts()\n",
        "  od = collections.OrderedDict(sorted(metric.items()))\n",
        "  metric1,count = [],[]\n",
        "  for i in od:\n",
        "    metric1.append(i)\n",
        "    count.append(od[i])\n",
        "\n",
        "  fig = plt.figure(figsize = (15, 10))\n",
        "  plt.bar(metric1,count)\n",
        "  plt.xlabel(x_ax)\n",
        "  plt.ylabel('Number of Rides')\n",
        "  plt.title(title)"
      ]
    },
    {
      "cell_type": "markdown",
      "source": [
        "Function to plot number of occurences of a given metric, in numerical order."
      ],
      "metadata": {
        "id": "8rm12convSjm"
      }
    },
    {
      "cell_type": "code",
      "execution_count": null,
      "metadata": {
        "id": "3Dl6VPcEqNhb",
        "colab": {
          "base_uri": "https://localhost:8080/",
          "height": 621
        },
        "outputId": "71cf37cd-c2e7-4b7c-8e2e-4db8257c9695"
      },
      "outputs": [
        {
          "output_type": "display_data",
          "data": {
            "text/plain": [
              "<Figure size 1080x720 with 1 Axes>"
            ],
            "image/png": "[encoded data removed]"
          },
          "metadata": {
            "needs_background": "light"
          }
        }
      ],
      "source": [
        "plot_metric('weekday', 'Day of Week (M = 0, T = 1, etc.)', 'Number of Rides by Day of Week')"
      ]
    },
    {
      "cell_type": "markdown",
      "source": [
        "Plotting number of rides by day of week."
      ],
      "metadata": {
        "id": "3aFVOJ4gvbhK"
      }
    },
    {
      "cell_type": "code",
      "execution_count": null,
      "metadata": {
        "id": "ilRF_oPTrHUw",
        "colab": {
          "base_uri": "https://localhost:8080/",
          "height": 621
        },
        "outputId": "120ebd01-010d-4f65-d834-fd355bfa741d"
      },
      "outputs": [
        {
          "output_type": "display_data",
          "data": {
            "text/plain": [
              "<Figure size 1080x720 with 1 Axes>"
            ],
            "image/png": "[encoded data removed]"
          },
          "metadata": {
            "needs_background": "light"
          }
        }
      ],
      "source": [
        "plot_metric('hour', 'Hour of Day', 'Number of Rides by Hour of Day')"
      ]
    },
    {
      "cell_type": "markdown",
      "source": [
        "Plotting number of rides by hour of day."
      ],
      "metadata": {
        "id": "BLl8m7g-vens"
      }
    },
    {
      "cell_type": "markdown",
      "metadata": {
        "id": "2-1XDFIz4kFp"
      },
      "source": [
        "### **MPG vs. Car Make & Model**\n",
        "\n",
        "---\n",
        "\n",
        "This data will be used when we make use of our cost function in order to accurately predict how much it will cost each driver to drive for Rideshare companies."
      ]
    },
    {
      "cell_type": "code",
      "source": [
        "# Download Data Set of Various Car Companies and Models\n",
        "od.download(\"https://www.kaggle.com/datasets/adityadesai13/used-car-dataset-ford-and-mercedes?select=hyundi.csv\")"
      ],
      "metadata": {
        "colab": {
          "base_uri": "https://localhost:8080/"
        },
        "id": "L8dBAiLJ4yFj",
        "outputId": "37b0983f-223c-4f42-a2f5-98fb8ef70dc9"
      },
      "execution_count": null,
      "outputs": [
        {
          "output_type": "stream",
          "name": "stdout",
          "text": [
            "Please provide your Kaggle credentials to download this dataset. Learn more: http://bit.ly/kaggle-creds\n",
            "Your Kaggle username: blakeandersonw\n",
            "Your Kaggle Key: ··········\n",
            "Downloading used-car-dataset-ford-and-mercedes.zip to ./used-car-dataset-ford-and-mercedes\n"
          ]
        },
        {
          "output_type": "stream",
          "name": "stderr",
          "text": [
            "100%|██████████| 1.10M/1.10M [00:00<00:00, 43.8MB/s]"
          ]
        },
        {
          "output_type": "stream",
          "name": "stdout",
          "text": [
            "\n"
          ]
        },
        {
          "output_type": "stream",
          "name": "stderr",
          "text": [
            "\n"
          ]
        }
      ]
    },
    {
      "cell_type": "markdown",
      "source": [
        "Kaggle Key -- {\"username\":\"blakeandersonw\",\"key\":\"5c7b7542c5ad7af0d6015b98bfa868b4\"}"
      ],
      "metadata": {
        "id": "jjtWGAQW5Wpq"
      }
    },
    {
      "cell_type": "code",
      "source": [
        "# Download the different car companies' data\n",
        "# Clean the data\n",
        "# Delete any unused columns\n",
        "\n",
        "from IPython.core.formatters import format_display_data\n",
        "import pandas as pd\n",
        "import numpy as np\n",
        "\n",
        "# Get the individual datasets for each car company\n",
        "audi_data = pd.read_csv(\"/content/uber-fares-dataset/used-car-dataset-ford-and-mercedes/audi.csv\")\n",
        "bmw_data = pd.read_csv(\"/content/uber-fares-dataset/used-car-dataset-ford-and-mercedes/bmw.csv\")\n",
        "ford_data = pd.read_csv(\"/content/uber-fares-dataset/used-car-dataset-ford-and-mercedes/ford.csv\")\n",
        "hyundai_data = pd.read_csv(\"/content/uber-fares-dataset/used-car-dataset-ford-and-mercedes/hyundi.csv\")\n",
        "merc_data = pd.read_csv(\"/content/uber-fares-dataset/used-car-dataset-ford-and-mercedes/merc.csv\")\n",
        "skkoda_data = pd.read_csv(\"/content/uber-fares-dataset/used-car-dataset-ford-and-mercedes/skoda.csv\")\n",
        "toyota_data = pd.read_csv(\"/content/uber-fares-dataset/used-car-dataset-ford-and-mercedes/toyota.csv\")\n",
        "vauxhall_data = pd.read_csv(\"//content/uber-fares-dataset/used-car-dataset-ford-and-mercedes/vauxhall.csv\")\n",
        "vw_data = pd.read_csv(\"/content/uber-fares-dataset/used-car-dataset-ford-and-mercedes/vw.csv\")\n",
        "\n",
        "\n",
        "# delete extra columns\n",
        "audi_data.drop(columns=['price', 'transmission', 'tax', 'engineSize', 'mileage'], inplace=True)\n",
        "bmw_data.drop(columns=['price', 'transmission', 'tax', 'engineSize', 'mileage'], inplace=True)\n",
        "ford_data.drop(columns=['price', 'transmission', 'tax', 'engineSize', 'mileage'], inplace=True)\n",
        "hyundai_data.drop(columns=['price', 'transmission', 'tax(£)', 'engineSize', 'mileage'], inplace=True)\n",
        "merc_data.drop(columns=['price', 'transmission', 'tax', 'engineSize', 'mileage'], inplace=True)\n",
        "skkoda_data.drop(columns=['price', 'transmission', 'tax', 'engineSize', 'mileage'], inplace=True)\n",
        "toyota_data.drop(columns=['price', 'transmission', 'tax', 'engineSize', 'mileage'], inplace=True)\n",
        "vauxhall_data.drop(columns=['price', 'transmission', 'tax', 'engineSize', 'mileage'], inplace=True)\n",
        "vw_data.drop(columns=['price', 'transmission', 'tax', 'engineSize', 'mileage'], inplace=True)\n",
        "\n",
        "# add the company name to all the dataframes\n",
        "audi_data['carType'] = \"Audi\"\n",
        "bmw_data['carType'] = \"BMW\"\n",
        "ford_data['carType'] = \"Ford\"\n",
        "hyundai_data['carType'] = \"Hyundai\"\n",
        "merc_data['carType'] = \"Mercedes\"\n",
        "skkoda_data['carType'] = \"Skkoda\"\n",
        "toyota_data['carType'] = \"Toyota\"\n",
        "vauxhall_data['carType'] = \"Vauxhall\"\n",
        "vw_data['carType'] = \"Volkswagen\"\n",
        "\n",
        "# reorder columns\n",
        "audi_data = audi_data[['carType', 'model', 'year', 'mpg', 'fuelType']]\n",
        "bmw_data = bmw_data[['carType', 'model', 'year', 'mpg', 'fuelType']]\n",
        "ford_data = ford_data[['carType', 'model', 'year', 'mpg', 'fuelType']]\n",
        "hyundai_data = hyundai_data[['carType', 'model', 'year', 'mpg', 'fuelType']]\n",
        "merc_data = merc_data[['carType', 'model', 'year', 'mpg', 'fuelType']]\n",
        "skkoda_data = skkoda_data[['carType', 'model', 'year', 'mpg', 'fuelType']]\n",
        "toyota_data = toyota_data[['carType', 'model', 'year', 'mpg', 'fuelType']]\n",
        "vauxhall_data = vauxhall_data[['carType', 'model', 'year', 'mpg', 'fuelType']]\n",
        "vw_data = vw_data[['carType', 'model', 'year', 'mpg', 'fuelType']]\n",
        "\n",
        "# check for any NaN inputs\n",
        "audi_data.isnull().any()\n",
        "bmw_data.isnull().any()\n",
        "ford_data.isnull().any()\n",
        "hyundai_data.isnull().any()\n",
        "merc_data.isnull().any()\n",
        "skkoda_data.isnull().any()\n",
        "toyota_data.isnull().any()\n",
        "vauxhall_data.isnull().any()\n",
        "vw_data.isnull().any()"
      ],
      "metadata": {
        "id": "pndp1ztl49v6",
        "colab": {
          "base_uri": "https://localhost:8080/",
          "height": 375
        },
        "outputId": "15900fe1-bea3-4067-f9c1-97caeedc2c1e"
      },
      "execution_count": null,
      "outputs": [
        {
          "output_type": "error",
          "ename": "FileNotFoundError",
          "evalue": "ignored",
          "traceback": [
            "\u001b[0;31m---------------------------------------------------------------------------\u001b[0m",
            "\u001b[0;31mFileNotFoundError\u001b[0m                         Traceback (most recent call last)",
            "\u001b[0;32m<ipython-input-18-1375fc686914>\u001b[0m in \u001b[0;36m<module>\u001b[0;34m\u001b[0m\n\u001b[1;32m      8\u001b[0m \u001b[0;34m\u001b[0m\u001b[0m\n\u001b[1;32m      9\u001b[0m \u001b[0;31m# Get the individual datasets for each car company\u001b[0m\u001b[0;34m\u001b[0m\u001b[0;34m\u001b[0m\u001b[0;34m\u001b[0m\u001b[0m\n\u001b[0;32m---> 10\u001b[0;31m \u001b[0maudi_data\u001b[0m \u001b[0;34m=\u001b[0m \u001b[0mpd\u001b[0m\u001b[0;34m.\u001b[0m\u001b[0mread_csv\u001b[0m\u001b[0;34m(\u001b[0m\u001b[0;34m\"/content/uber-fares-dataset/used-car-dataset-ford-and-mercedes/audi.csv\"\u001b[0m\u001b[0;34m)\u001b[0m\u001b[0;34m\u001b[0m\u001b[0;34m\u001b[0m\u001b[0m\n\u001b[0m\u001b[1;32m     11\u001b[0m \u001b[0mbmw_data\u001b[0m \u001b[0;34m=\u001b[0m \u001b[0mpd\u001b[0m\u001b[0;34m.\u001b[0m\u001b[0mread_csv\u001b[0m\u001b[0;34m(\u001b[0m\u001b[0;34m\"/content/uber-fares-dataset/used-car-dataset-ford-and-mercedes/bmw.csv\"\u001b[0m\u001b[0;34m)\u001b[0m\u001b[0;34m\u001b[0m\u001b[0;34m\u001b[0m\u001b[0m\n\u001b[1;32m     12\u001b[0m \u001b[0mford_data\u001b[0m \u001b[0;34m=\u001b[0m \u001b[0mpd\u001b[0m\u001b[0;34m.\u001b[0m\u001b[0mread_csv\u001b[0m\u001b[0;34m(\u001b[0m\u001b[0;34m\"/content/uber-fares-dataset/used-car-dataset-ford-and-mercedes/ford.csv\"\u001b[0m\u001b[0;34m)\u001b[0m\u001b[0;34m\u001b[0m\u001b[0;34m\u001b[0m\u001b[0m\n",
            "\u001b[0;32m/usr/local/lib/python3.7/dist-packages/pandas/util/_decorators.py\u001b[0m in \u001b[0;36mwrapper\u001b[0;34m(*args, **kwargs)\u001b[0m\n\u001b[1;32m    309\u001b[0m                     \u001b[0mstacklevel\u001b[0m\u001b[0;34m=\u001b[0m\u001b[0mstacklevel\u001b[0m\u001b[0;34m,\u001b[0m\u001b[0;34m\u001b[0m\u001b[0;34m\u001b[0m\u001b[0m\n\u001b[1;32m    310\u001b[0m                 )\n\u001b[0;32m--> 311\u001b[0;31m             \u001b[0;32mreturn\u001b[0m \u001b[0mfunc\u001b[0m\u001b[0;34m(\u001b[0m\u001b[0;34m*\u001b[0m\u001b[0margs\u001b[0m\u001b[0;34m,\u001b[0m \u001b[0;34m**\u001b[0m\u001b[0mkwargs\u001b[0m\u001b[0;34m)\u001b[0m\u001b[0;34m\u001b[0m\u001b[0;34m\u001b[0m\u001b[0m\n\u001b[0m\u001b[1;32m    312\u001b[0m \u001b[0;34m\u001b[0m\u001b[0m\n\u001b[1;32m    313\u001b[0m         \u001b[0;32mreturn\u001b[0m \u001b[0mwrapper\u001b[0m\u001b[0;34m\u001b[0m\u001b[0;34m\u001b[0m\u001b[0m\n",
            "\u001b[0;32m/usr/local/lib/python3.7/dist-packages/pandas/io/parsers/readers.py\u001b[0m in \u001b[0;36mread_csv\u001b[0;34m(filepath_or_buffer, sep, delimiter, header, names, index_col, usecols, squeeze, prefix, mangle_dupe_cols, dtype, engine, converters, true_values, false_values, skipinitialspace, skiprows, skipfooter, nrows, na_values, keep_default_na, na_filter, verbose, skip_blank_lines, parse_dates, infer_datetime_format, keep_date_col, date_parser, dayfirst, cache_dates, iterator, chunksize, compression, thousands, decimal, lineterminator, quotechar, quoting, doublequote, escapechar, comment, encoding, encoding_errors, dialect, error_bad_lines, warn_bad_lines, on_bad_lines, delim_whitespace, low_memory, memory_map, float_precision, storage_options)\u001b[0m\n\u001b[1;32m    584\u001b[0m     \u001b[0mkwds\u001b[0m\u001b[0;34m.\u001b[0m\u001b[0mupdate\u001b[0m\u001b[0;34m(\u001b[0m\u001b[0mkwds_defaults\u001b[0m\u001b[0;34m)\u001b[0m\u001b[0;34m\u001b[0m\u001b[0;34m\u001b[0m\u001b[0m\n\u001b[1;32m    585\u001b[0m \u001b[0;34m\u001b[0m\u001b[0m\n\u001b[0;32m--> 586\u001b[0;31m     \u001b[0;32mreturn\u001b[0m \u001b[0m_read\u001b[0m\u001b[0;34m(\u001b[0m\u001b[0mfilepath_or_buffer\u001b[0m\u001b[0;34m,\u001b[0m \u001b[0mkwds\u001b[0m\u001b[0;34m)\u001b[0m\u001b[0;34m\u001b[0m\u001b[0;34m\u001b[0m\u001b[0m\n\u001b[0m\u001b[1;32m    587\u001b[0m \u001b[0;34m\u001b[0m\u001b[0m\n\u001b[1;32m    588\u001b[0m \u001b[0;34m\u001b[0m\u001b[0m\n",
            "\u001b[0;32m/usr/local/lib/python3.7/dist-packages/pandas/io/parsers/readers.py\u001b[0m in \u001b[0;36m_read\u001b[0;34m(filepath_or_buffer, kwds)\u001b[0m\n\u001b[1;32m    480\u001b[0m \u001b[0;34m\u001b[0m\u001b[0m\n\u001b[1;32m    481\u001b[0m     \u001b[0;31m# Create the parser.\u001b[0m\u001b[0;34m\u001b[0m\u001b[0;34m\u001b[0m\u001b[0;34m\u001b[0m\u001b[0m\n\u001b[0;32m--> 482\u001b[0;31m     \u001b[0mparser\u001b[0m \u001b[0;34m=\u001b[0m \u001b[0mTextFileReader\u001b[0m\u001b[0;34m(\u001b[0m\u001b[0mfilepath_or_buffer\u001b[0m\u001b[0;34m,\u001b[0m \u001b[0;34m**\u001b[0m\u001b[0mkwds\u001b[0m\u001b[0;34m)\u001b[0m\u001b[0;34m\u001b[0m\u001b[0;34m\u001b[0m\u001b[0m\n\u001b[0m\u001b[1;32m    483\u001b[0m \u001b[0;34m\u001b[0m\u001b[0m\n\u001b[1;32m    484\u001b[0m     \u001b[0;32mif\u001b[0m \u001b[0mchunksize\u001b[0m \u001b[0;32mor\u001b[0m \u001b[0miterator\u001b[0m\u001b[0;34m:\u001b[0m\u001b[0;34m\u001b[0m\u001b[0;34m\u001b[0m\u001b[0m\n",
            "\u001b[0;32m/usr/local/lib/python3.7/dist-packages/pandas/io/parsers/readers.py\u001b[0m in \u001b[0;36m__init__\u001b[0;34m(self, f, engine, **kwds)\u001b[0m\n\u001b[1;32m    809\u001b[0m             \u001b[0mself\u001b[0m\u001b[0;34m.\u001b[0m\u001b[0moptions\u001b[0m\u001b[0;34m[\u001b[0m\u001b[0;34m\"has_index_names\"\u001b[0m\u001b[0;34m]\u001b[0m \u001b[0;34m=\u001b[0m \u001b[0mkwds\u001b[0m\u001b[0;34m[\u001b[0m\u001b[0;34m\"has_index_names\"\u001b[0m\u001b[0;34m]\u001b[0m\u001b[0;34m\u001b[0m\u001b[0;34m\u001b[0m\u001b[0m\n\u001b[1;32m    810\u001b[0m \u001b[0;34m\u001b[0m\u001b[0m\n\u001b[0;32m--> 811\u001b[0;31m         \u001b[0mself\u001b[0m\u001b[0;34m.\u001b[0m\u001b[0m_engine\u001b[0m \u001b[0;34m=\u001b[0m \u001b[0mself\u001b[0m\u001b[0;34m.\u001b[0m\u001b[0m_make_engine\u001b[0m\u001b[0;34m(\u001b[0m\u001b[0mself\u001b[0m\u001b[0;34m.\u001b[0m\u001b[0mengine\u001b[0m\u001b[0;34m)\u001b[0m\u001b[0;34m\u001b[0m\u001b[0;34m\u001b[0m\u001b[0m\n\u001b[0m\u001b[1;32m    812\u001b[0m \u001b[0;34m\u001b[0m\u001b[0m\n\u001b[1;32m    813\u001b[0m     \u001b[0;32mdef\u001b[0m \u001b[0mclose\u001b[0m\u001b[0;34m(\u001b[0m\u001b[0mself\u001b[0m\u001b[0;34m)\u001b[0m\u001b[0;34m:\u001b[0m\u001b[0;34m\u001b[0m\u001b[0;34m\u001b[0m\u001b[0m\n",
            "\u001b[0;32m/usr/local/lib/python3.7/dist-packages/pandas/io/parsers/readers.py\u001b[0m in \u001b[0;36m_make_engine\u001b[0;34m(self, engine)\u001b[0m\n\u001b[1;32m   1038\u001b[0m             )\n\u001b[1;32m   1039\u001b[0m         \u001b[0;31m# error: Too many arguments for \"ParserBase\"\u001b[0m\u001b[0;34m\u001b[0m\u001b[0;34m\u001b[0m\u001b[0;34m\u001b[0m\u001b[0m\n\u001b[0;32m-> 1040\u001b[0;31m         \u001b[0;32mreturn\u001b[0m \u001b[0mmapping\u001b[0m\u001b[0;34m[\u001b[0m\u001b[0mengine\u001b[0m\u001b[0;34m]\u001b[0m\u001b[0;34m(\u001b[0m\u001b[0mself\u001b[0m\u001b[0;34m.\u001b[0m\u001b[0mf\u001b[0m\u001b[0;34m,\u001b[0m \u001b[0;34m**\u001b[0m\u001b[0mself\u001b[0m\u001b[0;34m.\u001b[0m\u001b[0moptions\u001b[0m\u001b[0;34m)\u001b[0m  \u001b[0;31m# type: ignore[call-arg]\u001b[0m\u001b[0;34m\u001b[0m\u001b[0;34m\u001b[0m\u001b[0m\n\u001b[0m\u001b[1;32m   1041\u001b[0m \u001b[0;34m\u001b[0m\u001b[0m\n\u001b[1;32m   1042\u001b[0m     \u001b[0;32mdef\u001b[0m \u001b[0m_failover_to_python\u001b[0m\u001b[0;34m(\u001b[0m\u001b[0mself\u001b[0m\u001b[0;34m)\u001b[0m\u001b[0;34m:\u001b[0m\u001b[0;34m\u001b[0m\u001b[0;34m\u001b[0m\u001b[0m\n",
            "\u001b[0;32m/usr/local/lib/python3.7/dist-packages/pandas/io/parsers/c_parser_wrapper.py\u001b[0m in \u001b[0;36m__init__\u001b[0;34m(self, src, **kwds)\u001b[0m\n\u001b[1;32m     49\u001b[0m \u001b[0;34m\u001b[0m\u001b[0m\n\u001b[1;32m     50\u001b[0m         \u001b[0;31m# open handles\u001b[0m\u001b[0;34m\u001b[0m\u001b[0;34m\u001b[0m\u001b[0;34m\u001b[0m\u001b[0m\n\u001b[0;32m---> 51\u001b[0;31m         \u001b[0mself\u001b[0m\u001b[0;34m.\u001b[0m\u001b[0m_open_handles\u001b[0m\u001b[0;34m(\u001b[0m\u001b[0msrc\u001b[0m\u001b[0;34m,\u001b[0m \u001b[0mkwds\u001b[0m\u001b[0;34m)\u001b[0m\u001b[0;34m\u001b[0m\u001b[0;34m\u001b[0m\u001b[0m\n\u001b[0m\u001b[1;32m     52\u001b[0m         \u001b[0;32massert\u001b[0m \u001b[0mself\u001b[0m\u001b[0;34m.\u001b[0m\u001b[0mhandles\u001b[0m \u001b[0;32mis\u001b[0m \u001b[0;32mnot\u001b[0m \u001b[0;32mNone\u001b[0m\u001b[0;34m\u001b[0m\u001b[0;34m\u001b[0m\u001b[0m\n\u001b[1;32m     53\u001b[0m \u001b[0;34m\u001b[0m\u001b[0m\n",
            "\u001b[0;32m/usr/local/lib/python3.7/dist-packages/pandas/io/parsers/base_parser.py\u001b[0m in \u001b[0;36m_open_handles\u001b[0;34m(self, src, kwds)\u001b[0m\n\u001b[1;32m    227\u001b[0m             \u001b[0mmemory_map\u001b[0m\u001b[0;34m=\u001b[0m\u001b[0mkwds\u001b[0m\u001b[0;34m.\u001b[0m\u001b[0mget\u001b[0m\u001b[0;34m(\u001b[0m\u001b[0;34m\"memory_map\"\u001b[0m\u001b[0;34m,\u001b[0m \u001b[0;32mFalse\u001b[0m\u001b[0;34m)\u001b[0m\u001b[0;34m,\u001b[0m\u001b[0;34m\u001b[0m\u001b[0;34m\u001b[0m\u001b[0m\n\u001b[1;32m    228\u001b[0m             \u001b[0mstorage_options\u001b[0m\u001b[0;34m=\u001b[0m\u001b[0mkwds\u001b[0m\u001b[0;34m.\u001b[0m\u001b[0mget\u001b[0m\u001b[0;34m(\u001b[0m\u001b[0;34m\"storage_options\"\u001b[0m\u001b[0;34m,\u001b[0m \u001b[0;32mNone\u001b[0m\u001b[0;34m)\u001b[0m\u001b[0;34m,\u001b[0m\u001b[0;34m\u001b[0m\u001b[0;34m\u001b[0m\u001b[0m\n\u001b[0;32m--> 229\u001b[0;31m             \u001b[0merrors\u001b[0m\u001b[0;34m=\u001b[0m\u001b[0mkwds\u001b[0m\u001b[0;34m.\u001b[0m\u001b[0mget\u001b[0m\u001b[0;34m(\u001b[0m\u001b[0;34m\"encoding_errors\"\u001b[0m\u001b[0;34m,\u001b[0m \u001b[0;34m\"strict\"\u001b[0m\u001b[0;34m)\u001b[0m\u001b[0;34m,\u001b[0m\u001b[0;34m\u001b[0m\u001b[0;34m\u001b[0m\u001b[0m\n\u001b[0m\u001b[1;32m    230\u001b[0m         )\n\u001b[1;32m    231\u001b[0m \u001b[0;34m\u001b[0m\u001b[0m\n",
            "\u001b[0;32m/usr/local/lib/python3.7/dist-packages/pandas/io/common.py\u001b[0m in \u001b[0;36mget_handle\u001b[0;34m(path_or_buf, mode, encoding, compression, memory_map, is_text, errors, storage_options)\u001b[0m\n\u001b[1;32m    705\u001b[0m                 \u001b[0mencoding\u001b[0m\u001b[0;34m=\u001b[0m\u001b[0mioargs\u001b[0m\u001b[0;34m.\u001b[0m\u001b[0mencoding\u001b[0m\u001b[0;34m,\u001b[0m\u001b[0;34m\u001b[0m\u001b[0;34m\u001b[0m\u001b[0m\n\u001b[1;32m    706\u001b[0m                 \u001b[0merrors\u001b[0m\u001b[0;34m=\u001b[0m\u001b[0merrors\u001b[0m\u001b[0;34m,\u001b[0m\u001b[0;34m\u001b[0m\u001b[0;34m\u001b[0m\u001b[0m\n\u001b[0;32m--> 707\u001b[0;31m                 \u001b[0mnewline\u001b[0m\u001b[0;34m=\u001b[0m\u001b[0;34m\"\"\u001b[0m\u001b[0;34m,\u001b[0m\u001b[0;34m\u001b[0m\u001b[0;34m\u001b[0m\u001b[0m\n\u001b[0m\u001b[1;32m    708\u001b[0m             )\n\u001b[1;32m    709\u001b[0m         \u001b[0;32melse\u001b[0m\u001b[0;34m:\u001b[0m\u001b[0;34m\u001b[0m\u001b[0;34m\u001b[0m\u001b[0m\n",
            "\u001b[0;31mFileNotFoundError\u001b[0m: [Errno 2] No such file or directory: '/content/uber-fares-dataset/used-car-dataset-ford-and-mercedes/audi.csv'"
          ]
        }
      ]
    },
    {
      "cell_type": "code",
      "source": [
        "# Merge the different data tables into one complete table\n",
        "# Get the average MPG by car make, model, and year\n",
        "\n",
        "merge_items = [\"carType\", \"model\", \"year\", \"mpg\", \"fuelType\"]\n",
        "\n",
        "# merge all the dataframes\n",
        "cars_outer = audi_data.merge(bmw_data, on=merge_items, how=\"outer\").merge(\n",
        "    ford_data, on=merge_items, how=\"outer\").merge(hyundai_data, on=merge_items, how=\"outer\").merge(\n",
        "        merc_data, on=merge_items, how=\"outer\").merge(skkoda_data, on=merge_items, how=\"outer\").merge(\n",
        "            toyota_data, on=merge_items, how=\"outer\").merge(vauxhall_data, on=merge_items, how=\"outer\").merge(\n",
        "                vw_data, on=merge_items, how=\"outer\")\n",
        "\n",
        "# random sample from merged dataframe\n",
        "cars_outer = cars_outer.sample(n=200)\n",
        "\n",
        "# Groupby car make, model, and year to get the average MPG\n",
        "# Plot to see distribution of mpg amongst random car makes and models\n",
        "cars_outer.groupby(['carType', 'model', 'year'])[['mpg']].mean().plot.hist(bins=25)"
      ],
      "metadata": {
        "id": "i_h7mFwM5G7s",
        "colab": {
          "base_uri": "https://localhost:8080/",
          "height": 232
        },
        "outputId": "3a1803e1-fcba-4413-e9fd-0a61d18b0ddf"
      },
      "execution_count": null,
      "outputs": [
        {
          "output_type": "error",
          "ename": "NameError",
          "evalue": "ignored",
          "traceback": [
            "\u001b[0;31m---------------------------------------------------------------------------\u001b[0m",
            "\u001b[0;31mNameError\u001b[0m                                 Traceback (most recent call last)",
            "\u001b[0;32m<ipython-input-19-4e93b85dd51c>\u001b[0m in \u001b[0;36m<module>\u001b[0;34m\u001b[0m\n\u001b[1;32m      5\u001b[0m \u001b[0;34m\u001b[0m\u001b[0m\n\u001b[1;32m      6\u001b[0m \u001b[0;31m# merge all the dataframes\u001b[0m\u001b[0;34m\u001b[0m\u001b[0;34m\u001b[0m\u001b[0;34m\u001b[0m\u001b[0m\n\u001b[0;32m----> 7\u001b[0;31m cars_outer = audi_data.merge(bmw_data, on=merge_items, how=\"outer\").merge(\n\u001b[0m\u001b[1;32m      8\u001b[0m     \u001b[0mford_data\u001b[0m\u001b[0;34m,\u001b[0m \u001b[0mon\u001b[0m\u001b[0;34m=\u001b[0m\u001b[0mmerge_items\u001b[0m\u001b[0;34m,\u001b[0m \u001b[0mhow\u001b[0m\u001b[0;34m=\u001b[0m\u001b[0;34m\"outer\"\u001b[0m\u001b[0;34m)\u001b[0m\u001b[0;34m.\u001b[0m\u001b[0mmerge\u001b[0m\u001b[0;34m(\u001b[0m\u001b[0mhyundai_data\u001b[0m\u001b[0;34m,\u001b[0m \u001b[0mon\u001b[0m\u001b[0;34m=\u001b[0m\u001b[0mmerge_items\u001b[0m\u001b[0;34m,\u001b[0m \u001b[0mhow\u001b[0m\u001b[0;34m=\u001b[0m\u001b[0;34m\"outer\"\u001b[0m\u001b[0;34m)\u001b[0m\u001b[0;34m.\u001b[0m\u001b[0mmerge\u001b[0m\u001b[0;34m(\u001b[0m\u001b[0;34m\u001b[0m\u001b[0;34m\u001b[0m\u001b[0m\n\u001b[1;32m      9\u001b[0m         \u001b[0mmerc_data\u001b[0m\u001b[0;34m,\u001b[0m \u001b[0mon\u001b[0m\u001b[0;34m=\u001b[0m\u001b[0mmerge_items\u001b[0m\u001b[0;34m,\u001b[0m \u001b[0mhow\u001b[0m\u001b[0;34m=\u001b[0m\u001b[0;34m\"outer\"\u001b[0m\u001b[0;34m)\u001b[0m\u001b[0;34m.\u001b[0m\u001b[0mmerge\u001b[0m\u001b[0;34m(\u001b[0m\u001b[0mskkoda_data\u001b[0m\u001b[0;34m,\u001b[0m \u001b[0mon\u001b[0m\u001b[0;34m=\u001b[0m\u001b[0mmerge_items\u001b[0m\u001b[0;34m,\u001b[0m \u001b[0mhow\u001b[0m\u001b[0;34m=\u001b[0m\u001b[0;34m\"outer\"\u001b[0m\u001b[0;34m)\u001b[0m\u001b[0;34m.\u001b[0m\u001b[0mmerge\u001b[0m\u001b[0;34m(\u001b[0m\u001b[0;34m\u001b[0m\u001b[0;34m\u001b[0m\u001b[0m\n",
            "\u001b[0;31mNameError\u001b[0m: name 'audi_data' is not defined"
          ]
        }
      ]
    }
  ],
  "metadata": {
    "colab": {
      "provenance": []
    },
    "kernelspec": {
      "display_name": "Python 3",
      "name": "python3"
    },
    "language_info": {
      "name": "python"
    }
  },
  "nbformat": 4,
  "nbformat_minor": 0
}